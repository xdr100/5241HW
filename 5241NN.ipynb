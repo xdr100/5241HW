{
  "nbformat": 4,
  "nbformat_minor": 0,
  "metadata": {
    "colab": {
      "name": "5241NN.ipynb",
      "provenance": [],
      "collapsed_sections": [],
      "toc_visible": true,
      "include_colab_link": true
    },
    "kernelspec": {
      "name": "python3",
      "display_name": "Python 3"
    },
    "accelerator": "GPU"
  },
  "cells": [
    {
      "cell_type": "markdown",
      "metadata": {
        "id": "view-in-github",
        "colab_type": "text"
      },
      "source": [
        "<a href=\"https://colab.research.google.com/github/xdr100/5241HW/blob/main/5241NN.ipynb\" target=\"_parent\"><img src=\"https://colab.research.google.com/assets/colab-badge.svg\" alt=\"Open In Colab\"/></a>"
      ]
    },
    {
      "cell_type": "markdown",
      "metadata": {
        "id": "XMVY7QN5COT5"
      },
      "source": [
        "Don't forget to enable GPU:    \n",
        "Edit > Notebook settings or Runtime>Change runtime type    \n",
        "and select GPU as Hardware accelerator."
      ]
    },
    {
      "cell_type": "code",
      "metadata": {
        "colab": {
          "base_uri": "https://localhost:8080/"
        },
        "id": "vvoPbwNBCMa4",
        "outputId": "e112ee14-39c1-419e-c37c-b92bee3f9f4a"
      },
      "source": [
        "import torch\n",
        "import torch.optim as optim\n",
        "import torch.nn as nn\n",
        "import torch.nn.functional as F\n",
        "import numpy as np\n",
        "import pandas as pd\n",
        "import seaborn as sns\n",
        "import matplotlib.pylab as plt\n",
        "from sklearn import preprocessing\n",
        "from sklearn.model_selection import train_test_split\n",
        "from tqdm import tqdm as tq\n",
        "from sklearn.metrics import cohen_kappa_score\n",
        "from sklearn.metrics import confusion_matrix\n",
        "from google.colab import files\n",
        "from imblearn.over_sampling import SMOTE\n",
        "from collections import Counter\n",
        "import statistics\n",
        "\n",
        "train_on_gpu = torch.cuda.is_available()\n",
        "\n",
        "if not train_on_gpu:\n",
        "    print('CUDA is not available.  Training on CPU ...')\n",
        "else:\n",
        "    print('CUDA is available!  Training on GPU ...')"
      ],
      "execution_count": 42,
      "outputs": [
        {
          "output_type": "stream",
          "text": [
            "CUDA is available!  Training on GPU ...\n"
          ],
          "name": "stdout"
        }
      ]
    },
    {
      "cell_type": "markdown",
      "metadata": {
        "id": "knahGSpgSdT6"
      },
      "source": [
        "# Import Data"
      ]
    },
    {
      "cell_type": "code",
      "metadata": {
        "id": "ngnGhT8EDhVc"
      },
      "source": [
        "#url of the dataset from our GitHub repository\n",
        "url_red=\"https://raw.githubusercontent.com/JMGilbert/STAT4241-Final-Project/main/winequality-red.csv\"\n",
        "url_white=\"https://raw.githubusercontent.com/JMGilbert/STAT4241-Final-Project/main/winequality-white.csv\"\n",
        "red=pd.read_csv(url_red,sep=';')\n",
        "white=pd.read_csv(url_white,sep=';')"
      ],
      "execution_count": 43,
      "outputs": []
    },
    {
      "cell_type": "code",
      "metadata": {
        "colab": {
          "base_uri": "https://localhost:8080/",
          "height": 299
        },
        "id": "Q87zDm50H9cy",
        "outputId": "a3f12369-8c85-441e-f2c9-57b8d9ba910e"
      },
      "source": [
        "plt.subplot(1,2,1).set_title(\"Red wine\")\n",
        "plt.bar(list(set(red[\"quality\"])),red[\"quality\"].value_counts(sort=False).sort_index())\n",
        "plt.subplot(1,2,2).set_title(\"White wine\")\n",
        "plt.bar(list(set(white[\"quality\"])),white[\"quality\"].value_counts(sort=False).sort_index())"
      ],
      "execution_count": 44,
      "outputs": [
        {
          "output_type": "execute_result",
          "data": {
            "text/plain": [
              "<BarContainer object of 7 artists>"
            ]
          },
          "metadata": {
            "tags": []
          },
          "execution_count": 44
        },
        {
          "output_type": "display_data",
          "data": {
            "image/png": "[encoded data removed]",
            "text/plain": [
              "<Figure size 432x288 with 2 Axes>"
            ]
          },
          "metadata": {
            "tags": [],
            "needs_background": "light"
          }
        }
      ]
    },
    {
      "cell_type": "code",
      "metadata": {
        "colab": {
          "base_uri": "https://localhost:8080/"
        },
        "id": "wr-vW4dcJmCm",
        "outputId": "e63460d3-c31d-432f-f758-d3a282f0f295"
      },
      "source": [
        "print(white.isnull().values.any())\n",
        "print(red.isnull().values.any())"
      ],
      "execution_count": 45,
      "outputs": [
        {
          "output_type": "stream",
          "text": [
            "False\n",
            "False\n"
          ],
          "name": "stdout"
        }
      ]
    },
    {
      "cell_type": "code",
      "metadata": {
        "id": "P_3aw7ycSB2s"
      },
      "source": [
        "X_white=white.loc[:, white.columns != 'quality']\n",
        "Y_white=white.loc[:, white.columns == 'quality']\n",
        "X_red=red.loc[:, red.columns != 'quality']\n",
        "Y_red=red.loc[:, red.columns == 'quality']"
      ],
      "execution_count": 46,
      "outputs": []
    },
    {
      "cell_type": "code",
      "metadata": {
        "id": "hXdQnBYmXEUg"
      },
      "source": [
        "def TO_TORCH(m):\n",
        "    #convert an array/DF into a tensor with gpu on if necessary\n",
        "    if isinstance(m, np.ndarray):\n",
        "        m=torch.from_numpy(m).float()\n",
        "    elif isinstance(m, pd.DataFrame):\n",
        "        m=torch.from_numpy(m.values).float()\n",
        "    elif isinstance(m, pd.Series):\n",
        "        m=torch.from_numpy(m.values).float()\n",
        "\n",
        "    if train_on_gpu:\n",
        "        m = m.to(device=\"cuda\")\n",
        "    return(m)"
      ],
      "execution_count": 47,
      "outputs": []
    },
    {
      "cell_type": "code",
      "metadata": {
        "id": "Kgj5ipeRY9vz"
      },
      "source": [
        "red_class=pd.unique(red['quality'])\n",
        "white_class=pd.unique(white['quality'])\n",
        "red_class.sort()\n",
        "white_class.sort()"
      ],
      "execution_count": 48,
      "outputs": []
    },
    {
      "cell_type": "code",
      "metadata": {
        "colab": {
          "base_uri": "https://localhost:8080/"
        },
        "id": "j_hO_QvJMgg9",
        "outputId": "d4d833cb-369b-4100-bf73-85a5aec30c1b"
      },
      "source": [
        "predictors_name=list(red.columns)[:-1]\n",
        "predictors_name"
      ],
      "execution_count": 49,
      "outputs": [
        {
          "output_type": "execute_result",
          "data": {
            "text/plain": [
              "['fixed acidity',\n",
              " 'volatile acidity',\n",
              " 'citric acid',\n",
              " 'residual sugar',\n",
              " 'chlorides',\n",
              " 'free sulfur dioxide',\n",
              " 'total sulfur dioxide',\n",
              " 'density',\n",
              " 'pH',\n",
              " 'sulphates',\n",
              " 'alcohol']"
            ]
          },
          "metadata": {
            "tags": []
          },
          "execution_count": 49
        }
      ]
    },
    {
      "cell_type": "markdown",
      "metadata": {
        "id": "tq8kD1zeSoQT"
      },
      "source": [
        "# !STRATIFY! $\\frac{2}{3}$/$\\frac{1}{3}$ Holdout Split and Standardization\n"
      ]
    },
    {
      "cell_type": "code",
      "metadata": {
        "id": "qQguo1oMDUfa"
      },
      "source": [
        "X_TRAIN_white, X_TEST_white, Y_TRAIN_white, Y_TEST_white = train_test_split(X_white, Y_white['quality'], test_size=0.33, random_state=42,stratify=Y_white['quality']) #24\n",
        "X_TRAIN_red, X_TEST_red, Y_TRAIN_red, Y_TEST_red = train_test_split(X_red, Y_red['quality'], test_size=0.33, random_state=42,stratify=Y_red[\"quality\"])\n"
      ],
      "execution_count": 50,
      "outputs": []
    },
    {
      "cell_type": "code",
      "metadata": {
        "colab": {
          "base_uri": "https://localhost:8080/"
        },
        "id": "YUEaXuzbDm5S",
        "outputId": "c2a41b16-c829-4a18-cc11-bf74bd8497de"
      },
      "source": [
        "print(Counter(Y_TRAIN_white))\n",
        "print(Counter(Y_TEST_white))\n",
        "print(Counter(Y_TRAIN_red))\n",
        "print(Counter(Y_TEST_red))"
      ],
      "execution_count": 51,
      "outputs": [
        {
          "output_type": "stream",
          "text": [
            "Counter({6: 1472, 5: 976, 7: 590, 8: 117, 4: 109, 3: 14, 9: 3})\n",
            "Counter({6: 726, 5: 481, 7: 290, 8: 58, 4: 54, 3: 6, 9: 2})\n",
            "Counter({5: 456, 6: 427, 7: 133, 4: 36, 8: 12, 3: 7})\n",
            "Counter({5: 225, 6: 211, 7: 66, 4: 17, 8: 6, 3: 3})\n"
          ],
          "name": "stdout"
        }
      ]
    },
    {
      "cell_type": "code",
      "metadata": {
        "id": "4TY42rlUU0bD"
      },
      "source": [
        "TRAIN_scaler_white = preprocessing.StandardScaler().fit(X_TRAIN_white)\n",
        "TEST_scaler_white = preprocessing.StandardScaler().fit(X_TEST_white)\n",
        "X_TRAIN_white = TO_TORCH(TRAIN_scaler_white.transform(X_TRAIN_white))\n",
        "X_TEST_white = TO_TORCH(TEST_scaler_white.transform(X_TEST_white))\n",
        "\n",
        "TRAIN_scaler_red = preprocessing.StandardScaler().fit(X_TRAIN_red)\n",
        "TEST_scaler_red = preprocessing.StandardScaler().fit(X_TEST_red)\n",
        "X_TRAIN_red = TO_TORCH(TRAIN_scaler_red.transform(X_TRAIN_red))\n",
        "X_TEST_red = TO_TORCH(TEST_scaler_red.transform(X_TEST_red))\n",
        "\n",
        "Y_TRAIN_white = TO_TORCH(Y_TRAIN_white)\n",
        "Y_TEST_white = TO_TORCH(Y_TEST_white)\n",
        "\n",
        "Y_TRAIN_red = TO_TORCH(Y_TRAIN_red)\n",
        "Y_TEST_red = TO_TORCH(Y_TEST_red)\n",
        "\n",
        "scaler_white = preprocessing.StandardScaler().fit(X_white)\n",
        "scaler_red = preprocessing.StandardScaler().fit(X_red)\n",
        "X_white_torch = TO_TORCH(scaler_white.transform(X_white))\n",
        "X_red_torch = TO_TORCH(scaler_red.transform(X_red))\n",
        "Y_white_torch = TO_TORCH(Y_white)\n",
        "Y_red_torch = TO_TORCH(Y_red)"
      ],
      "execution_count": 52,
      "outputs": []
    },
    {
      "cell_type": "markdown",
      "metadata": {
        "id": "KeBq4wPeVFoZ"
      },
      "source": [
        "# Nerual Networks"
      ]
    },
    {
      "cell_type": "markdown",
      "metadata": {
        "id": "X1UebZ-Zfkcr"
      },
      "source": [
        "## Architecture"
      ]
    },
    {
      "cell_type": "markdown",
      "metadata": {
        "id": "rBFvaqhXOspI"
      },
      "source": [
        "? why using one dimensional output "
      ]
    },
    {
      "cell_type": "code",
      "metadata": {
        "id": "7xhFUWnXVIFZ"
      },
      "source": [
        "# Neural Network structure\n",
        "class Net(nn.Module):\n",
        "    def __init__(self,INPUT_DIM,OUTPUT_DIM,HIDDEN_DIM,DROP_PR,BN=False):\n",
        "        super(Net, self).__init__()\n",
        "        self.input_dim = INPUT_DIM\n",
        "        self.output_dim = OUTPUT_DIM\n",
        "        self.hidden_dim = HIDDEN_DIM\n",
        "        self.DROP_PR = DROP_PR\n",
        "        current_dim = self.input_dim\n",
        "        self.layers = nn.ModuleList()\n",
        "        self.BN=BN\n",
        "        self.bn = nn.ModuleList()\n",
        "        for hdim in self.hidden_dim:\n",
        "            self.layers.append(nn.Linear(current_dim, hdim))\n",
        "            self.bn.append(nn.BatchNorm1d(hdim))\n",
        "            current_dim = hdim\n",
        "        self.layers.append(nn.Linear(current_dim, self.output_dim))\n",
        "        self.dropout = nn.Dropout(DROP_PR) #self.DROP_PR\n",
        "\n",
        "    def forward(self, x):\n",
        "        for i, layer in enumerate(self.layers[:-1]):\n",
        "            x = layer(x)\n",
        "            if self.BN:\n",
        "                x = self.bn[i](x)\n",
        "            #x = torch.sigmoid(x)\n",
        "            x = F.relu(x)\n",
        "            x = self.dropout(x)\n",
        "        out = self.layers[-1](x)\n",
        "        return out \n",
        "\n",
        "#Loss function: mean absolute deviation\n",
        "#criterion = torch.nn.L1Loss() \n",
        "criterion = torch.nn.MSELoss()\n",
        "\n",
        "#Accuracy with tolerance\n",
        "def ACCURACY(Y_pred,target,Tolerance):\n",
        "    v=(abs(Y_pred-target)<=Tolerance)*1.0\n",
        "    return(torch.mean(v))\n",
        "\n",
        "#Kappa statistic compared with a random classifier\n",
        "def KAPPA(Y_pred,target):\n",
        "    #only work for Tolerance=0.5\n",
        "    KAPP=cohen_kappa_score(target.cpu().detach().numpy(),torch.round(Y_pred).cpu().detach().numpy())\n",
        "    #KAPP2=cohen_kappa_score(torch.round(Y_pred).cpu().detach().numpy(),target.cpu().detach().numpy())    \n",
        "    return(KAPP)"
      ],
      "execution_count": 53,
      "outputs": []
    },
    {
      "cell_type": "code",
      "metadata": {
        "id": "sOdTdNXoTmDh"
      },
      "source": [
        ""
      ],
      "execution_count": 53,
      "outputs": []
    },
    {
      "cell_type": "markdown",
      "metadata": {
        "id": "fxCzpUBBgk0h"
      },
      "source": [
        "## Wrap it up"
      ]
    },
    {
      "cell_type": "code",
      "metadata": {
        "id": "nw5P8Cwi3p0N"
      },
      "source": [
        "def TEST_NN(MODEL,TEST_X,TEST_Y,T_list=[0.25,0.5,1]):\n",
        "    MODEL.eval()\n",
        "    test_pred=MODEL(TEST_X)[:,0]\n",
        "    loss = criterion(test_pred, TEST_Y)\n",
        "    L2=loss.item()\n",
        "    accuracy_list=[ACCURACY(test_pred,TEST_Y,T).item() for T in T_list]\n",
        "    kappa=KAPPA(test_pred, TEST_Y)\n",
        "    MODEL.train()\n",
        "    return({\"L2\":L2,\"accuracy_list\":accuracy_list,\"kappa\":kappa})"
      ],
      "execution_count": 54,
      "outputs": []
    },
    {
      "cell_type": "code",
      "metadata": {
        "id": "LeI-0o9zfJlP"
      },
      "source": [
        "def TRAIN_NN(TRAIN_X,TRAIN_Y,TEST_X,TEST_Y,HIDDEN_DIM,EPOCH,DROP_PR=0.0,BN=False,LR=1e-2,OPT=\"SGD\",T=1,STEP_SIZE=50000,DECAY=0.1,seed=0):\n",
        "    #TRAIN_X,TRIAN_Y: should be tensors\n",
        "    # HIDDEN_DIM: [H] or deeper\n",
        "    # BN: Bool, if using Batch Normalization or not\n",
        "    # \"SGD\" or \"ADAM\"\n",
        "    # T:0.25,0.5,1.0\n",
        "    torch.manual_seed(seed)\n",
        "    INPUT_DIM = TRAIN_X.shape[1]\n",
        "    OUTPUT_DIM = 1\n",
        "    MODEL=Net(INPUT_DIM,OUTPUT_DIM,HIDDEN_DIM,DROP_PR,BN)\n",
        "    if train_on_gpu:\n",
        "        MODEL.cuda()\n",
        "    #Optimizer: \n",
        "    if OPT==\"SGD\":\n",
        "        optimizer = torch.optim.SGD(MODEL.parameters(),lr=LR)\n",
        "    if OPT==\"ADAM\":\n",
        "        optimizer = torch.optim.Adam(MODEL.parameters(),lr=LR, betas=(0.9, 0.99))\n",
        "    scheduler = optim.lr_scheduler.StepLR(optimizer, step_size=STEP_SIZE, gamma=DECAY)\n",
        "    LOSS_ARR=[]\n",
        "    LOSS_validation=[]\n",
        "    ACC_TRAIN_LIST=[]\n",
        "    ACC_VALIDATION_LIST=[]\n",
        "    #for epoch in tq(range(EPOCH)):\n",
        "    for epoch in range(EPOCH):\n",
        "        optimizer.zero_grad()\n",
        "        outputs=MODEL(TRAIN_X)[:,0] #prediction\n",
        "        loss = criterion(outputs, TRAIN_Y) #compared with the true labels\n",
        "        LOSS_ARR.append(loss.data)\n",
        "        loss.backward()\n",
        "        optimizer.step() \n",
        "        scheduler.step() \n",
        "        Result_TEST=TEST_NN(MODEL,TEST_X,TEST_Y,[T])\n",
        "        LOSS_validation.append(Result_TEST[\"L2\"]) \n",
        "        ACC_VALIDATION_LIST.append(Result_TEST[\"accuracy_list\"][0]) \n",
        "        ACC_TRAIN_LIST.append(ACCURACY(outputs,TRAIN_Y,T).item())\n",
        "        if (epoch+1)%round(EPOCH/5)==0:\n",
        "            #kappa=KAPPA(outputs, TRAIN_Y)\n",
        "            accuracy=ACCURACY(outputs,TRAIN_Y,T).item()\n",
        "            print(\"After {} Epochs:\".format((epoch+1)))\n",
        "            print(\"Train Loss is {}; Train Accuracy is {}% (T={});\".format(round(loss.item(),4),round(accuracy*100,4),T))\n",
        "            print(\"Test Loss is {}; Test Accuracy is {}% (T={});\".format(round(Result_TEST[\"L2\"],4),round(Result_TEST[\"accuracy_list\"][0]*100,4),T))\n",
        "        \n",
        "    return({\"MODEL\":MODEL,\"LOSS_TRAIN\":LOSS_ARR,\"LOSS_VALIDATION\":LOSS_validation,\n",
        "            \"ACCURACY_TRAIN\":ACC_TRAIN_LIST,\"ACCURACY_VALIDATION\":ACC_VALIDATION_LIST})"
      ],
      "execution_count": 55,
      "outputs": []
    },
    {
      "cell_type": "markdown",
      "metadata": {
        "id": "DFwcZ9jUB12A"
      },
      "source": [
        "### White wine"
      ]
    },
    {
      "cell_type": "markdown",
      "metadata": {
        "id": "fgbPYLzlQb0Z"
      },
      "source": [
        "#### ADAM"
      ]
    },
    {
      "cell_type": "code",
      "metadata": {
        "id": "do0_B9ReY6m1",
        "colab": {
          "base_uri": "https://localhost:8080/"
        },
        "outputId": "ab13075a-e943-42ba-c42e-46c3fde07cf9"
      },
      "source": [
        "result_white=TRAIN_NN(X_TRAIN_white,Y_TRAIN_white,X_TEST_white,Y_TEST_white,[8],OPT=\"ADAM\",LR=1e-3,DROP_PR=0.8,BN=True,STEP_SIZE=10000,DECAY=0.5,EPOCH=60000,seed=233)\n",
        "MODEL_NN_white=result_white[\"MODEL\"]\n",
        "LOSS_white=result_white[\"LOSS_TRAIN\"]\n",
        "LOSS_validation_white=result_white[\"LOSS_VALIDATION\"]"
      ],
      "execution_count": 56,
      "outputs": [
        {
          "output_type": "stream",
          "text": [
            "After 12000 Epochs:\n",
            "Train Loss is 0.6809; Train Accuracy is 81.0119% (T=1);\n",
            "Test Loss is 0.6308; Test Accuracy is 83.859% (T=1);\n",
            "After 24000 Epochs:\n",
            "Train Loss is 0.6821; Train Accuracy is 80.4937% (T=1);\n",
            "Test Loss is 0.6319; Test Accuracy is 83.7353% (T=1);\n",
            "After 36000 Epochs:\n",
            "Train Loss is 0.6621; Train Accuracy is 81.3167% (T=1);\n",
            "Test Loss is 0.6321; Test Accuracy is 83.859% (T=1);\n",
            "After 48000 Epochs:\n",
            "Train Loss is 0.672; Train Accuracy is 81.1948% (T=1);\n",
            "Test Loss is 0.6314; Test Accuracy is 83.7353% (T=1);\n",
            "After 60000 Epochs:\n",
            "Train Loss is 0.6753; Train Accuracy is 81.53% (T=1);\n",
            "Test Loss is 0.6316; Test Accuracy is 83.7353% (T=1);\n"
          ],
          "name": "stdout"
        }
      ]
    },
    {
      "cell_type": "code",
      "metadata": {
        "colab": {
          "base_uri": "https://localhost:8080/",
          "height": 327
        },
        "id": "TqlENdrtZcLQ",
        "outputId": "2ef44959-d45f-4081-ed6f-d1ea226142e0"
      },
      "source": [
        "zoom=np.floor(len(LOSS_white)/7).astype(int)\n",
        "#zoom=0\n",
        "plt.plot(np.arange(len(LOSS_white)-zoom)+zoom, LOSS_white[zoom:],label=\"Train\")\n",
        "plt.plot(np.arange(len(LOSS_validation_white)-zoom)+zoom, LOSS_validation_white[zoom:],label=\"Validation\")\n",
        "\n",
        "#plt.plot((np.arange(len(LOSS_validation_white))+1)*len(LOSS_white)-1, LOSS_validation_white,label=\"Validation\")\n",
        "plt.xlabel(\"Epoch\")\n",
        "plt.ylabel(\"Loss\")\n",
        "plt.legend()\n",
        "plt.title(\"Final Train Loss = {} \\n Final Validation Loss = {}\".format(LOSS_white[-1],LOSS_validation_white[-1]))"
      ],
      "execution_count": 57,
      "outputs": [
        {
          "output_type": "execute_result",
          "data": {
            "text/plain": [
              "Text(0.5, 1.0, 'Final Train Loss = 0.6753166913986206 \\n Final Validation Loss = 0.6316317319869995')"
            ]
          },
          "metadata": {
            "tags": []
          },
          "execution_count": 57
        },
        {
          "output_type": "display_data",
          "data": {
            "image/png": "[encoded data removed]",
            "text/plain": [
              "<Figure size 432x288 with 1 Axes>"
            ]
          },
          "metadata": {
            "tags": [],
            "needs_background": "light"
          }
        }
      ]
    },
    {
      "cell_type": "code",
      "metadata": {
        "colab": {
          "base_uri": "https://localhost:8080/"
        },
        "id": "h3XZe-9WB08A",
        "outputId": "9c003b92-1a52-4ed4-e1b2-f69b6228af47"
      },
      "source": [
        "T_list=[0.25,0.5,1]\n",
        "Result_TEST_white=TEST_NN(MODEL_NN_white,X_TEST_white,Y_TEST_white,T_list)\n",
        "print(\"Test Loss is {};\".format(round(Result_TEST_white[\"L2\"],3)))\n",
        "for i,T in enumerate(T_list): \n",
        "    acc=Result_TEST_white[\"accuracy_list\"][i]\n",
        "    print(\"Test Accuracy is {}% (T={});\".format(round(acc*100,3),T))\n",
        "test_kappa=Result_TEST_white[\"kappa\"]\n",
        "print(\"Test KAPPA is {}% (T=0.5);\".format(round(test_kappa*100,3)))"
      ],
      "execution_count": 58,
      "outputs": [
        {
          "output_type": "stream",
          "text": [
            "Test Loss is 0.632;\n",
            "Test Accuracy is 22.263% (T=0.25);\n",
            "Test Accuracy is 45.455% (T=0.5);\n",
            "Test Accuracy is 83.735% (T=1);\n",
            "Test KAPPA is 1.724% (T=0.5);\n"
          ],
          "name": "stdout"
        }
      ]
    },
    {
      "cell_type": "markdown",
      "metadata": {
        "id": "Fzy_dOXwQZHt"
      },
      "source": [
        "#### SGD"
      ]
    },
    {
      "cell_type": "code",
      "metadata": {
        "id": "N54fMNd1qDe9",
        "colab": {
          "base_uri": "https://localhost:8080/"
        },
        "outputId": "3c2e8342-8800-43db-aad6-de0bbfc850c1"
      },
      "source": [
        "result_white=TRAIN_NN(X_TRAIN_white,Y_TRAIN_white,X_TEST_white,Y_TEST_white,[9],OPT=\"SGD\",LR=1e-1/2,DROP_PR=0.0,BN=False,STEP_SIZE=10000,DECAY=0.5,EPOCH=60000,seed=24)\n",
        "MODEL_NN_white=result_white[\"MODEL\"]\n",
        "LOSS_white=result_white[\"LOSS_TRAIN\"]\n",
        "LOSS_validation_white=result_white[\"LOSS_VALIDATION\"]\n",
        "ACCURACY_WHITE_TRAIN=result_white[\"ACCURACY_TRAIN\"]\n",
        "ACCURACY_WHITE_VALIDATION=result_white[\"ACCURACY_VALIDATION\"]"
      ],
      "execution_count": 59,
      "outputs": [
        {
          "output_type": "stream",
          "text": [
            "After 12000 Epochs:\n",
            "Train Loss is 0.4708; Train Accuracy is 87.3819% (T=1);\n",
            "Test Loss is 0.5054; Test Accuracy is 85.4051% (T=1);\n",
            "After 24000 Epochs:\n",
            "Train Loss is 0.4684; Train Accuracy is 87.8391% (T=1);\n",
            "Test Loss is 0.5067; Test Accuracy is 85.3432% (T=1);\n",
            "After 36000 Epochs:\n",
            "Train Loss is 0.4663; Train Accuracy is 87.9% (T=1);\n",
            "Test Loss is 0.5077; Test Accuracy is 85.4669% (T=1);\n",
            "After 48000 Epochs:\n",
            "Train Loss is 0.4658; Train Accuracy is 87.9305% (T=1);\n",
            "Test Loss is 0.5077; Test Accuracy is 85.3432% (T=1);\n",
            "After 60000 Epochs:\n",
            "Train Loss is 0.4655; Train Accuracy is 87.9915% (T=1);\n",
            "Test Loss is 0.5079; Test Accuracy is 85.2195% (T=1);\n"
          ],
          "name": "stdout"
        }
      ]
    },
    {
      "cell_type": "code",
      "metadata": {
        "colab": {
          "base_uri": "https://localhost:8080/",
          "height": 417
        },
        "id": "vCZZ290Pp9Dp",
        "outputId": "b73c49b3-eb8c-41e8-e2ac-bbd256173f42"
      },
      "source": [
        "plt.figure(figsize=(10,5))\n",
        "plt.subplot(1,2,1)\n",
        "zoom=np.floor(len(LOSS_white)/900).astype(int)\n",
        "#zoom=0\n",
        "plt.plot(np.arange(len(LOSS_white)-zoom)+zoom, LOSS_white[zoom:],label=\"Train\")\n",
        "plt.plot(np.arange(len(LOSS_validation_white)-zoom)+zoom, LOSS_validation_white[zoom:],label=\"Validation\")\n",
        "\n",
        "#plt.plot((np.arange(len(LOSS_validation_white))+1)*len(LOSS_white)-1, LOSS_validation_white,label=\"Validation\")\n",
        "plt.xlabel(\"Epoch\")\n",
        "plt.ylabel(\"Loss\")\n",
        "plt.legend()\n",
        "plt.title(\"White Wine \\n Final Train Loss = {:.3f} \\n Final Validation Loss = {:.3f}\".format(LOSS_white[-1],LOSS_validation_white[-1]))\n",
        "\n",
        "plt.subplot(1,2,2)\n",
        "zoom=np.floor(len(ACCURACY_WHITE_TRAIN)/900).astype(int)\n",
        "#zoom=0\n",
        "plt.plot(np.arange(len(ACCURACY_WHITE_TRAIN)-zoom)+zoom, ACCURACY_WHITE_TRAIN[zoom:],label=\"Train\")\n",
        "plt.plot(np.arange(len(ACCURACY_WHITE_VALIDATION)-zoom)+zoom, ACCURACY_WHITE_VALIDATION[zoom:],label=\"Validation\")\n",
        "\n",
        "plt.xlabel(\"Epoch\")\n",
        "plt.ylabel(\"Loss\")\n",
        "plt.legend()\n",
        "plt.title(\"White Wine \\n Final Train Accuracy (T=1) = {:.3f}% \\n Final Validation Accuracy (T=1) = {:.3f}%\".format(100*ACCURACY_WHITE_TRAIN[-1],100*ACCURACY_WHITE_VALIDATION[-1]))\n",
        "\n",
        "#plt.savefig(\"white train.png\", bbox_inches='tight')\n",
        "#files.download(\"white train.png\")"
      ],
      "execution_count": 60,
      "outputs": [
        {
          "output_type": "execute_result",
          "data": {
            "text/plain": [
              "Text(0.5, 1.0, 'White Wine \\n Final Train Accuracy (T=1) = 87.991% \\n Final Validation Accuracy (T=1) = 85.220%')"
            ]
          },
          "metadata": {
            "tags": []
          },
          "execution_count": 60
        },
        {
          "output_type": "display_data",
          "data": {
            "image/png": "[encoded data removed]",
            "text/plain": [
              "<Figure size 720x360 with 2 Axes>"
            ]
          },
          "metadata": {
            "tags": [],
            "needs_background": "light"
          }
        }
      ]
    },
    {
      "cell_type": "code",
      "metadata": {
        "colab": {
          "base_uri": "https://localhost:8080/"
        },
        "id": "rnk2nF2fp9D2",
        "outputId": "437e4b2c-ad0e-4ca5-9720-93c7539f053d"
      },
      "source": [
        "T_list=[0.25,0.5,1]\n",
        "Result_TEST_white=TEST_NN(MODEL_NN_white,X_TEST_white,Y_TEST_white,T_list)\n",
        "print(\"Test Loss is {};\".format(round(Result_TEST_white[\"L2\"],3)))\n",
        "for i,T in enumerate(T_list): \n",
        "    acc=Result_TEST_white[\"accuracy_list\"][i]\n",
        "    print(\"Test Accuracy is {}% (T={});\".format(round(acc*100,3),T))\n",
        "test_kappa=Result_TEST_white[\"kappa\"]\n",
        "print(\"Test KAPPA is {}% (T=0.5);\".format(round(test_kappa*100,3)))"
      ],
      "execution_count": 61,
      "outputs": [
        {
          "output_type": "stream",
          "text": [
            "Test Loss is 0.508;\n",
            "Test Accuracy is 26.778% (T=0.25);\n",
            "Test Accuracy is 54.793% (T=0.5);\n",
            "Test Accuracy is 85.22% (T=1);\n",
            "Test KAPPA is 28.24% (T=0.5);\n"
          ],
          "name": "stdout"
        }
      ]
    },
    {
      "cell_type": "code",
      "metadata": {
        "colab": {
          "base_uri": "https://localhost:8080/",
          "height": 327
        },
        "id": "E0eEzJ69Fy_c",
        "outputId": "ca90e7ad-b000-49c9-b0b9-0c75aaff42e4"
      },
      "source": [
        "T_list_REC=np.linspace(0,2,100)\n",
        "ACCURACY_list_REC_white=TEST_NN(MODEL_NN_white,X_TEST_white,Y_TEST_white,T_list_REC)[\"accuracy_list\"]\n",
        "plt.plot(T_list_REC,ACCURACY_list_REC_white)\n",
        "plt.xlabel(\"Tolerance\")\n",
        "plt.ylabel(\"Accuracy\")\n",
        "plt.title(\"REC \\n White wine\")"
      ],
      "execution_count": 62,
      "outputs": [
        {
          "output_type": "execute_result",
          "data": {
            "text/plain": [
              "Text(0.5, 1.0, 'REC \\n White wine')"
            ]
          },
          "metadata": {
            "tags": []
          },
          "execution_count": 62
        },
        {
          "output_type": "display_data",
          "data": {
            "image/png": "[encoded data removed]",
            "text/plain": [
              "<Figure size 432x288 with 1 Axes>"
            ]
          },
          "metadata": {
            "tags": [],
            "needs_background": "light"
          }
        }
      ]
    },
    {
      "cell_type": "code",
      "metadata": {
        "colab": {
          "base_uri": "https://localhost:8080/"
        },
        "id": "3b3jjEBCMNaH",
        "outputId": "9f6b5780-3113-42a5-9436-3bb83221b834"
      },
      "source": [
        "print(Counter(Y_TEST_white.cpu().numpy()))\n",
        "print(Counter(Y_TRAIN_white.cpu().numpy()))"
      ],
      "execution_count": 63,
      "outputs": [
        {
          "output_type": "stream",
          "text": [
            "Counter({6.0: 726, 5.0: 481, 7.0: 290, 8.0: 58, 4.0: 54, 3.0: 6, 9.0: 2})\n",
            "Counter({6.0: 1472, 5.0: 976, 7.0: 590, 8.0: 117, 4.0: 109, 3.0: 14, 9.0: 3})\n"
          ],
          "name": "stdout"
        }
      ]
    },
    {
      "cell_type": "markdown",
      "metadata": {
        "id": "-WFZz6hvB5Gl"
      },
      "source": [
        "### Red wine"
      ]
    },
    {
      "cell_type": "markdown",
      "metadata": {
        "id": "vl9HG8JGHJ25"
      },
      "source": [
        "HIDDEN=[9],LR=1e-1/2,DROP_PR=0.0,STEP_SIZE=50000,DECAY=0.5,EPOCH=60000,seed=233"
      ]
    },
    {
      "cell_type": "code",
      "metadata": {
        "colab": {
          "base_uri": "https://localhost:8080/"
        },
        "id": "o1Ld6AMEBGmM",
        "outputId": "976a483b-8ecb-42b8-b0c2-dccd08c81c3c"
      },
      "source": [
        "result_red=TRAIN_NN(X_TRAIN_red,Y_TRAIN_red,X_TEST_red,Y_TEST_red,[9],LR=1e-1/2,OPT=\"SGD\",DROP_PR=0.0,BN=False,STEP_SIZE=30000,DECAY=0.5,EPOCH=100000,seed=18)\n",
        "MODEL_NN_red=result_red[\"MODEL\"]\n",
        "LOSS_red=result_red[\"LOSS_TRAIN\"]\n",
        "LOSS_validation_red=result_red[\"LOSS_VALIDATION\"]\n",
        "ACCURACY_RED_TRAIN=result_red[\"ACCURACY_TRAIN\"]\n",
        "ACCURACY_RED_VALIDATION=result_red[\"ACCURACY_VALIDATION\"]"
      ],
      "execution_count": 64,
      "outputs": [
        {
          "output_type": "stream",
          "text": [
            "After 20000 Epochs:\n",
            "Train Loss is 0.3044; Train Accuracy is 92.5303% (T=1);\n",
            "Test Loss is 0.4417; Test Accuracy is 86.9318% (T=1);\n",
            "After 40000 Epochs:\n",
            "Train Loss is 0.3027; Train Accuracy is 92.5303% (T=1);\n",
            "Test Loss is 0.4437; Test Accuracy is 86.553% (T=1);\n",
            "After 60000 Epochs:\n",
            "Train Loss is 0.3023; Train Accuracy is 92.5303% (T=1);\n",
            "Test Loss is 0.4438; Test Accuracy is 86.3636% (T=1);\n",
            "After 80000 Epochs:\n",
            "Train Loss is 0.3021; Train Accuracy is 92.5303% (T=1);\n",
            "Test Loss is 0.4441; Test Accuracy is 86.3636% (T=1);\n",
            "After 100000 Epochs:\n",
            "Train Loss is 0.3017; Train Accuracy is 92.5303% (T=1);\n",
            "Test Loss is 0.4437; Test Accuracy is 86.3636% (T=1);\n"
          ],
          "name": "stdout"
        }
      ]
    },
    {
      "cell_type": "code",
      "metadata": {
        "id": "_v9IHTLLBg0p",
        "colab": {
          "base_uri": "https://localhost:8080/",
          "height": 397
        },
        "outputId": "d0a4e1e7-a39d-49f2-e42f-ea8b41912f9e"
      },
      "source": [
        "plt.figure(figsize=(10,5))\n",
        "plt.subplot(1,2,1)\n",
        "zoom=np.floor(len(LOSS_red)/3000).astype(int)\n",
        "#zoom=0\n",
        "plt.plot(np.arange(len(LOSS_red)-zoom)+zoom, LOSS_red[zoom:],label=\"Train\")\n",
        "plt.plot(np.arange(len(LOSS_validation_red)-zoom)+zoom, LOSS_validation_red[zoom:],label=\"Validation\")\n",
        "\n",
        "plt.xlabel(\"Epoch\")\n",
        "plt.ylabel(\"Loss\")\n",
        "plt.legend()\n",
        "plt.title(\"Red Wine \\n Final Train Loss = {:.3f} \\n Final Validation Loss = {:.3f}\".format(LOSS_red[-1],LOSS_validation_red[-1]))\n",
        "\n",
        "plt.subplot(1,2,2)\n",
        "zoom=np.floor(len(ACCURACY_RED_TRAIN)/3000).astype(int)\n",
        "#zoom=0\n",
        "plt.plot(np.arange(len(ACCURACY_RED_TRAIN)-zoom)+zoom, ACCURACY_RED_TRAIN[zoom:],label=\"Train\")\n",
        "plt.plot(np.arange(len(ACCURACY_RED_VALIDATION)-zoom)+zoom, ACCURACY_RED_VALIDATION[zoom:],label=\"Validation\")\n",
        "\n",
        "plt.xlabel(\"Epoch\")\n",
        "plt.ylabel(\"Loss\")\n",
        "plt.legend()\n",
        "plt.title(\"Red Wine \\n Final Train Accuracy (T=1) = {:.3f}% \\n Final Validation Accuracy (T=1) = {:.3f}%\".format(100*ACCURACY_RED_TRAIN[-1],100*ACCURACY_RED_VALIDATION[-1]))\n",
        "\n",
        "plt.savefig(\"red train drop 100000.png\", bbox_inches='tight')\n",
        "files.download(\"red train drop 100000.png\")"
      ],
      "execution_count": 65,
      "outputs": [
        {
          "output_type": "display_data",
          "data": {
            "application/javascript": [
              "\n",
              "    async function download(id, filename, size) {\n",
              "      if (!google.colab.kernel.accessAllowed) {\n",
              "        return;\n",
              "      }\n",
              "      const div = document.createElement('div');\n",
              "      const label = document.createElement('label');\n",
              "      label.textContent = `Downloading \"${filename}\": `;\n",
              "      div.appendChild(label);\n",
              "      const progress = document.createElement('progress');\n",
              "      progress.max = size;\n",
              "      div.appendChild(progress);\n",
              "      document.body.appendChild(div);\n",
              "\n",
              "      const buffers = [];\n",
              "      let downloaded = 0;\n",
              "\n",
              "      const channel = await google.colab.kernel.comms.open(id);\n",
              "      // Send a message to notify the kernel that we're ready.\n",
              "      channel.send({})\n",
              "\n",
              "      for await (const message of channel.messages) {\n",
              "        // Send a message to notify the kernel that we're ready.\n",
              "        channel.send({})\n",
              "        if (message.buffers) {\n",
              "          for (const buffer of message.buffers) {\n",
              "            buffers.push(buffer);\n",
              "            downloaded += buffer.byteLength;\n",
              "            progress.value = downloaded;\n",
              "          }\n",
              "        }\n",
              "      }\n",
              "      const blob = new Blob(buffers, {type: 'application/binary'});\n",
              "      const a = document.createElement('a');\n",
              "      a.href = window.URL.createObjectURL(blob);\n",
              "      a.download = filename;\n",
              "      div.appendChild(a);\n",
              "      a.click();\n",
              "      div.remove();\n",
              "    }\n",
              "  "
            ],
            "text/plain": [
              "<IPython.core.display.Javascript object>"
            ]
          },
          "metadata": {
            "tags": []
          }
        },
        {
          "output_type": "display_data",
          "data": {
            "application/javascript": [
              "download(\"download_3d91e8d7-2588-4736-b549-0e085e9f41f2\", \"red train drop 100000.png\", 33594)"
            ],
            "text/plain": [
              "<IPython.core.display.Javascript object>"
            ]
          },
          "metadata": {
            "tags": []
          }
        },
        {
          "output_type": "display_data",
          "data": {
            "image/png": "[encoded data removed]",
            "text/plain": [
              "<Figure size 720x360 with 2 Axes>"
            ]
          },
          "metadata": {
            "tags": [],
            "needs_background": "light"
          }
        }
      ]
    },
    {
      "cell_type": "code",
      "metadata": {
        "colab": {
          "base_uri": "https://localhost:8080/"
        },
        "id": "HBcWEDo3ERag",
        "outputId": "2b3cbcc0-ac00-428b-e850-d6d2efddb4c3"
      },
      "source": [
        "T_list=[0.25,0.5,1]\n",
        "Result_TEST_red=TEST_NN(MODEL_NN_red,X_TEST_red,Y_TEST_red,T_list)\n",
        "print(\"Test Loss is {};\".format(round(Result_TEST_red[\"L2\"],3)))\n",
        "for i,T in enumerate(T_list): \n",
        "    acc=Result_TEST_red[\"accuracy_list\"][i]\n",
        "    print(\"Test Accuracy is {}% (T={});\".format(round(acc*100,3),T))\n",
        "test_kappa=Result_TEST_red[\"kappa\"]\n",
        "print(\"Test KAPPA is {}% (T=0.5);\".format(round(test_kappa*100,3)))"
      ],
      "execution_count": 66,
      "outputs": [
        {
          "output_type": "stream",
          "text": [
            "Test Loss is 0.444;\n",
            "Test Accuracy is 30.682% (T=0.25);\n",
            "Test Accuracy is 57.765% (T=0.5);\n",
            "Test Accuracy is 86.364% (T=1);\n",
            "Test KAPPA is 31.758% (T=0.5);\n"
          ],
          "name": "stdout"
        }
      ]
    },
    {
      "cell_type": "code",
      "metadata": {
        "colab": {
          "base_uri": "https://localhost:8080/",
          "height": 327
        },
        "id": "z-v24yalGg5u",
        "outputId": "44c576b9-5fa3-434b-bfbc-48982f3d39c9"
      },
      "source": [
        "T_list_REC=np.linspace(0,2,100)\n",
        "ACCURACY_list_REC_red=TEST_NN(MODEL_NN_red,X_TEST_red,Y_TEST_red,T_list_REC)[\"accuracy_list\"]\n",
        "plt.plot(T_list_REC,ACCURACY_list_REC_red)\n",
        "plt.xlabel(\"Tolerance\")\n",
        "plt.ylabel(\"Accuracy\")\n",
        "plt.title(\"REC \\n Red wine\")"
      ],
      "execution_count": 67,
      "outputs": [
        {
          "output_type": "execute_result",
          "data": {
            "text/plain": [
              "Text(0.5, 1.0, 'REC \\n Red wine')"
            ]
          },
          "metadata": {
            "tags": []
          },
          "execution_count": 67
        },
        {
          "output_type": "display_data",
          "data": {
            "image/png": "[encoded data removed]",
            "text/plain": [
              "<Figure size 432x288 with 1 Axes>"
            ]
          },
          "metadata": {
            "tags": [],
            "needs_background": "light"
          }
        }
      ]
    },
    {
      "cell_type": "markdown",
      "metadata": {
        "id": "C5lKdemHVAme"
      },
      "source": [
        "#  Sensitivity Analysis \n",
        "!“correlation does not equal causation.”"
      ]
    },
    {
      "cell_type": "code",
      "metadata": {
        "id": "mw0eNv_WH1h2"
      },
      "source": [
        "p=X_TRAIN_red.shape[1] #11"
      ],
      "execution_count": 68,
      "outputs": []
    },
    {
      "cell_type": "code",
      "metadata": {
        "id": "B0ba3cjuGWm2"
      },
      "source": [
        "def Sensitivity_Analysis(MODEL,a,L=6):\n",
        "    #a: indicator of the predictor, a=0,1,2,...10(p-1)\n",
        "    MODEL.eval()\n",
        "    Analysis_X=torch.zeros((L,p))\n",
        "    Analysis_X[:,(a)]=torch.from_numpy(np.linspace(-1, 1, 6, endpoint=True))\n",
        "    if train_on_gpu:\n",
        "        Analysis_X=Analysis_X.to(device=\"cuda\")\n",
        "    result=MODEL(Analysis_X).var()\n",
        "    MODEL.train()\n",
        "    return result.cpu().detach().numpy()"
      ],
      "execution_count": 69,
      "outputs": []
    },
    {
      "cell_type": "code",
      "metadata": {
        "id": "FFnhp6wAKaE9"
      },
      "source": [
        "V_red=np.zeros(p)\n",
        "for a in range(p):\n",
        "  V_red[a]=(Sensitivity_Analysis(MODEL_NN_red,a))\n",
        "R_red=V_red/V_red.sum()*100\n",
        "#R_red=pd.DataFrame(R_red,index=predictors_name)\n",
        "\n",
        "V_white=np.zeros(p)\n",
        "for a in range(p):\n",
        "  V_white[a]=(Sensitivity_Analysis(MODEL_NN_white,a))\n",
        "R_white=V_white/V_white.sum()*100\n",
        "#R_white=pd.DataFrame(R_white,index=predictors_name)\n",
        "R=pd.DataFrame({\"red\":R_red,\"white\":R_white}, index=predictors_name)"
      ],
      "execution_count": 70,
      "outputs": []
    },
    {
      "cell_type": "code",
      "metadata": {
        "colab": {
          "base_uri": "https://localhost:8080/",
          "height": 607
        },
        "id": "3WBjv54uLD5N",
        "outputId": "7f4a5e5a-b689-4c21-8c43-699dff3a6ab3"
      },
      "source": [
        "plt.figure(figsize=(10,10))\n",
        "R.sort_values(by=\"red\").plot.barh(y='red',legend=None,subplots=True, layout=(2,1),figsize=(4,8),title=\"Input Importances for the Neural Network (in %)\")\n",
        "\n",
        "plt.savefig(\"sensi red.png\", bbox_inches='tight')\n",
        "files.download(\"sensi red.png\")\n",
        "R.sort_values(by=\"white\").plot.barh(y='white',legend=None,subplots=True, layout=(2,1),figsize=(4,8),title=\"Input Importances for the Neural Network (in %)\")\n",
        "\n",
        "plt.savefig(\"sensi white.png\", bbox_inches='tight')\n",
        "files.download(\"sensi white.png\")"
      ],
      "execution_count": 71,
      "outputs": [
        {
          "output_type": "display_data",
          "data": {
            "application/javascript": [
              "\n",
              "    async function download(id, filename, size) {\n",
              "      if (!google.colab.kernel.accessAllowed) {\n",
              "        return;\n",
              "      }\n",
              "      const div = document.createElement('div');\n",
              "      const label = document.createElement('label');\n",
              "      label.textContent = `Downloading \"${filename}\": `;\n",
              "      div.appendChild(label);\n",
              "      const progress = document.createElement('progress');\n",
              "      progress.max = size;\n",
              "      div.appendChild(progress);\n",
              "      document.body.appendChild(div);\n",
              "\n",
              "      const buffers = [];\n",
              "      let downloaded = 0;\n",
              "\n",
              "      const channel = await google.colab.kernel.comms.open(id);\n",
              "      // Send a message to notify the kernel that we're ready.\n",
              "      channel.send({})\n",
              "\n",
              "      for await (const message of channel.messages) {\n",
              "        // Send a message to notify the kernel that we're ready.\n",
              "        channel.send({})\n",
              "        if (message.buffers) {\n",
              "          for (const buffer of message.buffers) {\n",
              "            buffers.push(buffer);\n",
              "            downloaded += buffer.byteLength;\n",
              "            progress.value = downloaded;\n",
              "          }\n",
              "        }\n",
              "      }\n",
              "      const blob = new Blob(buffers, {type: 'application/binary'});\n",
              "      const a = document.createElement('a');\n",
              "      a.href = window.URL.createObjectURL(blob);\n",
              "      a.download = filename;\n",
              "      div.appendChild(a);\n",
              "      a.click();\n",
              "      div.remove();\n",
              "    }\n",
              "  "
            ],
            "text/plain": [
              "<IPython.core.display.Javascript object>"
            ]
          },
          "metadata": {
            "tags": []
          }
        },
        {
          "output_type": "display_data",
          "data": {
            "application/javascript": [
              "download(\"download_ce068e69-9a57-4f9b-afa2-fd93f946a0bc\", \"sensi red.png\", 15681)"
            ],
            "text/plain": [
              "<IPython.core.display.Javascript object>"
            ]
          },
          "metadata": {
            "tags": []
          }
        },
        {
          "output_type": "display_data",
          "data": {
            "application/javascript": [
              "\n",
              "    async function download(id, filename, size) {\n",
              "      if (!google.colab.kernel.accessAllowed) {\n",
              "        return;\n",
              "      }\n",
              "      const div = document.createElement('div');\n",
              "      const label = document.createElement('label');\n",
              "      label.textContent = `Downloading \"${filename}\": `;\n",
              "      div.appendChild(label);\n",
              "      const progress = document.createElement('progress');\n",
              "      progress.max = size;\n",
              "      div.appendChild(progress);\n",
              "      document.body.appendChild(div);\n",
              "\n",
              "      const buffers = [];\n",
              "      let downloaded = 0;\n",
              "\n",
              "      const channel = await google.colab.kernel.comms.open(id);\n",
              "      // Send a message to notify the kernel that we're ready.\n",
              "      channel.send({})\n",
              "\n",
              "      for await (const message of channel.messages) {\n",
              "        // Send a message to notify the kernel that we're ready.\n",
              "        channel.send({})\n",
              "        if (message.buffers) {\n",
              "          for (const buffer of message.buffers) {\n",
              "            buffers.push(buffer);\n",
              "            downloaded += buffer.byteLength;\n",
              "            progress.value = downloaded;\n",
              "          }\n",
              "        }\n",
              "      }\n",
              "      const blob = new Blob(buffers, {type: 'application/binary'});\n",
              "      const a = document.createElement('a');\n",
              "      a.href = window.URL.createObjectURL(blob);\n",
              "      a.download = filename;\n",
              "      div.appendChild(a);\n",
              "      a.click();\n",
              "      div.remove();\n",
              "    }\n",
              "  "
            ],
            "text/plain": [
              "<IPython.core.display.Javascript object>"
            ]
          },
          "metadata": {
            "tags": []
          }
        },
        {
          "output_type": "display_data",
          "data": {
            "application/javascript": [
              "download(\"download_6311a4d1-c4b5-4a98-8913-c12c9fdae6d2\", \"sensi white.png\", 15186)"
            ],
            "text/plain": [
              "<IPython.core.display.Javascript object>"
            ]
          },
          "metadata": {
            "tags": []
          }
        },
        {
          "output_type": "display_data",
          "data": {
            "text/plain": [
              "<Figure size 720x720 with 0 Axes>"
            ]
          },
          "metadata": {
            "tags": []
          }
        },
        {
          "output_type": "display_data",
          "data": {
            "image/png": "[encoded data removed]",
            "text/plain": [
              "<Figure size 288x576 with 2 Axes>"
            ]
          },
          "metadata": {
            "tags": [],
            "needs_background": "light"
          }
        },
        {
          "output_type": "display_data",
          "data": {
            "image/png": "[encoded data removed]",
            "text/plain": [
              "<Figure size 288x576 with 2 Axes>"
            ]
          },
          "metadata": {
            "tags": [],
            "needs_background": "light"
          }
        }
      ]
    },
    {
      "cell_type": "markdown",
      "metadata": {
        "id": "0KNUpssnU0kQ"
      },
      "source": [
        "# the Problem of Imbalance Data"
      ]
    },
    {
      "cell_type": "code",
      "metadata": {
        "colab": {
          "base_uri": "https://localhost:8080/"
        },
        "id": "fmrFo2vvtwrC",
        "outputId": "c7ba302b-fd46-4e33-97d3-768144e02472"
      },
      "source": [
        "for i,c in enumerate(red_class):\n",
        "    print(\"there are {} red wine samples with the score of {}\".format(len(Y_red_torch[Y_red_torch==red_class[i]]),c))\n",
        "print(\"\\n\")\n",
        "for i,c in enumerate(white_class):\n",
        "    print(\"there are {} white wine samples with the score of {}\".format(len(Y_white_torch[Y_white_torch==white_class[i]]),c))\n",
        "   "
      ],
      "execution_count": 72,
      "outputs": [
        {
          "output_type": "stream",
          "text": [
            "there are 10 red wine samples with the score of 3\n",
            "there are 53 red wine samples with the score of 4\n",
            "there are 681 red wine samples with the score of 5\n",
            "there are 638 red wine samples with the score of 6\n",
            "there are 199 red wine samples with the score of 7\n",
            "there are 18 red wine samples with the score of 8\n",
            "\n",
            "\n",
            "there are 20 white wine samples with the score of 3\n",
            "there are 163 white wine samples with the score of 4\n",
            "there are 1457 white wine samples with the score of 5\n",
            "there are 2198 white wine samples with the score of 6\n",
            "there are 880 white wine samples with the score of 7\n",
            "there are 175 white wine samples with the score of 8\n",
            "there are 5 white wine samples with the score of 9\n"
          ],
          "name": "stdout"
        }
      ]
    },
    {
      "cell_type": "code",
      "metadata": {
        "colab": {
          "base_uri": "https://localhost:8080/",
          "height": 294
        },
        "id": "f_LbQxToepuQ",
        "outputId": "40bf9269-606a-4a01-a0a7-9ab24b8421f1"
      },
      "source": [
        "counter=Counter(Y_white_torch.cpu().numpy()[:,0])\n",
        "count_white=[str(len(Y_white_torch[Y_white_torch==white_class[i]])) for i,c in enumerate(white_class)]\n",
        "percentage_white=[100*round(counter[i] /len(Y_white_torch.cpu().numpy()),3) for i in white_class] \n",
        "white_m=pd.DataFrame([count_white,percentage_white]).transpose()\n",
        "white_m=white_m.set_index(white_class)\n",
        "white_m.columns=[\"Bottle of White Wine\",\"%\"]\n",
        "\n",
        "total=pd.DataFrame(index=[\"Total\"],columns=[\"Bottle of White Wine\",\"%\"])\n",
        "total.at[\"Total\",\"Bottle of White Wine\"] = len(Y_white_torch.cpu().numpy() )\n",
        "total.at[\"Total\",\"%\"] = 100\n",
        "\n",
        "white_m.append(total)"
      ],
      "execution_count": 73,
      "outputs": [
        {
          "output_type": "execute_result",
          "data": {
            "text/html": [
              "<div>\n",
              "<style scoped>\n",
              "    .dataframe tbody tr th:only-of-type {\n",
              "        vertical-align: middle;\n",
              "    }\n",
              "\n",
              "    .dataframe tbody tr th {\n",
              "        vertical-align: top;\n",
              "    }\n",
              "\n",
              "    .dataframe thead th {\n",
              "        text-align: right;\n",
              "    }\n",
              "</style>\n",
              "<table border=\"1\" class=\"dataframe\">\n",
              "  <thead>\n",
              "    <tr style=\"text-align: right;\">\n",
              "      <th></th>\n",
              "      <th>Bottle of White Wine</th>\n",
              "      <th>%</th>\n",
              "    </tr>\n",
              "  </thead>\n",
              "  <tbody>\n",
              "    <tr>\n",
              "      <th>3</th>\n",
              "      <td>20</td>\n",
              "      <td>0.4</td>\n",
              "    </tr>\n",
              "    <tr>\n",
              "      <th>4</th>\n",
              "      <td>163</td>\n",
              "      <td>3.3</td>\n",
              "    </tr>\n",
              "    <tr>\n",
              "      <th>5</th>\n",
              "      <td>1457</td>\n",
              "      <td>29.7</td>\n",
              "    </tr>\n",
              "    <tr>\n",
              "      <th>6</th>\n",
              "      <td>2198</td>\n",
              "      <td>44.9</td>\n",
              "    </tr>\n",
              "    <tr>\n",
              "      <th>7</th>\n",
              "      <td>880</td>\n",
              "      <td>18</td>\n",
              "    </tr>\n",
              "    <tr>\n",
              "      <th>8</th>\n",
              "      <td>175</td>\n",
              "      <td>3.6</td>\n",
              "    </tr>\n",
              "    <tr>\n",
              "      <th>9</th>\n",
              "      <td>5</td>\n",
              "      <td>0.1</td>\n",
              "    </tr>\n",
              "    <tr>\n",
              "      <th>Total</th>\n",
              "      <td>4898</td>\n",
              "      <td>100</td>\n",
              "    </tr>\n",
              "  </tbody>\n",
              "</table>\n",
              "</div>"
            ],
            "text/plain": [
              "      Bottle of White Wine     %\n",
              "3                       20   0.4\n",
              "4                      163   3.3\n",
              "5                     1457  29.7\n",
              "6                     2198  44.9\n",
              "7                      880    18\n",
              "8                      175   3.6\n",
              "9                        5   0.1\n",
              "Total                 4898   100"
            ]
          },
          "metadata": {
            "tags": []
          },
          "execution_count": 73
        }
      ]
    },
    {
      "cell_type": "code",
      "metadata": {
        "colab": {
          "base_uri": "https://localhost:8080/",
          "height": 263
        },
        "id": "t4KHJA-xpXHX",
        "outputId": "511ab691-e468-48fb-b1af-6d66fdb689ab"
      },
      "source": [
        "counter=Counter(Y_red_torch.cpu().numpy()[:,0])\n",
        "count_red=[str(len(Y_red_torch[Y_red_torch==red_class[i]])) for i,c in enumerate(red_class)]\n",
        "percentage_red=[100*round(counter[i] /len(Y_red_torch.cpu().numpy() ),3) for i in red_class] \n",
        "red_m=pd.DataFrame([count_red,percentage_red]).transpose()\n",
        "red_m=red_m.set_index(red_class)\n",
        "red_m.columns=[\"Bottle of Red Wine\",\"%\"]\n",
        "\n",
        "total=pd.DataFrame(index=[\"Total\"],columns=[\"Bottle of Red Wine\",\"%\"])\n",
        "total.at[\"Total\",\"Bottle of Red Wine\"] = len(Y_red_torch.cpu().numpy() )\n",
        "total.at[\"Total\",\"%\"] = 100\n",
        "\n",
        "red_m.append(total)"
      ],
      "execution_count": 74,
      "outputs": [
        {
          "output_type": "execute_result",
          "data": {
            "text/html": [
              "<div>\n",
              "<style scoped>\n",
              "    .dataframe tbody tr th:only-of-type {\n",
              "        vertical-align: middle;\n",
              "    }\n",
              "\n",
              "    .dataframe tbody tr th {\n",
              "        vertical-align: top;\n",
              "    }\n",
              "\n",
              "    .dataframe thead th {\n",
              "        text-align: right;\n",
              "    }\n",
              "</style>\n",
              "<table border=\"1\" class=\"dataframe\">\n",
              "  <thead>\n",
              "    <tr style=\"text-align: right;\">\n",
              "      <th></th>\n",
              "      <th>Bottle of Red Wine</th>\n",
              "      <th>%</th>\n",
              "    </tr>\n",
              "  </thead>\n",
              "  <tbody>\n",
              "    <tr>\n",
              "      <th>3</th>\n",
              "      <td>10</td>\n",
              "      <td>0.6</td>\n",
              "    </tr>\n",
              "    <tr>\n",
              "      <th>4</th>\n",
              "      <td>53</td>\n",
              "      <td>3.3</td>\n",
              "    </tr>\n",
              "    <tr>\n",
              "      <th>5</th>\n",
              "      <td>681</td>\n",
              "      <td>42.6</td>\n",
              "    </tr>\n",
              "    <tr>\n",
              "      <th>6</th>\n",
              "      <td>638</td>\n",
              "      <td>39.9</td>\n",
              "    </tr>\n",
              "    <tr>\n",
              "      <th>7</th>\n",
              "      <td>199</td>\n",
              "      <td>12.4</td>\n",
              "    </tr>\n",
              "    <tr>\n",
              "      <th>8</th>\n",
              "      <td>18</td>\n",
              "      <td>1.1</td>\n",
              "    </tr>\n",
              "    <tr>\n",
              "      <th>Total</th>\n",
              "      <td>1599</td>\n",
              "      <td>100</td>\n",
              "    </tr>\n",
              "  </tbody>\n",
              "</table>\n",
              "</div>"
            ],
            "text/plain": [
              "      Bottle of Red Wine     %\n",
              "3                     10   0.6\n",
              "4                     53   3.3\n",
              "5                    681  42.6\n",
              "6                    638  39.9\n",
              "7                    199  12.4\n",
              "8                     18   1.1\n",
              "Total               1599   100"
            ]
          },
          "metadata": {
            "tags": []
          },
          "execution_count": 74
        }
      ]
    },
    {
      "cell_type": "code",
      "metadata": {
        "colab": {
          "base_uri": "https://localhost:8080/"
        },
        "id": "9_wh1egkx0ox",
        "outputId": "2b0783a6-2ebe-4d70-c621-fc0bef77ac23"
      },
      "source": [
        "from scipy import stats\n",
        "#Kullback-Leibler divergence from the uniform distribution\n",
        "stats.entropy(percentage_red,[1/len(red_class)]*len(red_class))"
      ],
      "execution_count": 75,
      "outputs": [
        {
          "output_type": "execute_result",
          "data": {
            "text/plain": [
              "0.6097432644827808"
            ]
          },
          "metadata": {
            "tags": []
          },
          "execution_count": 75
        }
      ]
    },
    {
      "cell_type": "markdown",
      "metadata": {
        "id": "-MuC2apTW1GT"
      },
      "source": [
        "## Confusion Matrix T=0.5\n",
        "Using the full data"
      ]
    },
    {
      "cell_type": "markdown",
      "metadata": {
        "id": "LIuMkHxBkBZR"
      },
      "source": [
        ">??? suppose T=0.5, and the predicted value is 2.5, which column of confusion matrix should we add it to, 2 or 3??"
      ]
    },
    {
      "cell_type": "code",
      "metadata": {
        "colab": {
          "base_uri": "https://localhost:8080/",
          "height": 281
        },
        "id": "ixtXacv5UmKC",
        "outputId": "e8cb7f60-d438-4ca3-ee2e-3647c9cea293"
      },
      "source": [
        "red_pred=np.round(MODEL_NN_red(X_red_torch).cpu().detach().numpy())[:,0] \n",
        "red_pred=np.where(red_pred >=8.0, 8, red_pred)\n",
        "red_pred=np.where(red_pred <=3.0, 3, red_pred)  \n",
        "red_confusion=confusion_matrix(Y_red_torch.cpu().detach().numpy(), red_pred)\n",
        "red_confusion=pd.DataFrame(red_confusion,index=red_class,columns=red_class) \n",
        "print(\"Confusion Matrix for Red Wine (T=0.5)\")\n",
        "red_confusion.loc['Total']= red_confusion.sum()\n",
        "red_confusion['Total'] = red_confusion.sum(axis=1)\n",
        "red_confusion \n"
      ],
      "execution_count": 76,
      "outputs": [
        {
          "output_type": "stream",
          "text": [
            "Confusion Matrix for Red Wine (T=0.5)\n"
          ],
          "name": "stdout"
        },
        {
          "output_type": "execute_result",
          "data": {
            "text/html": [
              "<div>\n",
              "<style scoped>\n",
              "    .dataframe tbody tr th:only-of-type {\n",
              "        vertical-align: middle;\n",
              "    }\n",
              "\n",
              "    .dataframe tbody tr th {\n",
              "        vertical-align: top;\n",
              "    }\n",
              "\n",
              "    .dataframe thead th {\n",
              "        text-align: right;\n",
              "    }\n",
              "</style>\n",
              "<table border=\"1\" class=\"dataframe\">\n",
              "  <thead>\n",
              "    <tr style=\"text-align: right;\">\n",
              "      <th></th>\n",
              "      <th>3</th>\n",
              "      <th>4</th>\n",
              "      <th>5</th>\n",
              "      <th>6</th>\n",
              "      <th>7</th>\n",
              "      <th>8</th>\n",
              "      <th>Total</th>\n",
              "    </tr>\n",
              "  </thead>\n",
              "  <tbody>\n",
              "    <tr>\n",
              "      <th>3</th>\n",
              "      <td>0</td>\n",
              "      <td>4</td>\n",
              "      <td>5</td>\n",
              "      <td>1</td>\n",
              "      <td>0</td>\n",
              "      <td>0</td>\n",
              "      <td>10</td>\n",
              "    </tr>\n",
              "    <tr>\n",
              "      <th>4</th>\n",
              "      <td>1</td>\n",
              "      <td>7</td>\n",
              "      <td>40</td>\n",
              "      <td>5</td>\n",
              "      <td>0</td>\n",
              "      <td>0</td>\n",
              "      <td>53</td>\n",
              "    </tr>\n",
              "    <tr>\n",
              "      <th>5</th>\n",
              "      <td>0</td>\n",
              "      <td>8</td>\n",
              "      <td>508</td>\n",
              "      <td>163</td>\n",
              "      <td>2</td>\n",
              "      <td>0</td>\n",
              "      <td>681</td>\n",
              "    </tr>\n",
              "    <tr>\n",
              "      <th>6</th>\n",
              "      <td>0</td>\n",
              "      <td>2</td>\n",
              "      <td>171</td>\n",
              "      <td>419</td>\n",
              "      <td>46</td>\n",
              "      <td>0</td>\n",
              "      <td>638</td>\n",
              "    </tr>\n",
              "    <tr>\n",
              "      <th>7</th>\n",
              "      <td>0</td>\n",
              "      <td>0</td>\n",
              "      <td>10</td>\n",
              "      <td>91</td>\n",
              "      <td>98</td>\n",
              "      <td>0</td>\n",
              "      <td>199</td>\n",
              "    </tr>\n",
              "    <tr>\n",
              "      <th>8</th>\n",
              "      <td>0</td>\n",
              "      <td>0</td>\n",
              "      <td>0</td>\n",
              "      <td>4</td>\n",
              "      <td>14</td>\n",
              "      <td>0</td>\n",
              "      <td>18</td>\n",
              "    </tr>\n",
              "    <tr>\n",
              "      <th>Total</th>\n",
              "      <td>1</td>\n",
              "      <td>21</td>\n",
              "      <td>734</td>\n",
              "      <td>683</td>\n",
              "      <td>160</td>\n",
              "      <td>0</td>\n",
              "      <td>1599</td>\n",
              "    </tr>\n",
              "  </tbody>\n",
              "</table>\n",
              "</div>"
            ],
            "text/plain": [
              "       3   4    5    6    7  8  Total\n",
              "3      0   4    5    1    0  0     10\n",
              "4      1   7   40    5    0  0     53\n",
              "5      0   8  508  163    2  0    681\n",
              "6      0   2  171  419   46  0    638\n",
              "7      0   0   10   91   98  0    199\n",
              "8      0   0    0    4   14  0     18\n",
              "Total  1  21  734  683  160  0   1599"
            ]
          },
          "metadata": {
            "tags": []
          },
          "execution_count": 76
        }
      ]
    },
    {
      "cell_type": "code",
      "metadata": {
        "colab": {
          "base_uri": "https://localhost:8080/",
          "height": 311
        },
        "id": "4H2xQDUIf7D3",
        "outputId": "28c85916-2666-4cd1-f357-985b5b379ccd"
      },
      "source": [
        "white_pred=np.round(MODEL_NN_white(X_white_torch).cpu().detach().numpy())[:,0] \n",
        "white_pred=np.where(white_pred >=8.0, 8, white_pred)\n",
        "white_pred=np.where(white_pred <=3.0, 3, white_pred)    \n",
        "white_confusion=confusion_matrix(Y_white_torch.cpu().detach().numpy(), white_pred)\n",
        "white_confusion=pd.DataFrame(white_confusion,index=white_class,columns=white_class) \n",
        "print(\"Confusion Matrix for White Wine (T=0.5)\")\n",
        "white_confusion.loc['Total']= white_confusion.sum()\n",
        "white_confusion['Total'] = white_confusion.sum(axis=1)\n",
        "white_confusion "
      ],
      "execution_count": 77,
      "outputs": [
        {
          "output_type": "stream",
          "text": [
            "Confusion Matrix for White Wine (T=0.5)\n"
          ],
          "name": "stdout"
        },
        {
          "output_type": "execute_result",
          "data": {
            "text/html": [
              "<div>\n",
              "<style scoped>\n",
              "    .dataframe tbody tr th:only-of-type {\n",
              "        vertical-align: middle;\n",
              "    }\n",
              "\n",
              "    .dataframe tbody tr th {\n",
              "        vertical-align: top;\n",
              "    }\n",
              "\n",
              "    .dataframe thead th {\n",
              "        text-align: right;\n",
              "    }\n",
              "</style>\n",
              "<table border=\"1\" class=\"dataframe\">\n",
              "  <thead>\n",
              "    <tr style=\"text-align: right;\">\n",
              "      <th></th>\n",
              "      <th>3</th>\n",
              "      <th>4</th>\n",
              "      <th>5</th>\n",
              "      <th>6</th>\n",
              "      <th>7</th>\n",
              "      <th>8</th>\n",
              "      <th>9</th>\n",
              "      <th>Total</th>\n",
              "    </tr>\n",
              "  </thead>\n",
              "  <tbody>\n",
              "    <tr>\n",
              "      <th>3</th>\n",
              "      <td>0</td>\n",
              "      <td>1</td>\n",
              "      <td>9</td>\n",
              "      <td>10</td>\n",
              "      <td>0</td>\n",
              "      <td>0</td>\n",
              "      <td>0</td>\n",
              "      <td>20</td>\n",
              "    </tr>\n",
              "    <tr>\n",
              "      <th>4</th>\n",
              "      <td>0</td>\n",
              "      <td>15</td>\n",
              "      <td>105</td>\n",
              "      <td>42</td>\n",
              "      <td>1</td>\n",
              "      <td>0</td>\n",
              "      <td>0</td>\n",
              "      <td>163</td>\n",
              "    </tr>\n",
              "    <tr>\n",
              "      <th>5</th>\n",
              "      <td>0</td>\n",
              "      <td>8</td>\n",
              "      <td>757</td>\n",
              "      <td>677</td>\n",
              "      <td>15</td>\n",
              "      <td>0</td>\n",
              "      <td>0</td>\n",
              "      <td>1457</td>\n",
              "    </tr>\n",
              "    <tr>\n",
              "      <th>6</th>\n",
              "      <td>0</td>\n",
              "      <td>1</td>\n",
              "      <td>359</td>\n",
              "      <td>1585</td>\n",
              "      <td>253</td>\n",
              "      <td>0</td>\n",
              "      <td>0</td>\n",
              "      <td>2198</td>\n",
              "    </tr>\n",
              "    <tr>\n",
              "      <th>7</th>\n",
              "      <td>0</td>\n",
              "      <td>0</td>\n",
              "      <td>15</td>\n",
              "      <td>531</td>\n",
              "      <td>331</td>\n",
              "      <td>3</td>\n",
              "      <td>0</td>\n",
              "      <td>880</td>\n",
              "    </tr>\n",
              "    <tr>\n",
              "      <th>8</th>\n",
              "      <td>0</td>\n",
              "      <td>0</td>\n",
              "      <td>1</td>\n",
              "      <td>81</td>\n",
              "      <td>92</td>\n",
              "      <td>1</td>\n",
              "      <td>0</td>\n",
              "      <td>175</td>\n",
              "    </tr>\n",
              "    <tr>\n",
              "      <th>9</th>\n",
              "      <td>0</td>\n",
              "      <td>0</td>\n",
              "      <td>0</td>\n",
              "      <td>1</td>\n",
              "      <td>4</td>\n",
              "      <td>0</td>\n",
              "      <td>0</td>\n",
              "      <td>5</td>\n",
              "    </tr>\n",
              "    <tr>\n",
              "      <th>Total</th>\n",
              "      <td>0</td>\n",
              "      <td>25</td>\n",
              "      <td>1246</td>\n",
              "      <td>2927</td>\n",
              "      <td>696</td>\n",
              "      <td>4</td>\n",
              "      <td>0</td>\n",
              "      <td>4898</td>\n",
              "    </tr>\n",
              "  </tbody>\n",
              "</table>\n",
              "</div>"
            ],
            "text/plain": [
              "       3   4     5     6    7  8  9  Total\n",
              "3      0   1     9    10    0  0  0     20\n",
              "4      0  15   105    42    1  0  0    163\n",
              "5      0   8   757   677   15  0  0   1457\n",
              "6      0   1   359  1585  253  0  0   2198\n",
              "7      0   0    15   531  331  3  0    880\n",
              "8      0   0     1    81   92  1  0    175\n",
              "9      0   0     0     1    4  0  0      5\n",
              "Total  0  25  1246  2927  696  4  0   4898"
            ]
          },
          "metadata": {
            "tags": []
          },
          "execution_count": 77
        }
      ]
    },
    {
      "cell_type": "markdown",
      "metadata": {
        "id": "EFGFueslkX7s"
      },
      "source": [
        "using the test data"
      ]
    },
    {
      "cell_type": "code",
      "metadata": {
        "colab": {
          "base_uri": "https://localhost:8080/",
          "height": 233
        },
        "id": "HFoUkKfGkZXC",
        "outputId": "bda5f688-3b67-4a1b-9cfc-e8411ff5d1d6"
      },
      "source": [
        "red_pred=np.round(MODEL_NN_red(X_TEST_red).cpu().detach().numpy())   \n",
        "red_confusion=confusion_matrix(Y_TEST_red.cpu().detach().numpy(), red_pred)\n",
        "red_confusion=pd.DataFrame(red_confusion,index=red_class,columns=red_class) \n",
        "red_confusion  "
      ],
      "execution_count": 78,
      "outputs": [
        {
          "output_type": "execute_result",
          "data": {
            "text/html": [
              "<div>\n",
              "<style scoped>\n",
              "    .dataframe tbody tr th:only-of-type {\n",
              "        vertical-align: middle;\n",
              "    }\n",
              "\n",
              "    .dataframe tbody tr th {\n",
              "        vertical-align: top;\n",
              "    }\n",
              "\n",
              "    .dataframe thead th {\n",
              "        text-align: right;\n",
              "    }\n",
              "</style>\n",
              "<table border=\"1\" class=\"dataframe\">\n",
              "  <thead>\n",
              "    <tr style=\"text-align: right;\">\n",
              "      <th></th>\n",
              "      <th>3</th>\n",
              "      <th>4</th>\n",
              "      <th>5</th>\n",
              "      <th>6</th>\n",
              "      <th>7</th>\n",
              "      <th>8</th>\n",
              "    </tr>\n",
              "  </thead>\n",
              "  <tbody>\n",
              "    <tr>\n",
              "      <th>3</th>\n",
              "      <td>0</td>\n",
              "      <td>0</td>\n",
              "      <td>2</td>\n",
              "      <td>1</td>\n",
              "      <td>0</td>\n",
              "      <td>0</td>\n",
              "    </tr>\n",
              "    <tr>\n",
              "      <th>4</th>\n",
              "      <td>1</td>\n",
              "      <td>1</td>\n",
              "      <td>12</td>\n",
              "      <td>3</td>\n",
              "      <td>0</td>\n",
              "      <td>0</td>\n",
              "    </tr>\n",
              "    <tr>\n",
              "      <th>5</th>\n",
              "      <td>0</td>\n",
              "      <td>3</td>\n",
              "      <td>151</td>\n",
              "      <td>69</td>\n",
              "      <td>2</td>\n",
              "      <td>0</td>\n",
              "    </tr>\n",
              "    <tr>\n",
              "      <th>6</th>\n",
              "      <td>0</td>\n",
              "      <td>2</td>\n",
              "      <td>70</td>\n",
              "      <td>125</td>\n",
              "      <td>14</td>\n",
              "      <td>0</td>\n",
              "    </tr>\n",
              "    <tr>\n",
              "      <th>7</th>\n",
              "      <td>0</td>\n",
              "      <td>0</td>\n",
              "      <td>6</td>\n",
              "      <td>31</td>\n",
              "      <td>28</td>\n",
              "      <td>1</td>\n",
              "    </tr>\n",
              "    <tr>\n",
              "      <th>8</th>\n",
              "      <td>0</td>\n",
              "      <td>0</td>\n",
              "      <td>0</td>\n",
              "      <td>2</td>\n",
              "      <td>4</td>\n",
              "      <td>0</td>\n",
              "    </tr>\n",
              "  </tbody>\n",
              "</table>\n",
              "</div>"
            ],
            "text/plain": [
              "   3  4    5    6   7  8\n",
              "3  0  0    2    1   0  0\n",
              "4  1  1   12    3   0  0\n",
              "5  0  3  151   69   2  0\n",
              "6  0  2   70  125  14  0\n",
              "7  0  0    6   31  28  1\n",
              "8  0  0    0    2   4  0"
            ]
          },
          "metadata": {
            "tags": []
          },
          "execution_count": 78
        }
      ]
    },
    {
      "cell_type": "code",
      "metadata": {
        "colab": {
          "base_uri": "https://localhost:8080/",
          "height": 263
        },
        "id": "yYIsvR52kg8W",
        "outputId": "3809a8c5-f768-4660-e043-633fc032aa11"
      },
      "source": [
        "white_pred=np.round(MODEL_NN_white(X_TEST_white).cpu().detach().numpy())   \n",
        "white_confusion=confusion_matrix(Y_TEST_white.cpu().detach().numpy(), white_pred)\n",
        "#white_confusion=pd.DataFrame(white_confusion,index=white_class,columns=white_class) \n",
        "white_confusion=pd.DataFrame(white_confusion,index=white_class,columns=white_class) \n",
        "white_confusion "
      ],
      "execution_count": 80,
      "outputs": [
        {
          "output_type": "execute_result",
          "data": {
            "text/html": [
              "<div>\n",
              "<style scoped>\n",
              "    .dataframe tbody tr th:only-of-type {\n",
              "        vertical-align: middle;\n",
              "    }\n",
              "\n",
              "    .dataframe tbody tr th {\n",
              "        vertical-align: top;\n",
              "    }\n",
              "\n",
              "    .dataframe thead th {\n",
              "        text-align: right;\n",
              "    }\n",
              "</style>\n",
              "<table border=\"1\" class=\"dataframe\">\n",
              "  <thead>\n",
              "    <tr style=\"text-align: right;\">\n",
              "      <th></th>\n",
              "      <th>3</th>\n",
              "      <th>4</th>\n",
              "      <th>5</th>\n",
              "      <th>6</th>\n",
              "      <th>7</th>\n",
              "      <th>8</th>\n",
              "      <th>9</th>\n",
              "    </tr>\n",
              "  </thead>\n",
              "  <tbody>\n",
              "    <tr>\n",
              "      <th>3</th>\n",
              "      <td>0</td>\n",
              "      <td>0</td>\n",
              "      <td>2</td>\n",
              "      <td>4</td>\n",
              "      <td>0</td>\n",
              "      <td>0</td>\n",
              "      <td>0</td>\n",
              "    </tr>\n",
              "    <tr>\n",
              "      <th>4</th>\n",
              "      <td>0</td>\n",
              "      <td>4</td>\n",
              "      <td>39</td>\n",
              "      <td>11</td>\n",
              "      <td>0</td>\n",
              "      <td>0</td>\n",
              "      <td>0</td>\n",
              "    </tr>\n",
              "    <tr>\n",
              "      <th>5</th>\n",
              "      <td>0</td>\n",
              "      <td>5</td>\n",
              "      <td>237</td>\n",
              "      <td>233</td>\n",
              "      <td>6</td>\n",
              "      <td>0</td>\n",
              "      <td>0</td>\n",
              "    </tr>\n",
              "    <tr>\n",
              "      <th>6</th>\n",
              "      <td>0</td>\n",
              "      <td>1</td>\n",
              "      <td>118</td>\n",
              "      <td>530</td>\n",
              "      <td>77</td>\n",
              "      <td>0</td>\n",
              "      <td>0</td>\n",
              "    </tr>\n",
              "    <tr>\n",
              "      <th>7</th>\n",
              "      <td>0</td>\n",
              "      <td>0</td>\n",
              "      <td>7</td>\n",
              "      <td>166</td>\n",
              "      <td>115</td>\n",
              "      <td>2</td>\n",
              "      <td>0</td>\n",
              "    </tr>\n",
              "    <tr>\n",
              "      <th>8</th>\n",
              "      <td>0</td>\n",
              "      <td>0</td>\n",
              "      <td>1</td>\n",
              "      <td>28</td>\n",
              "      <td>29</td>\n",
              "      <td>0</td>\n",
              "      <td>0</td>\n",
              "    </tr>\n",
              "    <tr>\n",
              "      <th>9</th>\n",
              "      <td>0</td>\n",
              "      <td>0</td>\n",
              "      <td>0</td>\n",
              "      <td>1</td>\n",
              "      <td>1</td>\n",
              "      <td>0</td>\n",
              "      <td>0</td>\n",
              "    </tr>\n",
              "  </tbody>\n",
              "</table>\n",
              "</div>"
            ],
            "text/plain": [
              "   3  4    5    6    7  8  9\n",
              "3  0  0    2    4    0  0  0\n",
              "4  0  4   39   11    0  0  0\n",
              "5  0  5  237  233    6  0  0\n",
              "6  0  1  118  530   77  0  0\n",
              "7  0  0    7  166  115  2  0\n",
              "8  0  0    1   28   29  0  0\n",
              "9  0  0    0    1    1  0  0"
            ]
          },
          "metadata": {
            "tags": []
          },
          "execution_count": 80
        }
      ]
    },
    {
      "cell_type": "markdown",
      "metadata": {
        "id": "VAbhPvHjlTbE"
      },
      "source": [
        "None of the 9-point wine in the test dataset!   \n",
        "In the test dataset, one of the 3-point wine is classified as 8!"
      ]
    },
    {
      "cell_type": "markdown",
      "metadata": {
        "id": "_AiNqFSs1rZ8"
      },
      "source": [
        "## Kappa statistics"
      ]
    },
    {
      "cell_type": "code",
      "metadata": {
        "colab": {
          "base_uri": "https://localhost:8080/",
          "height": 97
        },
        "id": "vBfZk-p_1tY8",
        "outputId": "38f8ef73-0e3f-45c5-c760-3c63fc2db7fe"
      },
      "source": [
        "Result_TEST_white=TEST_NN(MODEL_NN_white,X_white_torch,Y_white_torch[:,0],T_list)\n",
        "Result_TEST_red=TEST_NN(MODEL_NN_red,X_red_torch,Y_red_torch[:,0],T_list)\n",
        "test_kappa_red=Result_TEST_red[\"kappa\"]\n",
        "#print(\"KAPPA is {}% (T=0.5);\".format(round(test_kappa*100,3)))\n",
        "test_kappa_white=Result_TEST_white[\"kappa\"]\n",
        "#print(\"KAPPA is {}% (T=0.5);\".format(round(test_kappa*100,3)))\n",
        "kappadf=pd.DataFrame([test_kappa_red,test_kappa_white]).transpose()\n",
        "kappadf.columns=[\"Red\",\"White\"]\n",
        "print(\"Kappa statistics (T=0.5):\")\n",
        "kappadf"
      ],
      "execution_count": 81,
      "outputs": [
        {
          "output_type": "stream",
          "text": [
            "Kappa statistics (T=0.5):\n"
          ],
          "name": "stdout"
        },
        {
          "output_type": "execute_result",
          "data": {
            "text/html": [
              "<div>\n",
              "<style scoped>\n",
              "    .dataframe tbody tr th:only-of-type {\n",
              "        vertical-align: middle;\n",
              "    }\n",
              "\n",
              "    .dataframe tbody tr th {\n",
              "        vertical-align: top;\n",
              "    }\n",
              "\n",
              "    .dataframe thead th {\n",
              "        text-align: right;\n",
              "    }\n",
              "</style>\n",
              "<table border=\"1\" class=\"dataframe\">\n",
              "  <thead>\n",
              "    <tr style=\"text-align: right;\">\n",
              "      <th></th>\n",
              "      <th>Red</th>\n",
              "      <th>White</th>\n",
              "    </tr>\n",
              "  </thead>\n",
              "  <tbody>\n",
              "    <tr>\n",
              "      <th>0</th>\n",
              "      <td>0.429155</td>\n",
              "      <td>0.28461</td>\n",
              "    </tr>\n",
              "  </tbody>\n",
              "</table>\n",
              "</div>"
            ],
            "text/plain": [
              "        Red    White\n",
              "0  0.429155  0.28461"
            ]
          },
          "metadata": {
            "tags": []
          },
          "execution_count": 81
        }
      ]
    },
    {
      "cell_type": "markdown",
      "metadata": {
        "id": "sb0l5__YeMBQ"
      },
      "source": [
        "## Precision for the different classes"
      ]
    },
    {
      "cell_type": "markdown",
      "metadata": {
        "id": "NBWJFCdHpUYQ"
      },
      "source": [
        "using the full data"
      ]
    },
    {
      "cell_type": "code",
      "metadata": {
        "colab": {
          "base_uri": "https://localhost:8080/",
          "height": 298
        },
        "id": "bil5PopmvBO9",
        "outputId": "92dc5987-689a-42db-9370-ddbb3ca6f598"
      },
      "source": [
        "red_precision=pd.DataFrame(index=red_class,columns=[\"T=0.5 (%)\",\"T=1.0 (%)\"])\n",
        "for i,c in enumerate(red_class):\n",
        "    label=Y_red_torch[Y_red_torch==red_class[i]]\n",
        "    predictor=X_red_torch[(Y_red_torch==red_class[i])[:,0],:]\n",
        "    pre1=100*TEST_NN(MODEL_NN_red,predictor,label,T_list=[0.5])[\"accuracy_list\"][0]\n",
        "    pre2=100*TEST_NN(MODEL_NN_red,predictor,label,T_list=[1.0])[\"accuracy_list\"][0]\n",
        "    red_precision.at[c, \"T=0.5 (%)\"] = pre1\n",
        "    red_precision.at[c, \"T=1.0 (%)\"] = pre2\n",
        "\n",
        "overall=pd.DataFrame(index=[\"Overall\"],columns=[\"T=0.5 (%)\",\"T=1.0 (%)\"])\n",
        "pre1=100*TEST_NN(MODEL_NN_red,X_red_torch,Y_red_torch[:,0],T_list=[0.5])[\"accuracy_list\"][0]\n",
        "pre2=100*TEST_NN(MODEL_NN_red,X_red_torch,Y_red_torch[:,0],T_list=[1.0])[\"accuracy_list\"][0]\n",
        "overall.at[\"Overall\", \"T=0.5 (%)\"] = pre1\n",
        "overall.at[\"Overall\", \"T=1.0 (%)\"] = pre2\n",
        "\n",
        "print(\"Precision for different classes \\n (Red Wine)\")\n",
        "red_precision.append(overall)"
      ],
      "execution_count": 82,
      "outputs": [
        {
          "output_type": "stream",
          "text": [
            "Precision for different classes \n",
            " (Red Wine)\n"
          ],
          "name": "stdout"
        },
        {
          "output_type": "execute_result",
          "data": {
            "text/html": [
              "<div>\n",
              "<style scoped>\n",
              "    .dataframe tbody tr th:only-of-type {\n",
              "        vertical-align: middle;\n",
              "    }\n",
              "\n",
              "    .dataframe tbody tr th {\n",
              "        vertical-align: top;\n",
              "    }\n",
              "\n",
              "    .dataframe thead th {\n",
              "        text-align: right;\n",
              "    }\n",
              "</style>\n",
              "<table border=\"1\" class=\"dataframe\">\n",
              "  <thead>\n",
              "    <tr style=\"text-align: right;\">\n",
              "      <th></th>\n",
              "      <th>T=0.5 (%)</th>\n",
              "      <th>T=1.0 (%)</th>\n",
              "    </tr>\n",
              "  </thead>\n",
              "  <tbody>\n",
              "    <tr>\n",
              "      <th>3</th>\n",
              "      <td>0</td>\n",
              "      <td>10</td>\n",
              "    </tr>\n",
              "    <tr>\n",
              "      <th>4</th>\n",
              "      <td>13.2075</td>\n",
              "      <td>45.283</td>\n",
              "    </tr>\n",
              "    <tr>\n",
              "      <th>5</th>\n",
              "      <td>74.5962</td>\n",
              "      <td>95.7416</td>\n",
              "    </tr>\n",
              "    <tr>\n",
              "      <th>6</th>\n",
              "      <td>65.674</td>\n",
              "      <td>97.1787</td>\n",
              "    </tr>\n",
              "    <tr>\n",
              "      <th>7</th>\n",
              "      <td>49.2462</td>\n",
              "      <td>76.8844</td>\n",
              "    </tr>\n",
              "    <tr>\n",
              "      <th>8</th>\n",
              "      <td>0</td>\n",
              "      <td>22.2222</td>\n",
              "    </tr>\n",
              "    <tr>\n",
              "      <th>Overall</th>\n",
              "      <td>64.5403</td>\n",
              "      <td>90.9318</td>\n",
              "    </tr>\n",
              "  </tbody>\n",
              "</table>\n",
              "</div>"
            ],
            "text/plain": [
              "        T=0.5 (%) T=1.0 (%)\n",
              "3               0        10\n",
              "4         13.2075    45.283\n",
              "5         74.5962   95.7416\n",
              "6          65.674   97.1787\n",
              "7         49.2462   76.8844\n",
              "8               0   22.2222\n",
              "Overall   64.5403   90.9318"
            ]
          },
          "metadata": {
            "tags": []
          },
          "execution_count": 82
        }
      ]
    },
    {
      "cell_type": "code",
      "metadata": {
        "colab": {
          "base_uri": "https://localhost:8080/",
          "height": 329
        },
        "id": "CdLcp1Dtn3Sj",
        "outputId": "9d25deb0-e034-4a47-e198-9a5d545aa343"
      },
      "source": [
        "white_precision=pd.DataFrame(index=white_class,columns=[\"T=0.5 (%)\",\"T=1.0 (%)\"])\n",
        "for i,c in enumerate(white_class):\n",
        "    label=Y_white_torch[Y_white_torch==white_class[i]]\n",
        "    predictor=X_white_torch[(Y_white_torch==white_class[i])[:,0],:]\n",
        "    pre1=100*TEST_NN(MODEL_NN_white,predictor,label,T_list=[0.5])[\"accuracy_list\"][0]\n",
        "    pre2=100*TEST_NN(MODEL_NN_white,predictor,label,T_list=[1.0])[\"accuracy_list\"][0]\n",
        "    white_precision.at[c, \"T=0.5 (%)\"] = pre1\n",
        "    white_precision.at[c, \"T=1.0 (%)\"] = pre2\n",
        "\n",
        "overall=pd.DataFrame(index=[\"Overall\"],columns=[\"T=0.5 (%)\",\"T=1.0 (%)\"])\n",
        "pre1=100*TEST_NN(MODEL_NN_white,X_white_torch,Y_white_torch[:,0],T_list=[0.5])[\"accuracy_list\"][0]\n",
        "pre2=100*TEST_NN(MODEL_NN_white,X_white_torch,Y_white_torch[:,0],T_list=[1.0])[\"accuracy_list\"][0]\n",
        "overall.at[\"Overall\", \"T=0.5 (%)\"] = pre1\n",
        "overall.at[\"Overall\", \"T=1.0 (%)\"] = pre2\n",
        "print(\"Precision for different classes \\n (White Wine)\")\n",
        "\n",
        "white_precision.append(overall)"
      ],
      "execution_count": 83,
      "outputs": [
        {
          "output_type": "stream",
          "text": [
            "Precision for different classes \n",
            " (White Wine)\n"
          ],
          "name": "stdout"
        },
        {
          "output_type": "execute_result",
          "data": {
            "text/html": [
              "<div>\n",
              "<style scoped>\n",
              "    .dataframe tbody tr th:only-of-type {\n",
              "        vertical-align: middle;\n",
              "    }\n",
              "\n",
              "    .dataframe tbody tr th {\n",
              "        vertical-align: top;\n",
              "    }\n",
              "\n",
              "    .dataframe thead th {\n",
              "        text-align: right;\n",
              "    }\n",
              "</style>\n",
              "<table border=\"1\" class=\"dataframe\">\n",
              "  <thead>\n",
              "    <tr style=\"text-align: right;\">\n",
              "      <th></th>\n",
              "      <th>T=0.5 (%)</th>\n",
              "      <th>T=1.0 (%)</th>\n",
              "    </tr>\n",
              "  </thead>\n",
              "  <tbody>\n",
              "    <tr>\n",
              "      <th>3</th>\n",
              "      <td>0</td>\n",
              "      <td>0</td>\n",
              "    </tr>\n",
              "    <tr>\n",
              "      <th>4</th>\n",
              "      <td>9.20245</td>\n",
              "      <td>42.3313</td>\n",
              "    </tr>\n",
              "    <tr>\n",
              "      <th>5</th>\n",
              "      <td>51.9561</td>\n",
              "      <td>90.5285</td>\n",
              "    </tr>\n",
              "    <tr>\n",
              "      <th>6</th>\n",
              "      <td>72.111</td>\n",
              "      <td>97.8617</td>\n",
              "    </tr>\n",
              "    <tr>\n",
              "      <th>7</th>\n",
              "      <td>37.6136</td>\n",
              "      <td>80.3409</td>\n",
              "    </tr>\n",
              "    <tr>\n",
              "      <th>8</th>\n",
              "      <td>0.571429</td>\n",
              "      <td>12</td>\n",
              "    </tr>\n",
              "    <tr>\n",
              "      <th>9</th>\n",
              "      <td>0</td>\n",
              "      <td>0</td>\n",
              "    </tr>\n",
              "    <tr>\n",
              "      <th>Overall</th>\n",
              "      <td>54.9</td>\n",
              "      <td>87.1172</td>\n",
              "    </tr>\n",
              "  </tbody>\n",
              "</table>\n",
              "</div>"
            ],
            "text/plain": [
              "        T=0.5 (%) T=1.0 (%)\n",
              "3               0         0\n",
              "4         9.20245   42.3313\n",
              "5         51.9561   90.5285\n",
              "6          72.111   97.8617\n",
              "7         37.6136   80.3409\n",
              "8        0.571429        12\n",
              "9               0         0\n",
              "Overall      54.9   87.1172"
            ]
          },
          "metadata": {
            "tags": []
          },
          "execution_count": 83
        }
      ]
    },
    {
      "cell_type": "markdown",
      "metadata": {
        "id": "tyHR8J1k8YdI"
      },
      "source": [
        "# To fix the Problem of Imbalance data: SMOTE\n",
        "https://machinelearningmastery.com/smote-oversampling-for-imbalanced-classification/   \n",
        "  \n",
        "N. V. Chawla, K. W. Bowyer, L. O. Hall, W. P. Kegelmeyer (2002). SMOTE: Synthetic Minority Over-sampling Technique. Journal Of Artificial Intelligence Research, Volume 16, pages 321-357.\n",
        " "
      ]
    },
    {
      "cell_type": "markdown",
      "metadata": {
        "id": "eVNYHjSZ0cXl"
      },
      "source": [
        "Using the syntheric dataset for the training/testing   \n",
        "Using the original dataset to get the confusion matrices and the precision"
      ]
    },
    {
      "cell_type": "code",
      "metadata": {
        "id": "cgUskdq0sbBx"
      },
      "source": [
        "from imblearn.over_sampling import SMOTE\n",
        "from collections import Counter\n",
        "import statistics"
      ],
      "execution_count": 84,
      "outputs": []
    },
    {
      "cell_type": "markdown",
      "metadata": {
        "id": "JAlvWC-gB-VX"
      },
      "source": [
        "## resample only the minority class "
      ]
    },
    {
      "cell_type": "markdown",
      "metadata": {
        "id": "C2SDEHMUDdJO"
      },
      "source": [
        "Need to decide the size of oversampling"
      ]
    },
    {
      "cell_type": "markdown",
      "metadata": {
        "id": "Ngm4qNE12Wii"
      },
      "source": [
        "?? underfitting?"
      ]
    },
    {
      "cell_type": "markdown",
      "metadata": {
        "id": "DoarcQxIEAcq"
      },
      "source": [
        "### Max"
      ]
    },
    {
      "cell_type": "code",
      "metadata": {
        "colab": {
          "base_uri": "https://localhost:8080/"
        },
        "id": "vHmITsAdBvog",
        "outputId": "b9801057-fdda-42dc-cb53-d602de4025e9"
      },
      "source": [
        "counter = Counter(Y_white[\"quality\"])\n",
        "print(counter)\n",
        "Max=max(counter.values()) #2198\n",
        "sm = SMOTE(sampling_strategy={3:Max,9:Max},random_state=24,k_neighbors=4)\n",
        "Augmented_X_white,Augmented_Y_white=sm.fit_sample(X_white, Y_white[\"quality\"])\n",
        "counter = Counter(Augmented_Y_white)\n",
        "print(counter)"
      ],
      "execution_count": 118,
      "outputs": [
        {
          "output_type": "stream",
          "text": [
            "Counter({6: 2198, 5: 1457, 7: 880, 8: 175, 4: 163, 3: 20, 9: 5})\n",
            "Counter({6: 2198, 3: 2198, 9: 2198, 5: 1457, 7: 880, 8: 175, 4: 163})\n"
          ],
          "name": "stdout"
        },
        {
          "output_type": "stream",
          "text": [
            "/usr/local/lib/python3.7/dist-packages/sklearn/utils/deprecation.py:87: FutureWarning: Function safe_indexing is deprecated; safe_indexing is deprecated in version 0.22 and will be removed in version 0.24.\n",
            "  warnings.warn(msg, category=FutureWarning)\n",
            "/usr/local/lib/python3.7/dist-packages/sklearn/utils/deprecation.py:87: FutureWarning: Function safe_indexing is deprecated; safe_indexing is deprecated in version 0.22 and will be removed in version 0.24.\n",
            "  warnings.warn(msg, category=FutureWarning)\n"
          ],
          "name": "stderr"
        }
      ]
    },
    {
      "cell_type": "code",
      "metadata": {
        "colab": {
          "base_uri": "https://localhost:8080/"
        },
        "id": "eR6SY_kgFhjj",
        "outputId": "3aceaccd-2abe-4240-a22b-16adb3813edf"
      },
      "source": [
        "counter = Counter(Y_red[\"quality\"])\n",
        "print(counter)\n",
        "Max=max(counter.values()) \n",
        "sm = SMOTE(sampling_strategy={3:Max,8:Max,4:Max},random_state=24,k_neighbors=4)\n",
        "Augmented_X_red,Augmented_Y_red=sm.fit_sample(X_red, Y_red[\"quality\"])\n",
        "counter = Counter(Augmented_Y_red)\n",
        "print(counter)"
      ],
      "execution_count": 119,
      "outputs": [
        {
          "output_type": "stream",
          "text": [
            "Counter({5: 681, 6: 638, 7: 199, 4: 53, 8: 18, 3: 10})\n",
            "Counter({5: 681, 4: 681, 8: 681, 3: 681, 6: 638, 7: 199})\n"
          ],
          "name": "stdout"
        },
        {
          "output_type": "stream",
          "text": [
            "/usr/local/lib/python3.7/dist-packages/sklearn/utils/deprecation.py:87: FutureWarning: Function safe_indexing is deprecated; safe_indexing is deprecated in version 0.22 and will be removed in version 0.24.\n",
            "  warnings.warn(msg, category=FutureWarning)\n",
            "/usr/local/lib/python3.7/dist-packages/sklearn/utils/deprecation.py:87: FutureWarning: Function safe_indexing is deprecated; safe_indexing is deprecated in version 0.22 and will be removed in version 0.24.\n",
            "  warnings.warn(msg, category=FutureWarning)\n",
            "/usr/local/lib/python3.7/dist-packages/sklearn/utils/deprecation.py:87: FutureWarning: Function safe_indexing is deprecated; safe_indexing is deprecated in version 0.22 and will be removed in version 0.24.\n",
            "  warnings.warn(msg, category=FutureWarning)\n"
          ],
          "name": "stderr"
        }
      ]
    },
    {
      "cell_type": "code",
      "metadata": {
        "colab": {
          "base_uri": "https://localhost:8080/",
          "height": 70
        },
        "id": "82_BJaHuE7nA",
        "outputId": "f577c31f-becf-4f09-bf2a-3563396fd61c"
      },
      "source": [
        "X_TRAIN_white, X_TEST_white, Y_TRAIN_white, Y_TEST_white = train_test_split(Augmented_X_white, Augmented_Y_white, test_size=0.33, random_state=42)\n",
        "X_TRAIN_red, X_TEST_red, Y_TRAIN_red, Y_TEST_red = train_test_split(Augmented_X_red, Augmented_Y_red, test_size=0.33, random_state=42)\n",
        "#X_TRAIN_white, X_TEST_white, Y_TRAIN_white, Y_TEST_white = train_test_split(X_white, Y_white['quality'], test_size=0.33, random_state=42,stratify=Y_white['quality']) #24\n",
        "#X_TRAIN_red, X_TEST_red, Y_TRAIN_red, Y_TEST_red = train_test_split(X_red, Y_red['quality'], test_size=0.33, random_state=42,stratify=Y_red[\"quality\"])\n",
        "\n",
        "\n",
        "TRAIN_scaler_white = preprocessing.StandardScaler().fit(X_TRAIN_white)\n",
        "TEST_scaler_white = preprocessing.StandardScaler().fit(X_TEST_white)\n",
        "X_TRAIN_white = TO_TORCH(TRAIN_scaler_white.transform(X_TRAIN_white))\n",
        "X_TEST_white = TO_TORCH(TEST_scaler_white.transform(X_TEST_white))\n",
        "\n",
        "TRAIN_scaler_red = preprocessing.StandardScaler().fit(X_TRAIN_red)\n",
        "TEST_scaler_red = preprocessing.StandardScaler().fit(X_TEST_red)\n",
        "X_TRAIN_red = TO_TORCH(TRAIN_scaler_red.transform(X_TRAIN_red))\n",
        "X_TEST_red = TO_TORCH(TEST_scaler_red.transform(X_TEST_red))\n",
        "\n",
        "Y_TRAIN_white = TO_TORCH(Y_TRAIN_white)\n",
        "Y_TEST_white = TO_TORCH(Y_TEST_white)\n",
        "\n",
        "Y_TRAIN_red = TO_TORCH(Y_TRAIN_red)\n",
        "Y_TEST_red = TO_TORCH(Y_TEST_red)\n",
        "\n",
        "\"\"\"scaler_white = preprocessing.StandardScaler().fit(X_white)\n",
        "scaler_red = preprocessing.StandardScaler().fit(X_red)\n",
        "X_white_torch = TO_TORCH(scaler_white.transform(X_white))\n",
        "X_red_torch = TO_TORCH(scaler_red.transform(X_red))\n",
        "Y_white_torch = TO_TORCH(Y_white)\n",
        "Y_red_torch = TO_TORCH(Y_red)\"\"\""
      ],
      "execution_count": 120,
      "outputs": [
        {
          "output_type": "execute_result",
          "data": {
            "application/vnd.google.colaboratory.intrinsic+json": {
              "type": "string"
            },
            "text/plain": [
              "'scaler_white = preprocessing.StandardScaler().fit(X_white)\\nscaler_red = preprocessing.StandardScaler().fit(X_red)\\nX_white_torch = TO_TORCH(scaler_white.transform(X_white))\\nX_red_torch = TO_TORCH(scaler_red.transform(X_red))\\nY_white_torch = TO_TORCH(Y_white)\\nY_red_torch = TO_TORCH(Y_red)'"
            ]
          },
          "metadata": {
            "tags": []
          },
          "execution_count": 120
        }
      ]
    },
    {
      "cell_type": "code",
      "metadata": {
        "colab": {
          "base_uri": "https://localhost:8080/",
          "height": 674
        },
        "id": "dHpbSiCYF6nb",
        "outputId": "e4eb9623-8d59-46d9-9dfa-b0871eac3f1c"
      },
      "source": [
        "result_white=TRAIN_NN(X_TRAIN_white,Y_TRAIN_white,X_TEST_white,Y_TEST_white,[9],LR=1e-1/2,BN=False,STEP_SIZE=100000,DECAY=0.5,EPOCH=60000)\n",
        "MODEL_NN_white=result_white[\"MODEL\"]\n",
        "LOSS_white=result_white[\"LOSS_TRAIN\"]\n",
        "LOSS_validation_white=result_white[\"LOSS_VALIDATION\"]\n",
        "ACCURACY_WHITE_TRAIN=result_white[\"ACCURACY_TRAIN\"]\n",
        "ACCURACY_WHITE_VALIDATION=result_white[\"ACCURACY_VALIDATION\"]\n",
        "\n",
        "T_list=[0.25,0.5,1]\n",
        "Result_TEST_white=TEST_NN(MODEL_NN_white,X_TEST_white,Y_TEST_white,T_list)\n",
        "print(\"Test Loss is {};\".format(round(Result_TEST_white[\"L2\"],3)))\n",
        "for i,T in enumerate(T_list): \n",
        "    acc=Result_TEST_white[\"accuracy_list\"][i]\n",
        "    print(\"Test Accuracy is {}% (T={});\".format(round(acc*100,3),T))\n",
        "test_kappa=Result_TEST_white[\"kappa\"]\n",
        "print(\"Test KAPPA is {}% (T=0.5);\".format(round(test_kappa*100,3)))\n",
        "\n",
        "T_list_REC=np.linspace(0,2,100)\n",
        "ACCURACY_list_REC_white=TEST_NN(MODEL_NN_white,X_TEST_white,Y_TEST_white,T_list_REC)[\"accuracy_list\"]\n",
        "plt.plot(T_list_REC,ACCURACY_list_REC_white)\n",
        "plt.xlabel(\"Tolerance\")\n",
        "plt.ylabel(\"Accuracy\")\n",
        "plt.title(\"REC \\n White wine\")"
      ],
      "execution_count": 121,
      "outputs": [
        {
          "output_type": "stream",
          "text": [
            "After 12000 Epochs:\n",
            "Train Loss is 0.8135; Train Accuracy is 77.6006% (T=1);\n",
            "Test Loss is 0.8845; Test Accuracy is 74.5015% (T=1);\n",
            "After 24000 Epochs:\n",
            "Train Loss is 0.7375; Train Accuracy is 79.4042% (T=1);\n",
            "Test Loss is 0.8188; Test Accuracy is 76.3975% (T=1);\n",
            "After 36000 Epochs:\n",
            "Train Loss is 0.7223; Train Accuracy is 79.4686% (T=1);\n",
            "Test Loss is 0.8011; Test Accuracy is 76.4956% (T=1);\n",
            "After 48000 Epochs:\n",
            "Train Loss is 0.7194; Train Accuracy is 79.4847% (T=1);\n",
            "Test Loss is 0.7973; Test Accuracy is 76.4956% (T=1);\n",
            "After 60000 Epochs:\n",
            "Train Loss is 0.7215; Train Accuracy is 79.4847% (T=1);\n",
            "Test Loss is 0.7995; Test Accuracy is 76.2668% (T=1);\n",
            "Test Loss is 0.8;\n",
            "Test Accuracy is 24.91% (T=0.25);\n",
            "Test Accuracy is 51.259% (T=0.5);\n",
            "Test Accuracy is 76.267% (T=1);\n",
            "Test KAPPA is 41.998% (T=0.5);\n"
          ],
          "name": "stdout"
        },
        {
          "output_type": "execute_result",
          "data": {
            "text/plain": [
              "Text(0.5, 1.0, 'REC \\n White wine')"
            ]
          },
          "metadata": {
            "tags": []
          },
          "execution_count": 121
        },
        {
          "output_type": "display_data",
          "data": {
            "image/png": "[encoded data removed]",
            "text/plain": [
              "<Figure size 432x288 with 1 Axes>"
            ]
          },
          "metadata": {
            "tags": [],
            "needs_background": "light"
          }
        }
      ]
    },
    {
      "cell_type": "code",
      "metadata": {
        "colab": {
          "base_uri": "https://localhost:8080/",
          "height": 417
        },
        "id": "YHgbaBCq42x4",
        "outputId": "87bce728-d7f1-401c-9edd-6251481b99e1"
      },
      "source": [
        "plt.figure(figsize=(10,5))\n",
        "plt.subplot(1,2,1)\n",
        "zoom=np.floor(len(LOSS_white)/900).astype(int)\n",
        "#zoom=0\n",
        "plt.plot(np.arange(len(LOSS_white)-zoom)+zoom, LOSS_white[zoom:],label=\"Train\")\n",
        "plt.plot(np.arange(len(LOSS_validation_white)-zoom)+zoom, LOSS_validation_white[zoom:],label=\"Validation\")\n",
        "\n",
        "#plt.plot((np.arange(len(LOSS_validation_white))+1)*len(LOSS_white)-1, LOSS_validation_white,label=\"Validation\")\n",
        "plt.xlabel(\"Epoch\")\n",
        "plt.ylabel(\"Loss\")\n",
        "plt.legend()\n",
        "plt.title(\"White Wine \\n Final Train Loss = {:.3f} \\n Final Validation Loss = {:.3f}\".format(LOSS_white[-1],LOSS_validation_white[-1]))\n",
        "\n",
        "plt.subplot(1,2,2)\n",
        "zoom=np.floor(len(ACCURACY_WHITE_TRAIN)/9000).astype(int)\n",
        "#zoom=0\n",
        "plt.plot(np.arange(len(ACCURACY_WHITE_TRAIN)-zoom)+zoom, ACCURACY_WHITE_TRAIN[zoom:],label=\"Train\")\n",
        "plt.plot(np.arange(len(ACCURACY_WHITE_VALIDATION)-zoom)+zoom, ACCURACY_WHITE_VALIDATION[zoom:],label=\"Validation\")\n",
        "\n",
        "plt.xlabel(\"Epoch\")\n",
        "plt.ylabel(\"Loss\")\n",
        "plt.legend()\n",
        "plt.title(\"White Wine \\n Final Train Accuracy (T=1) = {:.3f}% \\n Final Validation Accuracy (T=1) = {:.3f}%\".format(100*ACCURACY_WHITE_TRAIN[-1],100*ACCURACY_WHITE_VALIDATION[-1]))\n"
      ],
      "execution_count": 122,
      "outputs": [
        {
          "output_type": "execute_result",
          "data": {
            "text/plain": [
              "Text(0.5, 1.0, 'White Wine \\n Final Train Accuracy (T=1) = 79.485% \\n Final Validation Accuracy (T=1) = 76.267%')"
            ]
          },
          "metadata": {
            "tags": []
          },
          "execution_count": 122
        },
        {
          "output_type": "display_data",
          "data": {
            "image/png": "[encoded data removed]",
            "text/plain": [
              "<Figure size 720x360 with 2 Axes>"
            ]
          },
          "metadata": {
            "tags": [],
            "needs_background": "light"
          }
        }
      ]
    },
    {
      "cell_type": "code",
      "metadata": {
        "colab": {
          "base_uri": "https://localhost:8080/",
          "height": 674
        },
        "id": "Qs1qAOtNLYya",
        "outputId": "94f374e6-e9c7-42f8-d0e6-f1a5596e0149"
      },
      "source": [
        "result_red=TRAIN_NN(X_TRAIN_red,Y_TRAIN_red,X_TEST_red,Y_TEST_red,[9],LR=1e-1/2,OPT=\"SGD\",DROP_PR=0.0,BN=False,STEP_SIZE=30000,DECAY=0.5,EPOCH=100000,seed=233)\n",
        "MODEL_NN_red=result_red[\"MODEL\"]\n",
        "LOSS_red=result_red[\"LOSS_TRAIN\"]\n",
        "LOSS_validation_red=result_red[\"LOSS_VALIDATION\"]\n",
        "ACCURACY_RED_TRAIN=result_red[\"ACCURACY_TRAIN\"]\n",
        "ACCURACY_RED_VALIDATION=result_red[\"ACCURACY_VALIDATION\"]\n",
        "\n",
        "T_list=[0.25,0.5,1]\n",
        "Result_TEST_red=TEST_NN(MODEL_NN_red,X_TEST_red,Y_TEST_red,T_list)\n",
        "print(\"Test Loss is {};\".format(round(Result_TEST_red[\"L2\"],3)))\n",
        "for i,T in enumerate(T_list): \n",
        "    acc=Result_TEST_red[\"accuracy_list\"][i]\n",
        "    print(\"Test Accuracy is {}% (T={});\".format(round(acc*100,3),T))\n",
        "test_kappa=Result_TEST_red[\"kappa\"]\n",
        "print(\"Test KAPPA is {}% (T=0.5);\".format(round(test_kappa*100,3)))\n",
        "\n",
        "\n",
        "T_list_REC=np.linspace(0,2,100)\n",
        "ACCURACY_list_REC_red=TEST_NN(MODEL_NN_red,X_TEST_red,Y_TEST_red,T_list_REC)[\"accuracy_list\"]\n",
        "plt.plot(T_list_REC,ACCURACY_list_REC_red)\n",
        "plt.xlabel(\"Tolerance\")\n",
        "plt.ylabel(\"Accuracy\")\n",
        "plt.title(\"REC \\n Red wine\")"
      ],
      "execution_count": 123,
      "outputs": [
        {
          "output_type": "stream",
          "text": [
            "After 20000 Epochs:\n",
            "Train Loss is 0.3663; Train Accuracy is 90.4822% (T=1);\n",
            "Test Loss is 0.5054; Test Accuracy is 86.1395% (T=1);\n",
            "After 40000 Epochs:\n",
            "Train Loss is 0.3663; Train Accuracy is 90.5241% (T=1);\n",
            "Test Loss is 0.5051; Test Accuracy is 86.1395% (T=1);\n",
            "After 60000 Epochs:\n",
            "Train Loss is 0.3663; Train Accuracy is 90.5241% (T=1);\n",
            "Test Loss is 0.5051; Test Accuracy is 86.1395% (T=1);\n",
            "After 80000 Epochs:\n",
            "Train Loss is 0.3663; Train Accuracy is 90.5241% (T=1);\n",
            "Test Loss is 0.5052; Test Accuracy is 86.1395% (T=1);\n",
            "After 100000 Epochs:\n",
            "Train Loss is 0.3663; Train Accuracy is 90.5241% (T=1);\n",
            "Test Loss is 0.5051; Test Accuracy is 86.1395% (T=1);\n",
            "Test Loss is 0.505;\n",
            "Test Accuracy is 35.799% (T=0.25);\n",
            "Test Accuracy is 63.01% (T=0.5);\n",
            "Test Accuracy is 86.139% (T=1);\n",
            "Test KAPPA is 55.019% (T=0.5);\n"
          ],
          "name": "stdout"
        },
        {
          "output_type": "execute_result",
          "data": {
            "text/plain": [
              "Text(0.5, 1.0, 'REC \\n Red wine')"
            ]
          },
          "metadata": {
            "tags": []
          },
          "execution_count": 123
        },
        {
          "output_type": "display_data",
          "data": {
            "image/png": "[encoded data removed]",
            "text/plain": [
              "<Figure size 432x288 with 1 Axes>"
            ]
          },
          "metadata": {
            "tags": [],
            "needs_background": "light"
          }
        }
      ]
    },
    {
      "cell_type": "code",
      "metadata": {
        "colab": {
          "base_uri": "https://localhost:8080/",
          "height": 397
        },
        "id": "H_vWP-0N5HMS",
        "outputId": "0f378bbc-2baf-41d2-b65a-658c0d8650fe"
      },
      "source": [
        "plt.figure(figsize=(10,5))\n",
        "plt.subplot(1,2,1)\n",
        "zoom=np.floor(len(LOSS_red)/3000).astype(int)\n",
        "#zoom=0\n",
        "plt.plot(np.arange(len(LOSS_red)-zoom)+zoom, LOSS_red[zoom:],label=\"Train\")\n",
        "plt.plot(np.arange(len(LOSS_validation_red)-zoom)+zoom, LOSS_validation_red[zoom:],label=\"Validation\")\n",
        "\n",
        "plt.xlabel(\"Epoch\")\n",
        "plt.ylabel(\"Loss\")\n",
        "plt.legend()\n",
        "plt.title(\"Red Wine \\n Final Train Loss = {:.3f} \\n Final Validation Loss = {:.3f}\".format(LOSS_red[-1],LOSS_validation_red[-1]))\n",
        "\n",
        "plt.subplot(1,2,2)\n",
        "zoom=np.floor(len(ACCURACY_RED_TRAIN)/3000).astype(int)\n",
        "#zoom=0\n",
        "plt.plot(np.arange(len(ACCURACY_RED_TRAIN)-zoom)+zoom, ACCURACY_RED_TRAIN[zoom:],label=\"Train\")\n",
        "plt.plot(np.arange(len(ACCURACY_RED_VALIDATION)-zoom)+zoom, ACCURACY_RED_VALIDATION[zoom:],label=\"Validation\")\n",
        "\n",
        "plt.xlabel(\"Epoch\")\n",
        "plt.ylabel(\"Loss\")\n",
        "plt.legend()\n",
        "plt.title(\"Red Wine \\n Final Train Accuracy (T=1) = {:.3f}% \\n Final Validation Accuracy (T=1) = {:.3f}%\".format(100*ACCURACY_RED_TRAIN[-1],100*ACCURACY_RED_VALIDATION[-1]))\n"
      ],
      "execution_count": 124,
      "outputs": [
        {
          "output_type": "execute_result",
          "data": {
            "text/plain": [
              "Text(0.5, 1.0, 'Red Wine \\n Final Train Accuracy (T=1) = 90.524% \\n Final Validation Accuracy (T=1) = 86.139%')"
            ]
          },
          "metadata": {
            "tags": []
          },
          "execution_count": 124
        },
        {
          "output_type": "display_data",
          "data": {
            "image/png": "[encoded data removed]",
            "text/plain": [
              "<Figure size 720x360 with 2 Axes>"
            ]
          },
          "metadata": {
            "tags": [],
            "needs_background": "light"
          }
        }
      ]
    },
    {
      "cell_type": "code",
      "metadata": {
        "colab": {
          "base_uri": "https://localhost:8080/",
          "height": 250
        },
        "id": "WeiC4jyOK16L",
        "outputId": "f64395d6-f1bf-48f0-86b7-69f061720e5b"
      },
      "source": [
        "red_pred=np.round(MODEL_NN_red(X_red_torch).cpu().detach().numpy())[:,0]\n",
        "red_pred=np.where(red_pred >=8.0, 8, red_pred)\n",
        "red_pred=np.where(red_pred <=3.0, 3, red_pred)  \n",
        "red_confusion=confusion_matrix(Y_red_torch.cpu().detach().numpy(), red_pred)\n",
        "red_confusion=pd.DataFrame(red_confusion,index=red_class,columns=red_class) \n",
        "print(\"Confusion Matrix for Red Wine (T=0.5)\")\n",
        "red_confusion "
      ],
      "execution_count": 125,
      "outputs": [
        {
          "output_type": "stream",
          "text": [
            "Confusion Matrix for Red Wine (T=0.5)\n"
          ],
          "name": "stdout"
        },
        {
          "output_type": "execute_result",
          "data": {
            "text/html": [
              "<div>\n",
              "<style scoped>\n",
              "    .dataframe tbody tr th:only-of-type {\n",
              "        vertical-align: middle;\n",
              "    }\n",
              "\n",
              "    .dataframe tbody tr th {\n",
              "        vertical-align: top;\n",
              "    }\n",
              "\n",
              "    .dataframe thead th {\n",
              "        text-align: right;\n",
              "    }\n",
              "</style>\n",
              "<table border=\"1\" class=\"dataframe\">\n",
              "  <thead>\n",
              "    <tr style=\"text-align: right;\">\n",
              "      <th></th>\n",
              "      <th>3</th>\n",
              "      <th>4</th>\n",
              "      <th>5</th>\n",
              "      <th>6</th>\n",
              "      <th>7</th>\n",
              "      <th>8</th>\n",
              "    </tr>\n",
              "  </thead>\n",
              "  <tbody>\n",
              "    <tr>\n",
              "      <th>3</th>\n",
              "      <td>9</td>\n",
              "      <td>1</td>\n",
              "      <td>0</td>\n",
              "      <td>0</td>\n",
              "      <td>0</td>\n",
              "      <td>0</td>\n",
              "    </tr>\n",
              "    <tr>\n",
              "      <th>4</th>\n",
              "      <td>11</td>\n",
              "      <td>22</td>\n",
              "      <td>20</td>\n",
              "      <td>0</td>\n",
              "      <td>0</td>\n",
              "      <td>0</td>\n",
              "    </tr>\n",
              "    <tr>\n",
              "      <th>5</th>\n",
              "      <td>44</td>\n",
              "      <td>186</td>\n",
              "      <td>319</td>\n",
              "      <td>108</td>\n",
              "      <td>21</td>\n",
              "      <td>3</td>\n",
              "    </tr>\n",
              "    <tr>\n",
              "      <th>6</th>\n",
              "      <td>13</td>\n",
              "      <td>67</td>\n",
              "      <td>227</td>\n",
              "      <td>200</td>\n",
              "      <td>96</td>\n",
              "      <td>35</td>\n",
              "    </tr>\n",
              "    <tr>\n",
              "      <th>7</th>\n",
              "      <td>0</td>\n",
              "      <td>5</td>\n",
              "      <td>22</td>\n",
              "      <td>52</td>\n",
              "      <td>67</td>\n",
              "      <td>53</td>\n",
              "    </tr>\n",
              "    <tr>\n",
              "      <th>8</th>\n",
              "      <td>0</td>\n",
              "      <td>0</td>\n",
              "      <td>0</td>\n",
              "      <td>0</td>\n",
              "      <td>2</td>\n",
              "      <td>16</td>\n",
              "    </tr>\n",
              "  </tbody>\n",
              "</table>\n",
              "</div>"
            ],
            "text/plain": [
              "    3    4    5    6   7   8\n",
              "3   9    1    0    0   0   0\n",
              "4  11   22   20    0   0   0\n",
              "5  44  186  319  108  21   3\n",
              "6  13   67  227  200  96  35\n",
              "7   0    5   22   52  67  53\n",
              "8   0    0    0    0   2  16"
            ]
          },
          "metadata": {
            "tags": []
          },
          "execution_count": 125
        }
      ]
    },
    {
      "cell_type": "code",
      "metadata": {
        "colab": {
          "base_uri": "https://localhost:8080/",
          "height": 281
        },
        "id": "zCztuL47LQyi",
        "outputId": "cdc06025-0231-4bf8-cf7a-90ed81a6e851"
      },
      "source": [
        "white_pred=np.round(MODEL_NN_white(X_white_torch).cpu().detach().numpy())[:,0]\n",
        "white_pred=np.where(white_pred >=8.0, 8, white_pred)\n",
        "white_pred=np.where(white_pred <=3.0, 3, white_pred)\n",
        "white_confusion=confusion_matrix(Y_white_torch.cpu().detach().numpy(), white_pred)\n",
        "white_confusion=pd.DataFrame(white_confusion,index=white_class,columns=white_class) \n",
        "print(\"Confusion Matrix for White Wine (T=0.5)\")\n",
        "\n",
        "white_confusion "
      ],
      "execution_count": 126,
      "outputs": [
        {
          "output_type": "stream",
          "text": [
            "Confusion Matrix for White Wine (T=0.5)\n"
          ],
          "name": "stdout"
        },
        {
          "output_type": "execute_result",
          "data": {
            "text/html": [
              "<div>\n",
              "<style scoped>\n",
              "    .dataframe tbody tr th:only-of-type {\n",
              "        vertical-align: middle;\n",
              "    }\n",
              "\n",
              "    .dataframe tbody tr th {\n",
              "        vertical-align: top;\n",
              "    }\n",
              "\n",
              "    .dataframe thead th {\n",
              "        text-align: right;\n",
              "    }\n",
              "</style>\n",
              "<table border=\"1\" class=\"dataframe\">\n",
              "  <thead>\n",
              "    <tr style=\"text-align: right;\">\n",
              "      <th></th>\n",
              "      <th>3</th>\n",
              "      <th>4</th>\n",
              "      <th>5</th>\n",
              "      <th>6</th>\n",
              "      <th>7</th>\n",
              "      <th>8</th>\n",
              "      <th>9</th>\n",
              "    </tr>\n",
              "  </thead>\n",
              "  <tbody>\n",
              "    <tr>\n",
              "      <th>3</th>\n",
              "      <td>11</td>\n",
              "      <td>6</td>\n",
              "      <td>3</td>\n",
              "      <td>0</td>\n",
              "      <td>0</td>\n",
              "      <td>0</td>\n",
              "      <td>0</td>\n",
              "    </tr>\n",
              "    <tr>\n",
              "      <th>4</th>\n",
              "      <td>30</td>\n",
              "      <td>42</td>\n",
              "      <td>53</td>\n",
              "      <td>17</td>\n",
              "      <td>11</td>\n",
              "      <td>10</td>\n",
              "      <td>0</td>\n",
              "    </tr>\n",
              "    <tr>\n",
              "      <th>5</th>\n",
              "      <td>70</td>\n",
              "      <td>223</td>\n",
              "      <td>545</td>\n",
              "      <td>433</td>\n",
              "      <td>144</td>\n",
              "      <td>42</td>\n",
              "      <td>0</td>\n",
              "    </tr>\n",
              "    <tr>\n",
              "      <th>6</th>\n",
              "      <td>37</td>\n",
              "      <td>187</td>\n",
              "      <td>534</td>\n",
              "      <td>736</td>\n",
              "      <td>501</td>\n",
              "      <td>203</td>\n",
              "      <td>0</td>\n",
              "    </tr>\n",
              "    <tr>\n",
              "      <th>7</th>\n",
              "      <td>6</td>\n",
              "      <td>26</td>\n",
              "      <td>94</td>\n",
              "      <td>236</td>\n",
              "      <td>307</td>\n",
              "      <td>211</td>\n",
              "      <td>0</td>\n",
              "    </tr>\n",
              "    <tr>\n",
              "      <th>8</th>\n",
              "      <td>0</td>\n",
              "      <td>3</td>\n",
              "      <td>19</td>\n",
              "      <td>39</td>\n",
              "      <td>56</td>\n",
              "      <td>58</td>\n",
              "      <td>0</td>\n",
              "    </tr>\n",
              "    <tr>\n",
              "      <th>9</th>\n",
              "      <td>0</td>\n",
              "      <td>0</td>\n",
              "      <td>0</td>\n",
              "      <td>0</td>\n",
              "      <td>0</td>\n",
              "      <td>5</td>\n",
              "      <td>0</td>\n",
              "    </tr>\n",
              "  </tbody>\n",
              "</table>\n",
              "</div>"
            ],
            "text/plain": [
              "    3    4    5    6    7    8  9\n",
              "3  11    6    3    0    0    0  0\n",
              "4  30   42   53   17   11   10  0\n",
              "5  70  223  545  433  144   42  0\n",
              "6  37  187  534  736  501  203  0\n",
              "7   6   26   94  236  307  211  0\n",
              "8   0    3   19   39   56   58  0\n",
              "9   0    0    0    0    0    5  0"
            ]
          },
          "metadata": {
            "tags": []
          },
          "execution_count": 126
        }
      ]
    },
    {
      "cell_type": "code",
      "metadata": {
        "colab": {
          "base_uri": "https://localhost:8080/",
          "height": 298
        },
        "id": "MFYbdXWFSeg1",
        "outputId": "57c2ed6d-8024-410a-8ca2-331664de5ddf"
      },
      "source": [
        "red_precision=pd.DataFrame(index=red_class,columns=[\"T=0.5 (%)\",\"T=1.0 (%)\"])\n",
        "for i,c in enumerate(red_class):\n",
        "    label=Y_red_torch[Y_red_torch==red_class[i]]\n",
        "    predictor=X_red_torch[(Y_red_torch==red_class[i])[:,0],:]\n",
        "    pre1=100*TEST_NN(MODEL_NN_red,predictor,label,T_list=[0.5])[\"accuracy_list\"][0]\n",
        "    pre2=100*TEST_NN(MODEL_NN_red,predictor,label,T_list=[1.0])[\"accuracy_list\"][0]\n",
        "    red_precision.at[c, \"T=0.5 (%)\"] = pre1\n",
        "    red_precision.at[c, \"T=1.0 (%)\"] = pre2\n",
        "\n",
        "overall=pd.DataFrame(index=[\"Overall\"],columns=[\"T=0.5 (%)\",\"T=1.0 (%)\"])\n",
        "pre1=100*TEST_NN(MODEL_NN_red,X_red_torch,Y_red_torch[:,0],T_list=[0.5])[\"accuracy_list\"][0]\n",
        "pre2=100*TEST_NN(MODEL_NN_red,X_red_torch,Y_red_torch[:,0],T_list=[1.0])[\"accuracy_list\"][0]\n",
        "overall.at[\"Overall\", \"T=0.5 (%)\"] = pre1\n",
        "overall.at[\"Overall\", \"T=1.0 (%)\"] = pre2\n",
        "print(\"Precision for different classes \\n (Red Wine)\")\n",
        "\n",
        "red_precision.append(overall)"
      ],
      "execution_count": 127,
      "outputs": [
        {
          "output_type": "stream",
          "text": [
            "Precision for different classes \n",
            " (Red Wine)\n"
          ],
          "name": "stdout"
        },
        {
          "output_type": "execute_result",
          "data": {
            "text/html": [
              "<div>\n",
              "<style scoped>\n",
              "    .dataframe tbody tr th:only-of-type {\n",
              "        vertical-align: middle;\n",
              "    }\n",
              "\n",
              "    .dataframe tbody tr th {\n",
              "        vertical-align: top;\n",
              "    }\n",
              "\n",
              "    .dataframe thead th {\n",
              "        text-align: right;\n",
              "    }\n",
              "</style>\n",
              "<table border=\"1\" class=\"dataframe\">\n",
              "  <thead>\n",
              "    <tr style=\"text-align: right;\">\n",
              "      <th></th>\n",
              "      <th>T=0.5 (%)</th>\n",
              "      <th>T=1.0 (%)</th>\n",
              "    </tr>\n",
              "  </thead>\n",
              "  <tbody>\n",
              "    <tr>\n",
              "      <th>3</th>\n",
              "      <td>80</td>\n",
              "      <td>100</td>\n",
              "    </tr>\n",
              "    <tr>\n",
              "      <th>4</th>\n",
              "      <td>41.5094</td>\n",
              "      <td>83.0189</td>\n",
              "    </tr>\n",
              "    <tr>\n",
              "      <th>5</th>\n",
              "      <td>46.8429</td>\n",
              "      <td>75.4772</td>\n",
              "    </tr>\n",
              "    <tr>\n",
              "      <th>6</th>\n",
              "      <td>31.348</td>\n",
              "      <td>63.1661</td>\n",
              "    </tr>\n",
              "    <tr>\n",
              "      <th>7</th>\n",
              "      <td>33.6683</td>\n",
              "      <td>63.8191</td>\n",
              "    </tr>\n",
              "    <tr>\n",
              "      <th>8</th>\n",
              "      <td>66.6667</td>\n",
              "      <td>94.4444</td>\n",
              "    </tr>\n",
              "    <tr>\n",
              "      <th>Overall</th>\n",
              "      <td>39.2745</td>\n",
              "      <td>69.7311</td>\n",
              "    </tr>\n",
              "  </tbody>\n",
              "</table>\n",
              "</div>"
            ],
            "text/plain": [
              "        T=0.5 (%) T=1.0 (%)\n",
              "3              80       100\n",
              "4         41.5094   83.0189\n",
              "5         46.8429   75.4772\n",
              "6          31.348   63.1661\n",
              "7         33.6683   63.8191\n",
              "8         66.6667   94.4444\n",
              "Overall   39.2745   69.7311"
            ]
          },
          "metadata": {
            "tags": []
          },
          "execution_count": 127
        }
      ]
    },
    {
      "cell_type": "code",
      "metadata": {
        "colab": {
          "base_uri": "https://localhost:8080/",
          "height": 329
        },
        "id": "sKxc9ZGUSg78",
        "outputId": "caefe150-d604-470c-80c6-ddc93046bb1a"
      },
      "source": [
        "white_precision=pd.DataFrame(index=white_class,columns=[\"T=0.5 (%)\",\"T=1.0 (%)\"])\n",
        "for i,c in enumerate(white_class):\n",
        "    label=Y_white_torch[Y_white_torch==white_class[i]]\n",
        "    predictor=X_white_torch[(Y_white_torch==white_class[i])[:,0],:]\n",
        "    pre1=100*TEST_NN(MODEL_NN_white,predictor,label,T_list=[0.5])[\"accuracy_list\"][0]\n",
        "    pre2=100*TEST_NN(MODEL_NN_white,predictor,label,T_list=[1.0])[\"accuracy_list\"][0]\n",
        "    white_precision.at[c, \"T=0.5 (%)\"] = pre1\n",
        "    white_precision.at[c, \"T=1.0 (%)\"] = pre2\n",
        "\n",
        "overall=pd.DataFrame(index=[\"Overall\"],columns=[\"T=0.5 (%)\",\"T=1.0 (%)\"])\n",
        "pre1=100*TEST_NN(MODEL_NN_white,X_white_torch,Y_white_torch[:,0],T_list=[0.5])[\"accuracy_list\"][0]\n",
        "pre2=100*TEST_NN(MODEL_NN_white,X_white_torch,Y_white_torch[:,0],T_list=[1.0])[\"accuracy_list\"][0]\n",
        "overall.at[\"Overall\", \"T=0.5 (%)\"] = pre1\n",
        "overall.at[\"Overall\", \"T=1.0 (%)\"] = pre2\n",
        "print(\"Precision for different classes \\n (White Wine)\")\n",
        "\n",
        "white_precision.append(overall)"
      ],
      "execution_count": 128,
      "outputs": [
        {
          "output_type": "stream",
          "text": [
            "Precision for different classes \n",
            " (White Wine)\n"
          ],
          "name": "stdout"
        },
        {
          "output_type": "execute_result",
          "data": {
            "text/html": [
              "<div>\n",
              "<style scoped>\n",
              "    .dataframe tbody tr th:only-of-type {\n",
              "        vertical-align: middle;\n",
              "    }\n",
              "\n",
              "    .dataframe tbody tr th {\n",
              "        vertical-align: top;\n",
              "    }\n",
              "\n",
              "    .dataframe thead th {\n",
              "        text-align: right;\n",
              "    }\n",
              "</style>\n",
              "<table border=\"1\" class=\"dataframe\">\n",
              "  <thead>\n",
              "    <tr style=\"text-align: right;\">\n",
              "      <th></th>\n",
              "      <th>T=0.5 (%)</th>\n",
              "      <th>T=1.0 (%)</th>\n",
              "    </tr>\n",
              "  </thead>\n",
              "  <tbody>\n",
              "    <tr>\n",
              "      <th>3</th>\n",
              "      <td>35</td>\n",
              "      <td>65</td>\n",
              "    </tr>\n",
              "    <tr>\n",
              "      <th>4</th>\n",
              "      <td>25.7669</td>\n",
              "      <td>56.4417</td>\n",
              "    </tr>\n",
              "    <tr>\n",
              "      <th>5</th>\n",
              "      <td>37.4056</td>\n",
              "      <td>65.8202</td>\n",
              "    </tr>\n",
              "    <tr>\n",
              "      <th>6</th>\n",
              "      <td>33.485</td>\n",
              "      <td>63.3758</td>\n",
              "    </tr>\n",
              "    <tr>\n",
              "      <th>7</th>\n",
              "      <td>34.8864</td>\n",
              "      <td>63.5227</td>\n",
              "    </tr>\n",
              "    <tr>\n",
              "      <th>8</th>\n",
              "      <td>22.2857</td>\n",
              "      <td>42.2857</td>\n",
              "    </tr>\n",
              "    <tr>\n",
              "      <th>9</th>\n",
              "      <td>0</td>\n",
              "      <td>40</td>\n",
              "    </tr>\n",
              "    <tr>\n",
              "      <th>Overall</th>\n",
              "      <td>34.218</td>\n",
              "      <td>63.1278</td>\n",
              "    </tr>\n",
              "  </tbody>\n",
              "</table>\n",
              "</div>"
            ],
            "text/plain": [
              "        T=0.5 (%) T=1.0 (%)\n",
              "3              35        65\n",
              "4         25.7669   56.4417\n",
              "5         37.4056   65.8202\n",
              "6          33.485   63.3758\n",
              "7         34.8864   63.5227\n",
              "8         22.2857   42.2857\n",
              "9               0        40\n",
              "Overall    34.218   63.1278"
            ]
          },
          "metadata": {
            "tags": []
          },
          "execution_count": 128
        }
      ]
    },
    {
      "cell_type": "markdown",
      "metadata": {
        "id": "t4Fw_PlgD6h2"
      },
      "source": [
        "### Median "
      ]
    },
    {
      "cell_type": "code",
      "metadata": {
        "colab": {
          "base_uri": "https://localhost:8080/"
        },
        "id": "ZJTWSmwhTCZJ",
        "outputId": "67f228f8-b5a2-45dc-cf83-14514bd9fef3"
      },
      "source": [
        "counter = Counter(Y_white[\"quality\"])\n",
        "print(counter)\n",
        "median=int(statistics.median(counter.values()))#175\n",
        "sm = SMOTE(sampling_strategy={3:median,9:median},random_state=24,k_neighbors=4)\n",
        "Augmented_X_white,Augmented_Y_white=sm.fit_sample(X_white, Y_white[\"quality\"])\n",
        "counter = Counter(Augmented_Y_white)\n",
        "print(counter)"
      ],
      "execution_count": 129,
      "outputs": [
        {
          "output_type": "stream",
          "text": [
            "Counter({6: 2198, 5: 1457, 7: 880, 8: 175, 4: 163, 3: 20, 9: 5})\n",
            "Counter({6: 2198, 5: 1457, 7: 880, 8: 175, 3: 175, 9: 175, 4: 163})\n"
          ],
          "name": "stdout"
        },
        {
          "output_type": "stream",
          "text": [
            "/usr/local/lib/python3.7/dist-packages/sklearn/utils/deprecation.py:87: FutureWarning: Function safe_indexing is deprecated; safe_indexing is deprecated in version 0.22 and will be removed in version 0.24.\n",
            "  warnings.warn(msg, category=FutureWarning)\n",
            "/usr/local/lib/python3.7/dist-packages/sklearn/utils/deprecation.py:87: FutureWarning: Function safe_indexing is deprecated; safe_indexing is deprecated in version 0.22 and will be removed in version 0.24.\n",
            "  warnings.warn(msg, category=FutureWarning)\n"
          ],
          "name": "stderr"
        }
      ]
    },
    {
      "cell_type": "code",
      "metadata": {
        "colab": {
          "base_uri": "https://localhost:8080/"
        },
        "id": "jCbIs6V4TNEg",
        "outputId": "16f16ee5-a9a2-4cdd-a607-d54e43024323"
      },
      "source": [
        "counter = Counter(Y_red[\"quality\"])\n",
        "print(counter)\n",
        "Median=int(statistics.median(counter.values()))\n",
        "sm = SMOTE(sampling_strategy={3:Median,8:Median,4:Median},random_state=24,k_neighbors=4)\n",
        "Augmented_X_red,Augmented_Y_red=sm.fit_sample(X_red, Y_red[\"quality\"])\n",
        "counter = Counter(Augmented_Y_red)\n",
        "print(counter)"
      ],
      "execution_count": 130,
      "outputs": [
        {
          "output_type": "stream",
          "text": [
            "Counter({5: 681, 6: 638, 7: 199, 4: 53, 8: 18, 3: 10})\n",
            "Counter({5: 681, 6: 638, 7: 199, 4: 126, 8: 126, 3: 126})\n"
          ],
          "name": "stdout"
        },
        {
          "output_type": "stream",
          "text": [
            "/usr/local/lib/python3.7/dist-packages/sklearn/utils/deprecation.py:87: FutureWarning: Function safe_indexing is deprecated; safe_indexing is deprecated in version 0.22 and will be removed in version 0.24.\n",
            "  warnings.warn(msg, category=FutureWarning)\n",
            "/usr/local/lib/python3.7/dist-packages/sklearn/utils/deprecation.py:87: FutureWarning: Function safe_indexing is deprecated; safe_indexing is deprecated in version 0.22 and will be removed in version 0.24.\n",
            "  warnings.warn(msg, category=FutureWarning)\n",
            "/usr/local/lib/python3.7/dist-packages/sklearn/utils/deprecation.py:87: FutureWarning: Function safe_indexing is deprecated; safe_indexing is deprecated in version 0.22 and will be removed in version 0.24.\n",
            "  warnings.warn(msg, category=FutureWarning)\n"
          ],
          "name": "stderr"
        }
      ]
    },
    {
      "cell_type": "code",
      "metadata": {
        "colab": {
          "base_uri": "https://localhost:8080/",
          "height": 70
        },
        "id": "rN6hsBAyVpBt",
        "outputId": "b2aaf9da-fa25-47a8-a10d-1593a59f4717"
      },
      "source": [
        "X_TRAIN_white, X_TEST_white, Y_TRAIN_white, Y_TEST_white = train_test_split(Augmented_X_white, Augmented_Y_white, test_size=0.33, random_state=42)\n",
        "X_TRAIN_red, X_TEST_red, Y_TRAIN_red, Y_TEST_red = train_test_split(Augmented_X_red, Augmented_Y_red, test_size=0.33, random_state=42)\n",
        "#X_TRAIN_white, X_TEST_white, Y_TRAIN_white, Y_TEST_white = train_test_split(X_white, Y_white['quality'], test_size=0.33, random_state=42,stratify=Y_white['quality']) #24\n",
        "#X_TRAIN_red, X_TEST_red, Y_TRAIN_red, Y_TEST_red = train_test_split(X_red, Y_red['quality'], test_size=0.33, random_state=42,stratify=Y_red[\"quality\"])\n",
        "\n",
        "TRAIN_scaler_white = preprocessing.StandardScaler().fit(X_TRAIN_white)\n",
        "TEST_scaler_white = preprocessing.StandardScaler().fit(X_TEST_white)\n",
        "X_TRAIN_white = TO_TORCH(TRAIN_scaler_white.transform(X_TRAIN_white))\n",
        "X_TEST_white = TO_TORCH(TEST_scaler_white.transform(X_TEST_white))\n",
        "\n",
        "TRAIN_scaler_red = preprocessing.StandardScaler().fit(X_TRAIN_red)\n",
        "TEST_scaler_red = preprocessing.StandardScaler().fit(X_TEST_red)\n",
        "X_TRAIN_red = TO_TORCH(TRAIN_scaler_red.transform(X_TRAIN_red))\n",
        "X_TEST_red = TO_TORCH(TEST_scaler_red.transform(X_TEST_red))\n",
        "\n",
        "Y_TRAIN_white = TO_TORCH(Y_TRAIN_white)\n",
        "Y_TEST_white = TO_TORCH(Y_TEST_white)\n",
        "\n",
        "Y_TRAIN_red = TO_TORCH(Y_TRAIN_red)\n",
        "Y_TEST_red = TO_TORCH(Y_TEST_red)\n",
        "\n",
        "\"\"\"scaler_white = preprocessing.StandardScaler().fit(X_white)\n",
        "scaler_red = preprocessing.StandardScaler().fit(X_red)\n",
        "X_white_torch = TO_TORCH(scaler_white.transform(X_white))\n",
        "X_red_torch = TO_TORCH(scaler_red.transform(X_red))\n",
        "Y_white_torch = TO_TORCH(Y_white)\n",
        "Y_red_torch = TO_TORCH(Y_red)\"\"\""
      ],
      "execution_count": 131,
      "outputs": [
        {
          "output_type": "execute_result",
          "data": {
            "application/vnd.google.colaboratory.intrinsic+json": {
              "type": "string"
            },
            "text/plain": [
              "'scaler_white = preprocessing.StandardScaler().fit(X_white)\\nscaler_red = preprocessing.StandardScaler().fit(X_red)\\nX_white_torch = TO_TORCH(scaler_white.transform(X_white))\\nX_red_torch = TO_TORCH(scaler_red.transform(X_red))\\nY_white_torch = TO_TORCH(Y_white)\\nY_red_torch = TO_TORCH(Y_red)'"
            ]
          },
          "metadata": {
            "tags": []
          },
          "execution_count": 131
        }
      ]
    },
    {
      "cell_type": "code",
      "metadata": {
        "colab": {
          "base_uri": "https://localhost:8080/",
          "height": 674
        },
        "id": "pW90T13t5R0G",
        "outputId": "8ad53f92-32f7-48ae-dbd1-f73974049bbe"
      },
      "source": [
        "result_white=TRAIN_NN(X_TRAIN_white,Y_TRAIN_white,X_TEST_white,Y_TEST_white,[9],LR=1e-1/2,BN=False,STEP_SIZE=100000,DECAY=0.5,EPOCH=60000)\n",
        "MODEL_NN_white=result_white[\"MODEL\"]\n",
        "LOSS_white=result_white[\"LOSS_TRAIN\"]\n",
        "LOSS_validation_white=result_white[\"LOSS_VALIDATION\"]\n",
        "ACCURACY_WHITE_TRAIN=result_white[\"ACCURACY_TRAIN\"]\n",
        "ACCURACY_WHITE_VALIDATION=result_white[\"ACCURACY_VALIDATION\"]\n",
        "\n",
        "T_list=[0.25,0.5,1]\n",
        "Result_TEST_white=TEST_NN(MODEL_NN_white,X_TEST_white,Y_TEST_white,T_list)\n",
        "print(\"Test Loss is {};\".format(round(Result_TEST_white[\"L2\"],3)))\n",
        "for i,T in enumerate(T_list): \n",
        "    acc=Result_TEST_white[\"accuracy_list\"][i]\n",
        "    print(\"Test Accuracy is {}% (T={});\".format(round(acc*100,3),T))\n",
        "test_kappa=Result_TEST_white[\"kappa\"]\n",
        "print(\"Test KAPPA is {}% (T=0.5);\".format(round(test_kappa*100,3)))\n",
        "\n",
        "T_list_REC=np.linspace(0,2,100)\n",
        "ACCURACY_list_REC_white=TEST_NN(MODEL_NN_white,X_TEST_white,Y_TEST_white,T_list_REC)[\"accuracy_list\"]\n",
        "plt.plot(T_list_REC,ACCURACY_list_REC_white)\n",
        "plt.xlabel(\"Tolerance\")\n",
        "plt.ylabel(\"Accuracy\")\n",
        "plt.title(\"REC \\n White wine\")"
      ],
      "execution_count": 132,
      "outputs": [
        {
          "output_type": "stream",
          "text": [
            "After 12000 Epochs:\n",
            "Train Loss is 0.6588; Train Accuracy is 80.9946% (T=1);\n",
            "Test Loss is 0.7107; Test Accuracy is 77.9582% (T=1);\n",
            "After 24000 Epochs:\n",
            "Train Loss is 0.6536; Train Accuracy is 80.7659% (T=1);\n",
            "Test Loss is 0.7087; Test Accuracy is 78.0742% (T=1);\n",
            "After 36000 Epochs:\n",
            "Train Loss is 0.6507; Train Accuracy is 80.966% (T=1);\n",
            "Test Loss is 0.7095; Test Accuracy is 78.1903% (T=1);\n",
            "After 48000 Epochs:\n",
            "Train Loss is 0.6485; Train Accuracy is 81.1089% (T=1);\n",
            "Test Loss is 0.7132; Test Accuracy is 77.9582% (T=1);\n",
            "After 60000 Epochs:\n",
            "Train Loss is 0.6481; Train Accuracy is 81.0517% (T=1);\n",
            "Test Loss is 0.7127; Test Accuracy is 77.6102% (T=1);\n",
            "Test Loss is 0.713;\n",
            "Test Accuracy is 26.856% (T=0.25);\n",
            "Test Accuracy is 46.926% (T=0.5);\n",
            "Test Accuracy is 77.61% (T=1);\n",
            "Test KAPPA is 23.452% (T=0.5);\n"
          ],
          "name": "stdout"
        },
        {
          "output_type": "execute_result",
          "data": {
            "text/plain": [
              "Text(0.5, 1.0, 'REC \\n White wine')"
            ]
          },
          "metadata": {
            "tags": []
          },
          "execution_count": 132
        },
        {
          "output_type": "display_data",
          "data": {
            "image/png": "[encoded data removed]",
            "text/plain": [
              "<Figure size 432x288 with 1 Axes>"
            ]
          },
          "metadata": {
            "tags": [],
            "needs_background": "light"
          }
        }
      ]
    },
    {
      "cell_type": "code",
      "metadata": {
        "colab": {
          "base_uri": "https://localhost:8080/",
          "height": 417
        },
        "id": "d9zWVrvw5R0K",
        "outputId": "18dc840e-fce8-41ef-cf85-1799fae697e5"
      },
      "source": [
        "plt.figure(figsize=(10,5))\n",
        "plt.subplot(1,2,1)\n",
        "zoom=np.floor(len(LOSS_white)/900).astype(int)\n",
        "#zoom=0\n",
        "plt.plot(np.arange(len(LOSS_white)-zoom)+zoom, LOSS_white[zoom:],label=\"Train\")\n",
        "plt.plot(np.arange(len(LOSS_validation_white)-zoom)+zoom, LOSS_validation_white[zoom:],label=\"Validation\")\n",
        "\n",
        "#plt.plot((np.arange(len(LOSS_validation_white))+1)*len(LOSS_white)-1, LOSS_validation_white,label=\"Validation\")\n",
        "plt.xlabel(\"Epoch\")\n",
        "plt.ylabel(\"Loss\")\n",
        "plt.legend()\n",
        "plt.title(\"White Wine \\n Final Train Loss = {:.3f} \\n Final Validation Loss = {:.3f}\".format(LOSS_white[-1],LOSS_validation_white[-1]))\n",
        "\n",
        "plt.subplot(1,2,2)\n",
        "zoom=np.floor(len(ACCURACY_WHITE_TRAIN)/9000).astype(int)\n",
        "#zoom=0\n",
        "plt.plot(np.arange(len(ACCURACY_WHITE_TRAIN)-zoom)+zoom, ACCURACY_WHITE_TRAIN[zoom:],label=\"Train\")\n",
        "plt.plot(np.arange(len(ACCURACY_WHITE_VALIDATION)-zoom)+zoom, ACCURACY_WHITE_VALIDATION[zoom:],label=\"Validation\")\n",
        "\n",
        "plt.xlabel(\"Epoch\")\n",
        "plt.ylabel(\"Loss\")\n",
        "plt.legend()\n",
        "plt.title(\"White Wine \\n Final Train Accuracy (T=1) = {:.3f}% \\n Final Validation Accuracy (T=1) = {:.3f}%\".format(100*ACCURACY_WHITE_TRAIN[-1],100*ACCURACY_WHITE_VALIDATION[-1]))\n"
      ],
      "execution_count": 133,
      "outputs": [
        {
          "output_type": "execute_result",
          "data": {
            "text/plain": [
              "Text(0.5, 1.0, 'White Wine \\n Final Train Accuracy (T=1) = 81.052% \\n Final Validation Accuracy (T=1) = 77.610%')"
            ]
          },
          "metadata": {
            "tags": []
          },
          "execution_count": 133
        },
        {
          "output_type": "display_data",
          "data": {
            "image/png": "[encoded data removed]",
            "text/plain": [
              "<Figure size 720x360 with 2 Axes>"
            ]
          },
          "metadata": {
            "tags": [],
            "needs_background": "light"
          }
        }
      ]
    },
    {
      "cell_type": "code",
      "metadata": {
        "colab": {
          "base_uri": "https://localhost:8080/",
          "height": 674
        },
        "id": "ozmNYrhz5R0O",
        "outputId": "b17a8bb0-5441-4f74-9e04-f2221c7e8331"
      },
      "source": [
        "result_red=TRAIN_NN(X_TRAIN_red,Y_TRAIN_red,X_TEST_red,Y_TEST_red,[9],LR=1e-1/2,OPT=\"SGD\",DROP_PR=0.0,BN=False,STEP_SIZE=30000,DECAY=0.5,EPOCH=100000,seed=233)\n",
        "MODEL_NN_red=result_red[\"MODEL\"]\n",
        "LOSS_red=result_red[\"LOSS_TRAIN\"]\n",
        "LOSS_validation_red=result_red[\"LOSS_VALIDATION\"]\n",
        "ACCURACY_RED_TRAIN=result_red[\"ACCURACY_TRAIN\"]\n",
        "ACCURACY_RED_VALIDATION=result_red[\"ACCURACY_VALIDATION\"]\n",
        "\n",
        "T_list=[0.25,0.5,1]\n",
        "Result_TEST_red=TEST_NN(MODEL_NN_red,X_TEST_red,Y_TEST_red,T_list)\n",
        "print(\"Test Loss is {};\".format(round(Result_TEST_red[\"L2\"],3)))\n",
        "for i,T in enumerate(T_list): \n",
        "    acc=Result_TEST_red[\"accuracy_list\"][i]\n",
        "    print(\"Test Accuracy is {}% (T={});\".format(round(acc*100,3),T))\n",
        "test_kappa=Result_TEST_red[\"kappa\"]\n",
        "print(\"Test KAPPA is {}% (T=0.5);\".format(round(test_kappa*100,3)))\n",
        "\n",
        "\n",
        "T_list_REC=np.linspace(0,2,100)\n",
        "ACCURACY_list_REC_red=TEST_NN(MODEL_NN_red,X_TEST_red,Y_TEST_red,T_list_REC)[\"accuracy_list\"]\n",
        "plt.plot(T_list_REC,ACCURACY_list_REC_red)\n",
        "plt.xlabel(\"Tolerance\")\n",
        "plt.ylabel(\"Accuracy\")\n",
        "plt.title(\"REC \\n Red wine\")"
      ],
      "execution_count": 134,
      "outputs": [
        {
          "output_type": "stream",
          "text": [
            "After 20000 Epochs:\n",
            "Train Loss is 0.4107; Train Accuracy is 88.3465% (T=1);\n",
            "Test Loss is 0.5358; Test Accuracy is 83.3866% (T=1);\n",
            "After 40000 Epochs:\n",
            "Train Loss is 0.4093; Train Accuracy is 88.189% (T=1);\n",
            "Test Loss is 0.5334; Test Accuracy is 82.2684% (T=1);\n",
            "After 60000 Epochs:\n",
            "Train Loss is 0.4093; Train Accuracy is 88.189% (T=1);\n",
            "Test Loss is 0.5334; Test Accuracy is 82.2684% (T=1);\n",
            "After 80000 Epochs:\n",
            "Train Loss is 0.4093; Train Accuracy is 88.189% (T=1);\n",
            "Test Loss is 0.5334; Test Accuracy is 82.2684% (T=1);\n",
            "After 100000 Epochs:\n",
            "Train Loss is 0.4093; Train Accuracy is 88.189% (T=1);\n",
            "Test Loss is 0.5334; Test Accuracy is 82.2684% (T=1);\n",
            "Test Loss is 0.533;\n",
            "Test Accuracy is 26.997% (T=0.25);\n",
            "Test Accuracy is 54.473% (T=0.5);\n",
            "Test Accuracy is 82.268% (T=1);\n",
            "Test KAPPA is 37.67% (T=0.5);\n"
          ],
          "name": "stdout"
        },
        {
          "output_type": "execute_result",
          "data": {
            "text/plain": [
              "Text(0.5, 1.0, 'REC \\n Red wine')"
            ]
          },
          "metadata": {
            "tags": []
          },
          "execution_count": 134
        },
        {
          "output_type": "display_data",
          "data": {
            "image/png": "[encoded data removed]",
            "text/plain": [
              "<Figure size 432x288 with 1 Axes>"
            ]
          },
          "metadata": {
            "tags": [],
            "needs_background": "light"
          }
        }
      ]
    },
    {
      "cell_type": "code",
      "metadata": {
        "colab": {
          "base_uri": "https://localhost:8080/",
          "height": 397
        },
        "id": "jrheV6Vs5R0P",
        "outputId": "929fe5e0-71c3-48fd-d323-b94d8488d64f"
      },
      "source": [
        "plt.figure(figsize=(10,5))\n",
        "plt.subplot(1,2,1)\n",
        "zoom=np.floor(len(LOSS_red)/3000).astype(int)\n",
        "#zoom=0\n",
        "plt.plot(np.arange(len(LOSS_red)-zoom)+zoom, LOSS_red[zoom:],label=\"Train\")\n",
        "plt.plot(np.arange(len(LOSS_validation_red)-zoom)+zoom, LOSS_validation_red[zoom:],label=\"Validation\")\n",
        "\n",
        "plt.xlabel(\"Epoch\")\n",
        "plt.ylabel(\"Loss\")\n",
        "plt.legend()\n",
        "plt.title(\"Red Wine \\n Final Train Loss = {:.3f} \\n Final Validation Loss = {:.3f}\".format(LOSS_red[-1],LOSS_validation_red[-1]))\n",
        "\n",
        "plt.subplot(1,2,2)\n",
        "zoom=np.floor(len(ACCURACY_RED_TRAIN)/3000).astype(int)\n",
        "#zoom=0\n",
        "plt.plot(np.arange(len(ACCURACY_RED_TRAIN)-zoom)+zoom, ACCURACY_RED_TRAIN[zoom:],label=\"Train\")\n",
        "plt.plot(np.arange(len(ACCURACY_RED_VALIDATION)-zoom)+zoom, ACCURACY_RED_VALIDATION[zoom:],label=\"Validation\")\n",
        "\n",
        "plt.xlabel(\"Epoch\")\n",
        "plt.ylabel(\"Loss\")\n",
        "plt.legend()\n",
        "plt.title(\"Red Wine \\n Final Train Accuracy (T=1) = {:.3f}% \\n Final Validation Accuracy (T=1) = {:.3f}%\".format(100*ACCURACY_RED_TRAIN[-1],100*ACCURACY_RED_VALIDATION[-1]))\n"
      ],
      "execution_count": 135,
      "outputs": [
        {
          "output_type": "execute_result",
          "data": {
            "text/plain": [
              "Text(0.5, 1.0, 'Red Wine \\n Final Train Accuracy (T=1) = 88.189% \\n Final Validation Accuracy (T=1) = 82.268%')"
            ]
          },
          "metadata": {
            "tags": []
          },
          "execution_count": 135
        },
        {
          "output_type": "display_data",
          "data": {
            "image/png": "[encoded data removed]",
            "text/plain": [
              "<Figure size 720x360 with 2 Axes>"
            ]
          },
          "metadata": {
            "tags": [],
            "needs_background": "light"
          }
        }
      ]
    },
    {
      "cell_type": "code",
      "metadata": {
        "colab": {
          "base_uri": "https://localhost:8080/",
          "height": 250
        },
        "id": "GaaBiJ43VxAd",
        "outputId": "f2c6b0db-e5d0-4da4-8d60-196ae69ea981"
      },
      "source": [
        "red_pred=np.round(MODEL_NN_red(X_red_torch).cpu().detach().numpy())[:,0]\n",
        "red_pred=np.where(red_pred >=8.0, 8, red_pred)\n",
        "red_pred=np.where(red_pred <=3.0, 3, red_pred)  \n",
        "red_confusion=confusion_matrix(Y_red_torch.cpu().detach().numpy(), red_pred)\n",
        "red_confusion=pd.DataFrame(red_confusion,index=red_class,columns=red_class)\n",
        "print(\"Confusion Matrix for Red Wine (T=0.5)\")\n",
        "red_confusion "
      ],
      "execution_count": 136,
      "outputs": [
        {
          "output_type": "stream",
          "text": [
            "Confusion Matrix for Red Wine (T=0.5)\n"
          ],
          "name": "stdout"
        },
        {
          "output_type": "execute_result",
          "data": {
            "text/html": [
              "<div>\n",
              "<style scoped>\n",
              "    .dataframe tbody tr th:only-of-type {\n",
              "        vertical-align: middle;\n",
              "    }\n",
              "\n",
              "    .dataframe tbody tr th {\n",
              "        vertical-align: top;\n",
              "    }\n",
              "\n",
              "    .dataframe thead th {\n",
              "        text-align: right;\n",
              "    }\n",
              "</style>\n",
              "<table border=\"1\" class=\"dataframe\">\n",
              "  <thead>\n",
              "    <tr style=\"text-align: right;\">\n",
              "      <th></th>\n",
              "      <th>3</th>\n",
              "      <th>4</th>\n",
              "      <th>5</th>\n",
              "      <th>6</th>\n",
              "      <th>7</th>\n",
              "      <th>8</th>\n",
              "    </tr>\n",
              "  </thead>\n",
              "  <tbody>\n",
              "    <tr>\n",
              "      <th>3</th>\n",
              "      <td>4</td>\n",
              "      <td>5</td>\n",
              "      <td>1</td>\n",
              "      <td>0</td>\n",
              "      <td>0</td>\n",
              "      <td>0</td>\n",
              "    </tr>\n",
              "    <tr>\n",
              "      <th>4</th>\n",
              "      <td>2</td>\n",
              "      <td>26</td>\n",
              "      <td>22</td>\n",
              "      <td>3</td>\n",
              "      <td>0</td>\n",
              "      <td>0</td>\n",
              "    </tr>\n",
              "    <tr>\n",
              "      <th>5</th>\n",
              "      <td>13</td>\n",
              "      <td>74</td>\n",
              "      <td>441</td>\n",
              "      <td>141</td>\n",
              "      <td>12</td>\n",
              "      <td>0</td>\n",
              "    </tr>\n",
              "    <tr>\n",
              "      <th>6</th>\n",
              "      <td>0</td>\n",
              "      <td>16</td>\n",
              "      <td>188</td>\n",
              "      <td>329</td>\n",
              "      <td>103</td>\n",
              "      <td>2</td>\n",
              "    </tr>\n",
              "    <tr>\n",
              "      <th>7</th>\n",
              "      <td>0</td>\n",
              "      <td>1</td>\n",
              "      <td>12</td>\n",
              "      <td>80</td>\n",
              "      <td>102</td>\n",
              "      <td>4</td>\n",
              "    </tr>\n",
              "    <tr>\n",
              "      <th>8</th>\n",
              "      <td>0</td>\n",
              "      <td>0</td>\n",
              "      <td>0</td>\n",
              "      <td>1</td>\n",
              "      <td>8</td>\n",
              "      <td>9</td>\n",
              "    </tr>\n",
              "  </tbody>\n",
              "</table>\n",
              "</div>"
            ],
            "text/plain": [
              "    3   4    5    6    7  8\n",
              "3   4   5    1    0    0  0\n",
              "4   2  26   22    3    0  0\n",
              "5  13  74  441  141   12  0\n",
              "6   0  16  188  329  103  2\n",
              "7   0   1   12   80  102  4\n",
              "8   0   0    0    1    8  9"
            ]
          },
          "metadata": {
            "tags": []
          },
          "execution_count": 136
        }
      ]
    },
    {
      "cell_type": "code",
      "metadata": {
        "colab": {
          "base_uri": "https://localhost:8080/",
          "height": 281
        },
        "id": "nvF6u_UZV0lT",
        "outputId": "72646739-b538-48a0-a1a9-ad6e2e965485"
      },
      "source": [
        "white_pred=np.round(MODEL_NN_white(X_white_torch).cpu().detach().numpy())[:,0]\n",
        "white_pred=np.where(white_pred >=8.0, 8, white_pred)\n",
        "white_pred=np.where(white_pred <=3.0, 3, white_pred)\n",
        "white_confusion=confusion_matrix(Y_white_torch.cpu().detach().numpy(), white_pred)\n",
        "white_confusion=pd.DataFrame(white_confusion,index=white_class,columns=white_class) \n",
        "print(\"Confusion Matrix for White Wine (T=0.5)\")\n",
        "\n",
        "white_confusion "
      ],
      "execution_count": 137,
      "outputs": [
        {
          "output_type": "stream",
          "text": [
            "Confusion Matrix for White Wine (T=0.5)\n"
          ],
          "name": "stdout"
        },
        {
          "output_type": "execute_result",
          "data": {
            "text/html": [
              "<div>\n",
              "<style scoped>\n",
              "    .dataframe tbody tr th:only-of-type {\n",
              "        vertical-align: middle;\n",
              "    }\n",
              "\n",
              "    .dataframe tbody tr th {\n",
              "        vertical-align: top;\n",
              "    }\n",
              "\n",
              "    .dataframe thead th {\n",
              "        text-align: right;\n",
              "    }\n",
              "</style>\n",
              "<table border=\"1\" class=\"dataframe\">\n",
              "  <thead>\n",
              "    <tr style=\"text-align: right;\">\n",
              "      <th></th>\n",
              "      <th>3</th>\n",
              "      <th>4</th>\n",
              "      <th>5</th>\n",
              "      <th>6</th>\n",
              "      <th>7</th>\n",
              "      <th>8</th>\n",
              "      <th>9</th>\n",
              "    </tr>\n",
              "  </thead>\n",
              "  <tbody>\n",
              "    <tr>\n",
              "      <th>3</th>\n",
              "      <td>2</td>\n",
              "      <td>9</td>\n",
              "      <td>7</td>\n",
              "      <td>2</td>\n",
              "      <td>0</td>\n",
              "      <td>0</td>\n",
              "      <td>0</td>\n",
              "    </tr>\n",
              "    <tr>\n",
              "      <th>4</th>\n",
              "      <td>2</td>\n",
              "      <td>32</td>\n",
              "      <td>98</td>\n",
              "      <td>28</td>\n",
              "      <td>3</td>\n",
              "      <td>0</td>\n",
              "      <td>0</td>\n",
              "    </tr>\n",
              "    <tr>\n",
              "      <th>5</th>\n",
              "      <td>4</td>\n",
              "      <td>89</td>\n",
              "      <td>914</td>\n",
              "      <td>418</td>\n",
              "      <td>32</td>\n",
              "      <td>0</td>\n",
              "      <td>0</td>\n",
              "    </tr>\n",
              "    <tr>\n",
              "      <th>6</th>\n",
              "      <td>0</td>\n",
              "      <td>33</td>\n",
              "      <td>661</td>\n",
              "      <td>1218</td>\n",
              "      <td>273</td>\n",
              "      <td>13</td>\n",
              "      <td>0</td>\n",
              "    </tr>\n",
              "    <tr>\n",
              "      <th>7</th>\n",
              "      <td>0</td>\n",
              "      <td>1</td>\n",
              "      <td>72</td>\n",
              "      <td>486</td>\n",
              "      <td>295</td>\n",
              "      <td>26</td>\n",
              "      <td>0</td>\n",
              "    </tr>\n",
              "    <tr>\n",
              "      <th>8</th>\n",
              "      <td>0</td>\n",
              "      <td>0</td>\n",
              "      <td>6</td>\n",
              "      <td>88</td>\n",
              "      <td>74</td>\n",
              "      <td>7</td>\n",
              "      <td>0</td>\n",
              "    </tr>\n",
              "    <tr>\n",
              "      <th>9</th>\n",
              "      <td>0</td>\n",
              "      <td>0</td>\n",
              "      <td>0</td>\n",
              "      <td>0</td>\n",
              "      <td>0</td>\n",
              "      <td>5</td>\n",
              "      <td>0</td>\n",
              "    </tr>\n",
              "  </tbody>\n",
              "</table>\n",
              "</div>"
            ],
            "text/plain": [
              "   3   4    5     6    7   8  9\n",
              "3  2   9    7     2    0   0  0\n",
              "4  2  32   98    28    3   0  0\n",
              "5  4  89  914   418   32   0  0\n",
              "6  0  33  661  1218  273  13  0\n",
              "7  0   1   72   486  295  26  0\n",
              "8  0   0    6    88   74   7  0\n",
              "9  0   0    0     0    0   5  0"
            ]
          },
          "metadata": {
            "tags": []
          },
          "execution_count": 137
        }
      ]
    },
    {
      "cell_type": "code",
      "metadata": {
        "colab": {
          "base_uri": "https://localhost:8080/",
          "height": 298
        },
        "id": "CLjXfocDV4sB",
        "outputId": "02284f44-0425-4fe4-b747-2d1212cb7a49"
      },
      "source": [
        "red_precision=pd.DataFrame(index=red_class,columns=[\"T=0.5 (%)\",\"T=1.0 (%)\"])\n",
        "for i,c in enumerate(red_class):\n",
        "    label=Y_red_torch[Y_red_torch==red_class[i]]\n",
        "    predictor=X_red_torch[(Y_red_torch==red_class[i])[:,0],:]\n",
        "    pre1=100*TEST_NN(MODEL_NN_red,predictor,label,T_list=[0.5])[\"accuracy_list\"][0]\n",
        "    pre2=100*TEST_NN(MODEL_NN_red,predictor,label,T_list=[1.0])[\"accuracy_list\"][0]\n",
        "    red_precision.at[c, \"T=0.5 (%)\"] = pre1\n",
        "    red_precision.at[c, \"T=1.0 (%)\"] = pre2\n",
        "\n",
        "overall=pd.DataFrame(index=[\"Overall\"],columns=[\"T=0.5 (%)\",\"T=1.0 (%)\"])\n",
        "pre1=100*TEST_NN(MODEL_NN_red,X_red_torch,Y_red_torch[:,0],T_list=[0.5])[\"accuracy_list\"][0]\n",
        "pre2=100*TEST_NN(MODEL_NN_red,X_red_torch,Y_red_torch[:,0],T_list=[1.0])[\"accuracy_list\"][0]\n",
        "overall.at[\"Overall\", \"T=0.5 (%)\"] = pre1\n",
        "overall.at[\"Overall\", \"T=1.0 (%)\"] = pre2\n",
        "print(\"Precision for different classes \\n (Red Wine)\")\n",
        "\n",
        "red_precision.append(overall)"
      ],
      "execution_count": 138,
      "outputs": [
        {
          "output_type": "stream",
          "text": [
            "Precision for different classes \n",
            " (Red Wine)\n"
          ],
          "name": "stdout"
        },
        {
          "output_type": "execute_result",
          "data": {
            "text/html": [
              "<div>\n",
              "<style scoped>\n",
              "    .dataframe tbody tr th:only-of-type {\n",
              "        vertical-align: middle;\n",
              "    }\n",
              "\n",
              "    .dataframe tbody tr th {\n",
              "        vertical-align: top;\n",
              "    }\n",
              "\n",
              "    .dataframe thead th {\n",
              "        text-align: right;\n",
              "    }\n",
              "</style>\n",
              "<table border=\"1\" class=\"dataframe\">\n",
              "  <thead>\n",
              "    <tr style=\"text-align: right;\">\n",
              "      <th></th>\n",
              "      <th>T=0.5 (%)</th>\n",
              "      <th>T=1.0 (%)</th>\n",
              "    </tr>\n",
              "  </thead>\n",
              "  <tbody>\n",
              "    <tr>\n",
              "      <th>3</th>\n",
              "      <td>40</td>\n",
              "      <td>60</td>\n",
              "    </tr>\n",
              "    <tr>\n",
              "      <th>4</th>\n",
              "      <td>49.0566</td>\n",
              "      <td>75.4717</td>\n",
              "    </tr>\n",
              "    <tr>\n",
              "      <th>5</th>\n",
              "      <td>64.7577</td>\n",
              "      <td>88.3994</td>\n",
              "    </tr>\n",
              "    <tr>\n",
              "      <th>6</th>\n",
              "      <td>51.5674</td>\n",
              "      <td>85.4232</td>\n",
              "    </tr>\n",
              "    <tr>\n",
              "      <th>7</th>\n",
              "      <td>51.2563</td>\n",
              "      <td>79.397</td>\n",
              "    </tr>\n",
              "    <tr>\n",
              "      <th>8</th>\n",
              "      <td>50</td>\n",
              "      <td>72.2222</td>\n",
              "    </tr>\n",
              "    <tr>\n",
              "      <th>Overall</th>\n",
              "      <td>56.9731</td>\n",
              "      <td>85.3033</td>\n",
              "    </tr>\n",
              "  </tbody>\n",
              "</table>\n",
              "</div>"
            ],
            "text/plain": [
              "        T=0.5 (%) T=1.0 (%)\n",
              "3              40        60\n",
              "4         49.0566   75.4717\n",
              "5         64.7577   88.3994\n",
              "6         51.5674   85.4232\n",
              "7         51.2563    79.397\n",
              "8              50   72.2222\n",
              "Overall   56.9731   85.3033"
            ]
          },
          "metadata": {
            "tags": []
          },
          "execution_count": 138
        }
      ]
    },
    {
      "cell_type": "code",
      "metadata": {
        "colab": {
          "base_uri": "https://localhost:8080/",
          "height": 329
        },
        "id": "mztQfhtiV8-l",
        "outputId": "f4f6b527-67a5-4788-8054-70e6af51f791"
      },
      "source": [
        "white_precision=pd.DataFrame(index=white_class,columns=[\"T=0.5 (%)\",\"T=1.0 (%)\"])\n",
        "for i,c in enumerate(white_class):\n",
        "    label=Y_white_torch[Y_white_torch==white_class[i]]\n",
        "    predictor=X_white_torch[(Y_white_torch==white_class[i])[:,0],:]\n",
        "    pre1=100*TEST_NN(MODEL_NN_white,predictor,label,T_list=[0.5])[\"accuracy_list\"][0]\n",
        "    pre2=100*TEST_NN(MODEL_NN_white,predictor,label,T_list=[1.0])[\"accuracy_list\"][0]\n",
        "    white_precision.at[c, \"T=0.5 (%)\"] = pre1\n",
        "    white_precision.at[c, \"T=1.0 (%)\"] = pre2\n",
        "\n",
        "overall=pd.DataFrame(index=[\"Overall\"],columns=[\"T=0.5 (%)\",\"T=1.0 (%)\"])\n",
        "pre1=100*TEST_NN(MODEL_NN_white,X_white_torch,Y_white_torch[:,0],T_list=[0.5])[\"accuracy_list\"][0]\n",
        "pre2=100*TEST_NN(MODEL_NN_white,X_white_torch,Y_white_torch[:,0],T_list=[1.0])[\"accuracy_list\"][0]\n",
        "overall.at[\"Overall\", \"T=0.5 (%)\"] = pre1\n",
        "overall.at[\"Overall\", \"T=1.0 (%)\"] = pre2\n",
        "print(\"Precision for different classes \\n (White Wine)\")\n",
        "\n",
        "white_precision.append(overall)"
      ],
      "execution_count": 139,
      "outputs": [
        {
          "output_type": "stream",
          "text": [
            "Precision for different classes \n",
            " (White Wine)\n"
          ],
          "name": "stdout"
        },
        {
          "output_type": "execute_result",
          "data": {
            "text/html": [
              "<div>\n",
              "<style scoped>\n",
              "    .dataframe tbody tr th:only-of-type {\n",
              "        vertical-align: middle;\n",
              "    }\n",
              "\n",
              "    .dataframe tbody tr th {\n",
              "        vertical-align: top;\n",
              "    }\n",
              "\n",
              "    .dataframe thead th {\n",
              "        text-align: right;\n",
              "    }\n",
              "</style>\n",
              "<table border=\"1\" class=\"dataframe\">\n",
              "  <thead>\n",
              "    <tr style=\"text-align: right;\">\n",
              "      <th></th>\n",
              "      <th>T=0.5 (%)</th>\n",
              "      <th>T=1.0 (%)</th>\n",
              "    </tr>\n",
              "  </thead>\n",
              "  <tbody>\n",
              "    <tr>\n",
              "      <th>3</th>\n",
              "      <td>5</td>\n",
              "      <td>30</td>\n",
              "    </tr>\n",
              "    <tr>\n",
              "      <th>4</th>\n",
              "      <td>19.6319</td>\n",
              "      <td>53.3742</td>\n",
              "    </tr>\n",
              "    <tr>\n",
              "      <th>5</th>\n",
              "      <td>62.7316</td>\n",
              "      <td>89.4303</td>\n",
              "    </tr>\n",
              "    <tr>\n",
              "      <th>6</th>\n",
              "      <td>55.414</td>\n",
              "      <td>87.3521</td>\n",
              "    </tr>\n",
              "    <tr>\n",
              "      <th>7</th>\n",
              "      <td>33.5227</td>\n",
              "      <td>70.5682</td>\n",
              "    </tr>\n",
              "    <tr>\n",
              "      <th>8</th>\n",
              "      <td>2.85714</td>\n",
              "      <td>20.5714</td>\n",
              "    </tr>\n",
              "    <tr>\n",
              "      <th>9</th>\n",
              "      <td>40</td>\n",
              "      <td>80</td>\n",
              "    </tr>\n",
              "    <tr>\n",
              "      <th>Overall</th>\n",
              "      <td>50.3675</td>\n",
              "      <td>81.1964</td>\n",
              "    </tr>\n",
              "  </tbody>\n",
              "</table>\n",
              "</div>"
            ],
            "text/plain": [
              "        T=0.5 (%) T=1.0 (%)\n",
              "3               5        30\n",
              "4         19.6319   53.3742\n",
              "5         62.7316   89.4303\n",
              "6          55.414   87.3521\n",
              "7         33.5227   70.5682\n",
              "8         2.85714   20.5714\n",
              "9              40        80\n",
              "Overall   50.3675   81.1964"
            ]
          },
          "metadata": {
            "tags": []
          },
          "execution_count": 139
        }
      ]
    },
    {
      "cell_type": "markdown",
      "metadata": {
        "id": "RKUocxlJCC6O"
      },
      "source": [
        "## resample all classes but the majority class"
      ]
    },
    {
      "cell_type": "code",
      "metadata": {
        "colab": {
          "base_uri": "https://localhost:8080/"
        },
        "id": "5EXvSwYhCI3H",
        "outputId": "7bfd7eb6-3d0d-4f05-95e2-76b7dca5e345"
      },
      "source": [
        "counter = Counter(Y_white[\"quality\"])\n",
        "print(counter)\n",
        "sm = SMOTE(sampling_strategy=\"not majority\",random_state=24,k_neighbors=4)\n",
        "Augmented_X_white,Augmented_Y_white=sm.fit_sample(X_white, Y_white[\"quality\"])\n",
        "counter = Counter(Augmented_Y_white)\n",
        "print(counter)"
      ],
      "execution_count": 140,
      "outputs": [
        {
          "output_type": "stream",
          "text": [
            "Counter({6: 2198, 5: 1457, 7: 880, 8: 175, 4: 163, 3: 20, 9: 5})\n",
            "Counter({6: 2198, 5: 2198, 7: 2198, 8: 2198, 4: 2198, 3: 2198, 9: 2198})\n"
          ],
          "name": "stdout"
        },
        {
          "output_type": "stream",
          "text": [
            "/usr/local/lib/python3.7/dist-packages/sklearn/utils/deprecation.py:87: FutureWarning: Function safe_indexing is deprecated; safe_indexing is deprecated in version 0.22 and will be removed in version 0.24.\n",
            "  warnings.warn(msg, category=FutureWarning)\n",
            "/usr/local/lib/python3.7/dist-packages/sklearn/utils/deprecation.py:87: FutureWarning: Function safe_indexing is deprecated; safe_indexing is deprecated in version 0.22 and will be removed in version 0.24.\n",
            "  warnings.warn(msg, category=FutureWarning)\n",
            "/usr/local/lib/python3.7/dist-packages/sklearn/utils/deprecation.py:87: FutureWarning: Function safe_indexing is deprecated; safe_indexing is deprecated in version 0.22 and will be removed in version 0.24.\n",
            "  warnings.warn(msg, category=FutureWarning)\n",
            "/usr/local/lib/python3.7/dist-packages/sklearn/utils/deprecation.py:87: FutureWarning: Function safe_indexing is deprecated; safe_indexing is deprecated in version 0.22 and will be removed in version 0.24.\n",
            "  warnings.warn(msg, category=FutureWarning)\n",
            "/usr/local/lib/python3.7/dist-packages/sklearn/utils/deprecation.py:87: FutureWarning: Function safe_indexing is deprecated; safe_indexing is deprecated in version 0.22 and will be removed in version 0.24.\n",
            "  warnings.warn(msg, category=FutureWarning)\n",
            "/usr/local/lib/python3.7/dist-packages/sklearn/utils/deprecation.py:87: FutureWarning: Function safe_indexing is deprecated; safe_indexing is deprecated in version 0.22 and will be removed in version 0.24.\n",
            "  warnings.warn(msg, category=FutureWarning)\n"
          ],
          "name": "stderr"
        }
      ]
    },
    {
      "cell_type": "code",
      "metadata": {
        "colab": {
          "base_uri": "https://localhost:8080/"
        },
        "id": "yBew-OxlW3k9",
        "outputId": "fd4dc59e-8517-42b5-ba03-62cb86adacc1"
      },
      "source": [
        "counter = Counter(Y_red[\"quality\"])\n",
        "print(counter)\n",
        "sm = SMOTE(sampling_strategy=\"not majority\",random_state=24,k_neighbors=4)\n",
        "Augmented_X_red,Augmented_Y_red=sm.fit_sample(X_red, Y_red[\"quality\"])\n",
        "counter = Counter(Augmented_Y_red)\n",
        "print(counter)"
      ],
      "execution_count": 141,
      "outputs": [
        {
          "output_type": "stream",
          "text": [
            "Counter({5: 681, 6: 638, 7: 199, 4: 53, 8: 18, 3: 10})\n",
            "Counter({5: 681, 6: 681, 7: 681, 4: 681, 8: 681, 3: 681})\n"
          ],
          "name": "stdout"
        },
        {
          "output_type": "stream",
          "text": [
            "/usr/local/lib/python3.7/dist-packages/sklearn/utils/deprecation.py:87: FutureWarning: Function safe_indexing is deprecated; safe_indexing is deprecated in version 0.22 and will be removed in version 0.24.\n",
            "  warnings.warn(msg, category=FutureWarning)\n",
            "/usr/local/lib/python3.7/dist-packages/sklearn/utils/deprecation.py:87: FutureWarning: Function safe_indexing is deprecated; safe_indexing is deprecated in version 0.22 and will be removed in version 0.24.\n",
            "  warnings.warn(msg, category=FutureWarning)\n",
            "/usr/local/lib/python3.7/dist-packages/sklearn/utils/deprecation.py:87: FutureWarning: Function safe_indexing is deprecated; safe_indexing is deprecated in version 0.22 and will be removed in version 0.24.\n",
            "  warnings.warn(msg, category=FutureWarning)\n",
            "/usr/local/lib/python3.7/dist-packages/sklearn/utils/deprecation.py:87: FutureWarning: Function safe_indexing is deprecated; safe_indexing is deprecated in version 0.22 and will be removed in version 0.24.\n",
            "  warnings.warn(msg, category=FutureWarning)\n",
            "/usr/local/lib/python3.7/dist-packages/sklearn/utils/deprecation.py:87: FutureWarning: Function safe_indexing is deprecated; safe_indexing is deprecated in version 0.22 and will be removed in version 0.24.\n",
            "  warnings.warn(msg, category=FutureWarning)\n"
          ],
          "name": "stderr"
        }
      ]
    },
    {
      "cell_type": "code",
      "metadata": {
        "colab": {
          "base_uri": "https://localhost:8080/",
          "height": 70
        },
        "id": "sfmwc9R9W-zC",
        "outputId": "fc92e044-9c80-4ed6-8d3d-21b6f1defca6"
      },
      "source": [
        "X_TRAIN_white, X_TEST_white, Y_TRAIN_white, Y_TEST_white = train_test_split(Augmented_X_white, Augmented_Y_white, test_size=0.33, random_state=42)\n",
        "X_TRAIN_red, X_TEST_red, Y_TRAIN_red, Y_TEST_red = train_test_split(Augmented_X_red, Augmented_Y_red, test_size=0.33, random_state=42)\n",
        "#X_TRAIN_white, X_TEST_white, Y_TRAIN_white, Y_TEST_white = train_test_split(X_white, Y_white['quality'], test_size=0.33, random_state=42,stratify=Y_white['quality']) #24\n",
        "#X_TRAIN_red, X_TEST_red, Y_TRAIN_red, Y_TEST_red = train_test_split(X_red, Y_red['quality'], test_size=0.33, random_state=42,stratify=Y_red[\"quality\"])\n",
        "\n",
        "TRAIN_scaler_white = preprocessing.StandardScaler().fit(X_TRAIN_white)\n",
        "TEST_scaler_white = preprocessing.StandardScaler().fit(X_TEST_white)\n",
        "X_TRAIN_white = TO_TORCH(TRAIN_scaler_white.transform(X_TRAIN_white))\n",
        "X_TEST_white = TO_TORCH(TEST_scaler_white.transform(X_TEST_white))\n",
        "\n",
        "TRAIN_scaler_red = preprocessing.StandardScaler().fit(X_TRAIN_red)\n",
        "TEST_scaler_red = preprocessing.StandardScaler().fit(X_TEST_red)\n",
        "X_TRAIN_red = TO_TORCH(TRAIN_scaler_red.transform(X_TRAIN_red))\n",
        "X_TEST_red = TO_TORCH(TEST_scaler_red.transform(X_TEST_red))\n",
        "\n",
        "Y_TRAIN_white = TO_TORCH(Y_TRAIN_white)\n",
        "Y_TEST_white = TO_TORCH(Y_TEST_white)\n",
        "\n",
        "Y_TRAIN_red = TO_TORCH(Y_TRAIN_red)\n",
        "Y_TEST_red = TO_TORCH(Y_TEST_red)\n",
        "\n",
        "\"\"\"scaler_white = preprocessing.StandardScaler().fit(X_white)\n",
        "scaler_red = preprocessing.StandardScaler().fit(X_red)\n",
        "X_white_torch = TO_TORCH(scaler_white.transform(X_white))\n",
        "X_red_torch = TO_TORCH(scaler_red.transform(X_red))\n",
        "Y_white_torch = TO_TORCH(Y_white)\n",
        "Y_red_torch = TO_TORCH(Y_red)\"\"\""
      ],
      "execution_count": 142,
      "outputs": [
        {
          "output_type": "execute_result",
          "data": {
            "application/vnd.google.colaboratory.intrinsic+json": {
              "type": "string"
            },
            "text/plain": [
              "'scaler_white = preprocessing.StandardScaler().fit(X_white)\\nscaler_red = preprocessing.StandardScaler().fit(X_red)\\nX_white_torch = TO_TORCH(scaler_white.transform(X_white))\\nX_red_torch = TO_TORCH(scaler_red.transform(X_red))\\nY_white_torch = TO_TORCH(Y_white)\\nY_red_torch = TO_TORCH(Y_red)'"
            ]
          },
          "metadata": {
            "tags": []
          },
          "execution_count": 142
        }
      ]
    },
    {
      "cell_type": "code",
      "metadata": {
        "colab": {
          "base_uri": "https://localhost:8080/",
          "height": 674
        },
        "id": "Utqy8dBY5Usb",
        "outputId": "1d56b218-9e00-4282-dcc3-97a6233ead1b"
      },
      "source": [
        "result_white=TRAIN_NN(X_TRAIN_white,Y_TRAIN_white,X_TEST_white,Y_TEST_white,[9],OPT=\"ADAM\",LR=1e-1/2,BN=False,STEP_SIZE=20000,DECAY=0.5,EPOCH=60000)\n",
        "MODEL_NN_white=result_white[\"MODEL\"]\n",
        "LOSS_white=result_white[\"LOSS_TRAIN\"]\n",
        "LOSS_validation_white=result_white[\"LOSS_VALIDATION\"]\n",
        "ACCURACY_WHITE_TRAIN=result_white[\"ACCURACY_TRAIN\"]\n",
        "ACCURACY_WHITE_VALIDATION=result_white[\"ACCURACY_VALIDATION\"]\n",
        "\n",
        "T_list=[0.25,0.5,1]\n",
        "Result_TEST_white=TEST_NN(MODEL_NN_white,X_TEST_white,Y_TEST_white,T_list)\n",
        "print(\"Test Loss is {};\".format(round(Result_TEST_white[\"L2\"],3)))\n",
        "for i,T in enumerate(T_list): \n",
        "    acc=Result_TEST_white[\"accuracy_list\"][i]\n",
        "    print(\"Test Accuracy is {}% (T={});\".format(round(acc*100,3),T))\n",
        "test_kappa=Result_TEST_white[\"kappa\"]\n",
        "print(\"Test KAPPA is {}% (T=0.5);\".format(round(test_kappa*100,3)))\n",
        "\n",
        "T_list_REC=np.linspace(0,2,100)\n",
        "ACCURACY_list_REC_white=TEST_NN(MODEL_NN_white,X_TEST_white,Y_TEST_white,T_list_REC)[\"accuracy_list\"]\n",
        "plt.plot(T_list_REC,ACCURACY_list_REC_white)\n",
        "plt.xlabel(\"Tolerance\")\n",
        "plt.ylabel(\"Accuracy\")\n",
        "plt.title(\"REC \\n White wine\")"
      ],
      "execution_count": 143,
      "outputs": [
        {
          "output_type": "stream",
          "text": [
            "After 12000 Epochs:\n",
            "Train Loss is 0.776; Train Accuracy is 76.203% (T=1);\n",
            "Test Loss is 0.8162; Test Accuracy is 76.3883% (T=1);\n",
            "After 24000 Epochs:\n",
            "Train Loss is 0.7746; Train Accuracy is 76.6395% (T=1);\n",
            "Test Loss is 0.8128; Test Accuracy is 75.5612% (T=1);\n",
            "After 36000 Epochs:\n",
            "Train Loss is 0.7741; Train Accuracy is 76.6395% (T=1);\n",
            "Test Loss is 0.8107; Test Accuracy is 75.9157% (T=1);\n",
            "After 48000 Epochs:\n",
            "Train Loss is 0.7734; Train Accuracy is 76.5813% (T=1);\n",
            "Test Loss is 0.8105; Test Accuracy is 75.8369% (T=1);\n",
            "After 60000 Epochs:\n",
            "Train Loss is 0.7732; Train Accuracy is 76.1835% (T=1);\n",
            "Test Loss is 0.8142; Test Accuracy is 76.1914% (T=1);\n",
            "Test Loss is 0.814;\n",
            "Test Accuracy is 29.716% (T=0.25);\n",
            "Test Accuracy is 50.079% (T=0.5);\n",
            "Test Accuracy is 76.191% (T=1);\n",
            "Test KAPPA is 41.8% (T=0.5);\n"
          ],
          "name": "stdout"
        },
        {
          "output_type": "execute_result",
          "data": {
            "text/plain": [
              "Text(0.5, 1.0, 'REC \\n White wine')"
            ]
          },
          "metadata": {
            "tags": []
          },
          "execution_count": 143
        },
        {
          "output_type": "display_data",
          "data": {
            "image/png": "[encoded data removed]",
            "text/plain": [
              "<Figure size 432x288 with 1 Axes>"
            ]
          },
          "metadata": {
            "tags": [],
            "needs_background": "light"
          }
        }
      ]
    },
    {
      "cell_type": "code",
      "metadata": {
        "colab": {
          "base_uri": "https://localhost:8080/",
          "height": 417
        },
        "id": "Kjo1rTum5Usd",
        "outputId": "65571769-c26c-499d-9fdc-68cf0050d849"
      },
      "source": [
        "plt.figure(figsize=(10,5))\n",
        "plt.subplot(1,2,1)\n",
        "zoom=np.floor(len(LOSS_white)/900).astype(int)\n",
        "#zoom=0\n",
        "plt.plot(np.arange(len(LOSS_white)-zoom)+zoom, LOSS_white[zoom:],label=\"Train\")\n",
        "plt.plot(np.arange(len(LOSS_validation_white)-zoom)+zoom, LOSS_validation_white[zoom:],label=\"Validation\")\n",
        "\n",
        "#plt.plot((np.arange(len(LOSS_validation_white))+1)*len(LOSS_white)-1, LOSS_validation_white,label=\"Validation\")\n",
        "plt.xlabel(\"Epoch\")\n",
        "plt.ylabel(\"Loss\")\n",
        "plt.legend()\n",
        "plt.title(\"White Wine \\n Final Train Loss = {:.3f} \\n Final Validation Loss = {:.3f}\".format(LOSS_white[-1],LOSS_validation_white[-1]))\n",
        "\n",
        "plt.subplot(1,2,2)\n",
        "zoom=np.floor(len(ACCURACY_WHITE_TRAIN)/9000).astype(int)\n",
        "#zoom=0\n",
        "plt.plot(np.arange(len(ACCURACY_WHITE_TRAIN)-zoom)+zoom, ACCURACY_WHITE_TRAIN[zoom:],label=\"Train\")\n",
        "plt.plot(np.arange(len(ACCURACY_WHITE_VALIDATION)-zoom)+zoom, ACCURACY_WHITE_VALIDATION[zoom:],label=\"Validation\")\n",
        "\n",
        "plt.xlabel(\"Epoch\")\n",
        "plt.ylabel(\"Loss\")\n",
        "plt.legend()\n",
        "plt.title(\"White Wine \\n Final Train Accuracy (T=1) = {:.3f}% \\n Final Validation Accuracy (T=1) = {:.3f}%\".format(100*ACCURACY_WHITE_TRAIN[-1],100*ACCURACY_WHITE_VALIDATION[-1]))\n"
      ],
      "execution_count": 144,
      "outputs": [
        {
          "output_type": "execute_result",
          "data": {
            "text/plain": [
              "Text(0.5, 1.0, 'White Wine \\n Final Train Accuracy (T=1) = 76.184% \\n Final Validation Accuracy (T=1) = 76.191%')"
            ]
          },
          "metadata": {
            "tags": []
          },
          "execution_count": 144
        },
        {
          "output_type": "display_data",
          "data": {
            "image/png": "[encoded data removed]",
            "text/plain": [
              "<Figure size 720x360 with 2 Axes>"
            ]
          },
          "metadata": {
            "tags": [],
            "needs_background": "light"
          }
        }
      ]
    },
    {
      "cell_type": "code",
      "metadata": {
        "colab": {
          "base_uri": "https://localhost:8080/",
          "height": 674
        },
        "id": "iktmU0U15Use",
        "outputId": "e8d06a48-ace9-460e-f352-c14976020a28"
      },
      "source": [
        "result_red=TRAIN_NN(X_TRAIN_red,Y_TRAIN_red,X_TEST_red,Y_TEST_red,[9],LR=1e-1/2,OPT=\"SGD\",DROP_PR=0.0,BN=False,STEP_SIZE=30000,DECAY=0.5,EPOCH=100000,seed=233)\n",
        "MODEL_NN_red=result_red[\"MODEL\"]\n",
        "LOSS_red=result_red[\"LOSS_TRAIN\"]\n",
        "LOSS_validation_red=result_red[\"LOSS_VALIDATION\"]\n",
        "ACCURACY_RED_TRAIN=result_red[\"ACCURACY_TRAIN\"]\n",
        "ACCURACY_RED_VALIDATION=result_red[\"ACCURACY_VALIDATION\"]\n",
        "\n",
        "T_list=[0.25,0.5,1]\n",
        "Result_TEST_red=TEST_NN(MODEL_NN_red,X_TEST_red,Y_TEST_red,T_list)\n",
        "print(\"Test Loss is {};\".format(round(Result_TEST_red[\"L2\"],3)))\n",
        "for i,T in enumerate(T_list): \n",
        "    acc=Result_TEST_red[\"accuracy_list\"][i]\n",
        "    print(\"Test Accuracy is {}% (T={});\".format(round(acc*100,3),T))\n",
        "test_kappa=Result_TEST_red[\"kappa\"]\n",
        "print(\"Test KAPPA is {}% (T=0.5);\".format(round(test_kappa*100,3)))\n",
        "\n",
        "\n",
        "T_list_REC=np.linspace(0,2,100)\n",
        "ACCURACY_list_REC_red=TEST_NN(MODEL_NN_red,X_TEST_red,Y_TEST_red,T_list_REC)[\"accuracy_list\"]\n",
        "plt.plot(T_list_REC,ACCURACY_list_REC_red)\n",
        "plt.xlabel(\"Tolerance\")\n",
        "plt.ylabel(\"Accuracy\")\n",
        "plt.title(\"REC \\n Red wine\")"
      ],
      "execution_count": 145,
      "outputs": [
        {
          "output_type": "stream",
          "text": [
            "After 20000 Epochs:\n",
            "Train Loss is 0.367; Train Accuracy is 90.4275% (T=1);\n",
            "Test Loss is 0.4816; Test Accuracy is 86.1379% (T=1);\n",
            "After 40000 Epochs:\n",
            "Train Loss is 0.3669; Train Accuracy is 90.4275% (T=1);\n",
            "Test Loss is 0.4809; Test Accuracy is 86.0638% (T=1);\n",
            "After 60000 Epochs:\n",
            "Train Loss is 0.3669; Train Accuracy is 90.4275% (T=1);\n",
            "Test Loss is 0.4809; Test Accuracy is 86.0638% (T=1);\n",
            "After 80000 Epochs:\n",
            "Train Loss is 0.3669; Train Accuracy is 90.4275% (T=1);\n",
            "Test Loss is 0.4809; Test Accuracy is 86.0638% (T=1);\n",
            "After 100000 Epochs:\n",
            "Train Loss is 0.3669; Train Accuracy is 90.4275% (T=1);\n",
            "Test Loss is 0.4809; Test Accuracy is 86.0638% (T=1);\n",
            "Test Loss is 0.481;\n",
            "Test Accuracy is 34.248% (T=0.25);\n",
            "Test Accuracy is 61.231% (T=0.5);\n",
            "Test Accuracy is 86.064% (T=1);\n",
            "Test KAPPA is 53.464% (T=0.5);\n"
          ],
          "name": "stdout"
        },
        {
          "output_type": "execute_result",
          "data": {
            "text/plain": [
              "Text(0.5, 1.0, 'REC \\n Red wine')"
            ]
          },
          "metadata": {
            "tags": []
          },
          "execution_count": 145
        },
        {
          "output_type": "display_data",
          "data": {
            "image/png": "[encoded data removed]",
            "text/plain": [
              "<Figure size 432x288 with 1 Axes>"
            ]
          },
          "metadata": {
            "tags": [],
            "needs_background": "light"
          }
        }
      ]
    },
    {
      "cell_type": "code",
      "metadata": {
        "colab": {
          "base_uri": "https://localhost:8080/",
          "height": 397
        },
        "id": "_fUOncfJ5Usf",
        "outputId": "3aa1ffcd-ae47-46ca-f82c-b092830dded8"
      },
      "source": [
        "plt.figure(figsize=(10,5))\n",
        "plt.subplot(1,2,1)\n",
        "zoom=np.floor(len(LOSS_red)/3000).astype(int)\n",
        "#zoom=0\n",
        "plt.plot(np.arange(len(LOSS_red)-zoom)+zoom, LOSS_red[zoom:],label=\"Train\")\n",
        "plt.plot(np.arange(len(LOSS_validation_red)-zoom)+zoom, LOSS_validation_red[zoom:],label=\"Validation\")\n",
        "\n",
        "plt.xlabel(\"Epoch\")\n",
        "plt.ylabel(\"Loss\")\n",
        "plt.legend()\n",
        "plt.title(\"Red Wine \\n Final Train Loss = {:.3f} \\n Final Validation Loss = {:.3f}\".format(LOSS_red[-1],LOSS_validation_red[-1]))\n",
        "\n",
        "plt.subplot(1,2,2)\n",
        "zoom=np.floor(len(ACCURACY_RED_TRAIN)/3000).astype(int)\n",
        "#zoom=0\n",
        "plt.plot(np.arange(len(ACCURACY_RED_TRAIN)-zoom)+zoom, ACCURACY_RED_TRAIN[zoom:],label=\"Train\")\n",
        "plt.plot(np.arange(len(ACCURACY_RED_VALIDATION)-zoom)+zoom, ACCURACY_RED_VALIDATION[zoom:],label=\"Validation\")\n",
        "\n",
        "plt.xlabel(\"Epoch\")\n",
        "plt.ylabel(\"Loss\")\n",
        "plt.legend()\n",
        "plt.title(\"Red Wine \\n Final Train Accuracy (T=1) = {:.3f}% \\n Final Validation Accuracy (T=1) = {:.3f}%\".format(100*ACCURACY_RED_TRAIN[-1],100*ACCURACY_RED_VALIDATION[-1]))\n"
      ],
      "execution_count": 146,
      "outputs": [
        {
          "output_type": "execute_result",
          "data": {
            "text/plain": [
              "Text(0.5, 1.0, 'Red Wine \\n Final Train Accuracy (T=1) = 90.427% \\n Final Validation Accuracy (T=1) = 86.064%')"
            ]
          },
          "metadata": {
            "tags": []
          },
          "execution_count": 146
        },
        {
          "output_type": "display_data",
          "data": {
            "image/png": "[encoded data removed]",
            "text/plain": [
              "<Figure size 720x360 with 2 Axes>"
            ]
          },
          "metadata": {
            "tags": [],
            "needs_background": "light"
          }
        }
      ]
    },
    {
      "cell_type": "code",
      "metadata": {
        "colab": {
          "base_uri": "https://localhost:8080/",
          "height": 250
        },
        "id": "pBHlgxVqXLZq",
        "outputId": "bb02fdc4-1439-4b61-b9b7-c05e691c534a"
      },
      "source": [
        "red_pred=np.round(MODEL_NN_red(X_red_torch).cpu().detach().numpy())[:,0]\n",
        "red_pred=np.where(red_pred >=8.0, 8, red_pred)\n",
        "red_pred=np.where(red_pred <=3.0, 3, red_pred)  \n",
        "red_confusion=confusion_matrix(Y_red_torch.cpu().detach().numpy(), red_pred)\n",
        "red_confusion=pd.DataFrame(red_confusion,index=red_class,columns=red_class)\n",
        "print(\"Confusion Matrix for Red Wine (T=0.5)\")\n",
        "\n",
        "red_confusion "
      ],
      "execution_count": 147,
      "outputs": [
        {
          "output_type": "stream",
          "text": [
            "Confusion Matrix for Red Wine (T=0.5)\n"
          ],
          "name": "stdout"
        },
        {
          "output_type": "execute_result",
          "data": {
            "text/html": [
              "<div>\n",
              "<style scoped>\n",
              "    .dataframe tbody tr th:only-of-type {\n",
              "        vertical-align: middle;\n",
              "    }\n",
              "\n",
              "    .dataframe tbody tr th {\n",
              "        vertical-align: top;\n",
              "    }\n",
              "\n",
              "    .dataframe thead th {\n",
              "        text-align: right;\n",
              "    }\n",
              "</style>\n",
              "<table border=\"1\" class=\"dataframe\">\n",
              "  <thead>\n",
              "    <tr style=\"text-align: right;\">\n",
              "      <th></th>\n",
              "      <th>3</th>\n",
              "      <th>4</th>\n",
              "      <th>5</th>\n",
              "      <th>6</th>\n",
              "      <th>7</th>\n",
              "      <th>8</th>\n",
              "    </tr>\n",
              "  </thead>\n",
              "  <tbody>\n",
              "    <tr>\n",
              "      <th>3</th>\n",
              "      <td>7</td>\n",
              "      <td>2</td>\n",
              "      <td>1</td>\n",
              "      <td>0</td>\n",
              "      <td>0</td>\n",
              "      <td>0</td>\n",
              "    </tr>\n",
              "    <tr>\n",
              "      <th>4</th>\n",
              "      <td>9</td>\n",
              "      <td>26</td>\n",
              "      <td>16</td>\n",
              "      <td>2</td>\n",
              "      <td>0</td>\n",
              "      <td>0</td>\n",
              "    </tr>\n",
              "    <tr>\n",
              "      <th>5</th>\n",
              "      <td>43</td>\n",
              "      <td>154</td>\n",
              "      <td>302</td>\n",
              "      <td>145</td>\n",
              "      <td>33</td>\n",
              "      <td>4</td>\n",
              "    </tr>\n",
              "    <tr>\n",
              "      <th>6</th>\n",
              "      <td>5</td>\n",
              "      <td>69</td>\n",
              "      <td>172</td>\n",
              "      <td>186</td>\n",
              "      <td>167</td>\n",
              "      <td>39</td>\n",
              "    </tr>\n",
              "    <tr>\n",
              "      <th>7</th>\n",
              "      <td>0</td>\n",
              "      <td>3</td>\n",
              "      <td>14</td>\n",
              "      <td>35</td>\n",
              "      <td>107</td>\n",
              "      <td>40</td>\n",
              "    </tr>\n",
              "    <tr>\n",
              "      <th>8</th>\n",
              "      <td>0</td>\n",
              "      <td>0</td>\n",
              "      <td>0</td>\n",
              "      <td>0</td>\n",
              "      <td>2</td>\n",
              "      <td>16</td>\n",
              "    </tr>\n",
              "  </tbody>\n",
              "</table>\n",
              "</div>"
            ],
            "text/plain": [
              "    3    4    5    6    7   8\n",
              "3   7    2    1    0    0   0\n",
              "4   9   26   16    2    0   0\n",
              "5  43  154  302  145   33   4\n",
              "6   5   69  172  186  167  39\n",
              "7   0    3   14   35  107  40\n",
              "8   0    0    0    0    2  16"
            ]
          },
          "metadata": {
            "tags": []
          },
          "execution_count": 147
        }
      ]
    },
    {
      "cell_type": "code",
      "metadata": {
        "colab": {
          "base_uri": "https://localhost:8080/",
          "height": 281
        },
        "id": "IKJO3lFCXOpB",
        "outputId": "de55a221-26e2-472d-986f-6dbf15d79ebe"
      },
      "source": [
        "white_pred=np.round(MODEL_NN_white(X_white_torch).cpu().detach().numpy())[:,0]\n",
        "white_pred=np.where(white_pred >=8.0, 8, white_pred)\n",
        "white_pred=np.where(white_pred <=3.0, 3, white_pred)\n",
        "white_confusion=confusion_matrix(Y_white_torch.cpu().detach().numpy(), white_pred)\n",
        "white_confusion=pd.DataFrame(white_confusion,index=white_class,columns=white_class) \n",
        "print(\"Confusion Matrix for White Wine (T=0.5)\")\n",
        "\n",
        "white_confusion "
      ],
      "execution_count": 148,
      "outputs": [
        {
          "output_type": "stream",
          "text": [
            "Confusion Matrix for White Wine (T=0.5)\n"
          ],
          "name": "stdout"
        },
        {
          "output_type": "execute_result",
          "data": {
            "text/html": [
              "<div>\n",
              "<style scoped>\n",
              "    .dataframe tbody tr th:only-of-type {\n",
              "        vertical-align: middle;\n",
              "    }\n",
              "\n",
              "    .dataframe tbody tr th {\n",
              "        vertical-align: top;\n",
              "    }\n",
              "\n",
              "    .dataframe thead th {\n",
              "        text-align: right;\n",
              "    }\n",
              "</style>\n",
              "<table border=\"1\" class=\"dataframe\">\n",
              "  <thead>\n",
              "    <tr style=\"text-align: right;\">\n",
              "      <th></th>\n",
              "      <th>3</th>\n",
              "      <th>4</th>\n",
              "      <th>5</th>\n",
              "      <th>6</th>\n",
              "      <th>7</th>\n",
              "      <th>8</th>\n",
              "      <th>9</th>\n",
              "    </tr>\n",
              "  </thead>\n",
              "  <tbody>\n",
              "    <tr>\n",
              "      <th>3</th>\n",
              "      <td>16</td>\n",
              "      <td>0</td>\n",
              "      <td>3</td>\n",
              "      <td>1</td>\n",
              "      <td>0</td>\n",
              "      <td>0</td>\n",
              "      <td>0</td>\n",
              "    </tr>\n",
              "    <tr>\n",
              "      <th>4</th>\n",
              "      <td>61</td>\n",
              "      <td>35</td>\n",
              "      <td>47</td>\n",
              "      <td>9</td>\n",
              "      <td>11</td>\n",
              "      <td>0</td>\n",
              "      <td>0</td>\n",
              "    </tr>\n",
              "    <tr>\n",
              "      <th>5</th>\n",
              "      <td>143</td>\n",
              "      <td>263</td>\n",
              "      <td>651</td>\n",
              "      <td>289</td>\n",
              "      <td>88</td>\n",
              "      <td>23</td>\n",
              "      <td>0</td>\n",
              "    </tr>\n",
              "    <tr>\n",
              "      <th>6</th>\n",
              "      <td>83</td>\n",
              "      <td>186</td>\n",
              "      <td>618</td>\n",
              "      <td>625</td>\n",
              "      <td>483</td>\n",
              "      <td>203</td>\n",
              "      <td>0</td>\n",
              "    </tr>\n",
              "    <tr>\n",
              "      <th>7</th>\n",
              "      <td>24</td>\n",
              "      <td>30</td>\n",
              "      <td>91</td>\n",
              "      <td>207</td>\n",
              "      <td>300</td>\n",
              "      <td>228</td>\n",
              "      <td>0</td>\n",
              "    </tr>\n",
              "    <tr>\n",
              "      <th>8</th>\n",
              "      <td>5</td>\n",
              "      <td>3</td>\n",
              "      <td>9</td>\n",
              "      <td>21</td>\n",
              "      <td>68</td>\n",
              "      <td>69</td>\n",
              "      <td>0</td>\n",
              "    </tr>\n",
              "    <tr>\n",
              "      <th>9</th>\n",
              "      <td>0</td>\n",
              "      <td>0</td>\n",
              "      <td>0</td>\n",
              "      <td>0</td>\n",
              "      <td>0</td>\n",
              "      <td>5</td>\n",
              "      <td>0</td>\n",
              "    </tr>\n",
              "  </tbody>\n",
              "</table>\n",
              "</div>"
            ],
            "text/plain": [
              "     3    4    5    6    7    8  9\n",
              "3   16    0    3    1    0    0  0\n",
              "4   61   35   47    9   11    0  0\n",
              "5  143  263  651  289   88   23  0\n",
              "6   83  186  618  625  483  203  0\n",
              "7   24   30   91  207  300  228  0\n",
              "8    5    3    9   21   68   69  0\n",
              "9    0    0    0    0    0    5  0"
            ]
          },
          "metadata": {
            "tags": []
          },
          "execution_count": 148
        }
      ]
    },
    {
      "cell_type": "code",
      "metadata": {
        "colab": {
          "base_uri": "https://localhost:8080/",
          "height": 298
        },
        "id": "VM6lKYlwXSgl",
        "outputId": "514e418f-7077-403f-f960-205f669288e8"
      },
      "source": [
        "red_precision=pd.DataFrame(index=red_class,columns=[\"T=0.5 (%)\",\"T=1.0 (%)\"])\n",
        "for i,c in enumerate(red_class):\n",
        "    label=Y_red_torch[Y_red_torch==red_class[i]]\n",
        "    predictor=X_red_torch[(Y_red_torch==red_class[i])[:,0],:]\n",
        "    pre1=100*TEST_NN(MODEL_NN_red,predictor,label,T_list=[0.5])[\"accuracy_list\"][0]\n",
        "    pre2=100*TEST_NN(MODEL_NN_red,predictor,label,T_list=[1.0])[\"accuracy_list\"][0]\n",
        "    red_precision.at[c, \"T=0.5 (%)\"] = pre1\n",
        "    red_precision.at[c, \"T=1.0 (%)\"] = pre2\n",
        "\n",
        "overall=pd.DataFrame(index=[\"Overall\"],columns=[\"T=0.5 (%)\",\"T=1.0 (%)\"])\n",
        "pre1=100*TEST_NN(MODEL_NN_red,X_red_torch,Y_red_torch[:,0],T_list=[0.5])[\"accuracy_list\"][0]\n",
        "pre2=100*TEST_NN(MODEL_NN_red,X_red_torch,Y_red_torch[:,0],T_list=[1.0])[\"accuracy_list\"][0]\n",
        "overall.at[\"Overall\", \"T=0.5 (%)\"] = pre1\n",
        "overall.at[\"Overall\", \"T=1.0 (%)\"] = pre2\n",
        "print(\"Precision for different classes \\n (Red Wine)\")\n",
        "\n",
        "red_precision.append(overall)"
      ],
      "execution_count": 149,
      "outputs": [
        {
          "output_type": "stream",
          "text": [
            "Precision for different classes \n",
            " (Red Wine)\n"
          ],
          "name": "stdout"
        },
        {
          "output_type": "execute_result",
          "data": {
            "text/html": [
              "<div>\n",
              "<style scoped>\n",
              "    .dataframe tbody tr th:only-of-type {\n",
              "        vertical-align: middle;\n",
              "    }\n",
              "\n",
              "    .dataframe tbody tr th {\n",
              "        vertical-align: top;\n",
              "    }\n",
              "\n",
              "    .dataframe thead th {\n",
              "        text-align: right;\n",
              "    }\n",
              "</style>\n",
              "<table border=\"1\" class=\"dataframe\">\n",
              "  <thead>\n",
              "    <tr style=\"text-align: right;\">\n",
              "      <th></th>\n",
              "      <th>T=0.5 (%)</th>\n",
              "      <th>T=1.0 (%)</th>\n",
              "    </tr>\n",
              "  </thead>\n",
              "  <tbody>\n",
              "    <tr>\n",
              "      <th>3</th>\n",
              "      <td>70</td>\n",
              "      <td>80</td>\n",
              "    </tr>\n",
              "    <tr>\n",
              "      <th>4</th>\n",
              "      <td>49.0566</td>\n",
              "      <td>83.0189</td>\n",
              "    </tr>\n",
              "    <tr>\n",
              "      <th>5</th>\n",
              "      <td>44.3465</td>\n",
              "      <td>74.3025</td>\n",
              "    </tr>\n",
              "    <tr>\n",
              "      <th>6</th>\n",
              "      <td>29.1536</td>\n",
              "      <td>60.5016</td>\n",
              "    </tr>\n",
              "    <tr>\n",
              "      <th>7</th>\n",
              "      <td>53.7688</td>\n",
              "      <td>81.9095</td>\n",
              "    </tr>\n",
              "    <tr>\n",
              "      <th>8</th>\n",
              "      <td>83.3333</td>\n",
              "      <td>100</td>\n",
              "    </tr>\n",
              "    <tr>\n",
              "      <th>Overall</th>\n",
              "      <td>40.2126</td>\n",
              "      <td>70.3565</td>\n",
              "    </tr>\n",
              "  </tbody>\n",
              "</table>\n",
              "</div>"
            ],
            "text/plain": [
              "        T=0.5 (%) T=1.0 (%)\n",
              "3              70        80\n",
              "4         49.0566   83.0189\n",
              "5         44.3465   74.3025\n",
              "6         29.1536   60.5016\n",
              "7         53.7688   81.9095\n",
              "8         83.3333       100\n",
              "Overall   40.2126   70.3565"
            ]
          },
          "metadata": {
            "tags": []
          },
          "execution_count": 149
        }
      ]
    },
    {
      "cell_type": "code",
      "metadata": {
        "colab": {
          "base_uri": "https://localhost:8080/",
          "height": 329
        },
        "id": "SZ4kzUQdXWTJ",
        "outputId": "1a91f114-90f3-4ea4-c700-06e256035524"
      },
      "source": [
        "white_precision=pd.DataFrame(index=white_class,columns=[\"T=0.5 (%)\",\"T=1.0 (%)\"])\n",
        "for i,c in enumerate(white_class):\n",
        "    label=Y_white_torch[Y_white_torch==white_class[i]]\n",
        "    predictor=X_white_torch[(Y_white_torch==white_class[i])[:,0],:]\n",
        "    pre1=100*TEST_NN(MODEL_NN_white,predictor,label,T_list=[0.5])[\"accuracy_list\"][0]\n",
        "    pre2=100*TEST_NN(MODEL_NN_white,predictor,label,T_list=[1.0])[\"accuracy_list\"][0]\n",
        "    white_precision.at[c, \"T=0.5 (%)\"] = pre1\n",
        "    white_precision.at[c, \"T=1.0 (%)\"] = pre2\n",
        "\n",
        "overall=pd.DataFrame(index=[\"Overall\"],columns=[\"T=0.5 (%)\",\"T=1.0 (%)\"])\n",
        "pre1=100*TEST_NN(MODEL_NN_white,X_white_torch,Y_white_torch[:,0],T_list=[0.5])[\"accuracy_list\"][0]\n",
        "pre2=100*TEST_NN(MODEL_NN_white,X_white_torch,Y_white_torch[:,0],T_list=[1.0])[\"accuracy_list\"][0]\n",
        "overall.at[\"Overall\", \"T=0.5 (%)\"] = pre1\n",
        "overall.at[\"Overall\", \"T=1.0 (%)\"] = pre2\n",
        "print(\"Precision for different classes \\n (White Wine)\")\n",
        "\n",
        "white_precision.append(overall)"
      ],
      "execution_count": 150,
      "outputs": [
        {
          "output_type": "stream",
          "text": [
            "Precision for different classes \n",
            " (White Wine)\n"
          ],
          "name": "stdout"
        },
        {
          "output_type": "execute_result",
          "data": {
            "text/html": [
              "<div>\n",
              "<style scoped>\n",
              "    .dataframe tbody tr th:only-of-type {\n",
              "        vertical-align: middle;\n",
              "    }\n",
              "\n",
              "    .dataframe tbody tr th {\n",
              "        vertical-align: top;\n",
              "    }\n",
              "\n",
              "    .dataframe thead th {\n",
              "        text-align: right;\n",
              "    }\n",
              "</style>\n",
              "<table border=\"1\" class=\"dataframe\">\n",
              "  <thead>\n",
              "    <tr style=\"text-align: right;\">\n",
              "      <th></th>\n",
              "      <th>T=0.5 (%)</th>\n",
              "      <th>T=1.0 (%)</th>\n",
              "    </tr>\n",
              "  </thead>\n",
              "  <tbody>\n",
              "    <tr>\n",
              "      <th>3</th>\n",
              "      <td>40</td>\n",
              "      <td>55</td>\n",
              "    </tr>\n",
              "    <tr>\n",
              "      <th>4</th>\n",
              "      <td>21.4724</td>\n",
              "      <td>44.7853</td>\n",
              "    </tr>\n",
              "    <tr>\n",
              "      <th>5</th>\n",
              "      <td>44.6808</td>\n",
              "      <td>68.5655</td>\n",
              "    </tr>\n",
              "    <tr>\n",
              "      <th>6</th>\n",
              "      <td>28.4349</td>\n",
              "      <td>56.9609</td>\n",
              "    </tr>\n",
              "    <tr>\n",
              "      <th>7</th>\n",
              "      <td>34.0909</td>\n",
              "      <td>61.4773</td>\n",
              "    </tr>\n",
              "    <tr>\n",
              "      <th>8</th>\n",
              "      <td>29.1429</td>\n",
              "      <td>56</td>\n",
              "    </tr>\n",
              "    <tr>\n",
              "      <th>9</th>\n",
              "      <td>60</td>\n",
              "      <td>80</td>\n",
              "    </tr>\n",
              "    <tr>\n",
              "      <th>Overall</th>\n",
              "      <td>34.1568</td>\n",
              "      <td>60.8003</td>\n",
              "    </tr>\n",
              "  </tbody>\n",
              "</table>\n",
              "</div>"
            ],
            "text/plain": [
              "        T=0.5 (%) T=1.0 (%)\n",
              "3              40        55\n",
              "4         21.4724   44.7853\n",
              "5         44.6808   68.5655\n",
              "6         28.4349   56.9609\n",
              "7         34.0909   61.4773\n",
              "8         29.1429        56\n",
              "9              60        80\n",
              "Overall   34.1568   60.8003"
            ]
          },
          "metadata": {
            "tags": []
          },
          "execution_count": 150
        }
      ]
    },
    {
      "cell_type": "markdown",
      "metadata": {
        "id": "upnLJnef9f0X"
      },
      "source": [
        "# To Be Continuted Conclusion"
      ]
    },
    {
      "cell_type": "markdown",
      "metadata": {
        "id": "T2C0M0pLYT5Z"
      },
      "source": [
        "The Neural Network architecture is sick"
      ]
    },
    {
      "cell_type": "code",
      "metadata": {
        "id": "u1r6M6OrYTQe"
      },
      "source": [
        ""
      ],
      "execution_count": 150,
      "outputs": []
    }
  ]
}